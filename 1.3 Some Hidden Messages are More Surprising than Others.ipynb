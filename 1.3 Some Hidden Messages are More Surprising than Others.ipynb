{
 "metadata": {
  "name": "",
  "signature": "sha256:b5b751b180ac1b897d2d664b601f56b6f5b83ce6f40dc34b34f3fd2d8a7b12ec"
 },
 "nbformat": 3,
 "nbformat_minor": 0,
 "worksheets": [
  {
   "cells": [
    {
     "cell_type": "markdown",
     "metadata": {},
     "source": [
      "# Reverse Complement\n",
      "\n",
      "Given a nucleotide p, we denote its complementary nucleotide as p. The reverse complement of a string Pattern = p1\u2026pn is the string Pattern = pn \u2026 p1 formed by taking the complement of each nucleotide in Pattern, then reversing the resulting string. We will need the solution to the following problem throughout the book:\n",
      "\n",
      "Reverse Complement Problem: Find the reverse complement of a DNA string.\n",
      "     Input: A DNA string Pattern.\n",
      "     Output: Pattern, the reverse complement of Pattern."
     ]
    },
    {
     "cell_type": "code",
     "collapsed": false,
     "input": [
      "# had issues with Python string is immutable\n",
      "# and could not use \"string assignment\"\n",
      "# therefore needed to backwards process input text\n",
      "# and append to a new output text\n",
      "\n",
      "def ReverseComplement(Text):\n",
      "    Text = str.upper(Text)\n",
      "    n = len(Text)\n",
      "    temp = list()\n",
      "    \n",
      "    for i in range(0, n):\n",
      "        n = n - 1\n",
      "        if Text[n] == 'A':\n",
      "            temp.append('T')\n",
      "        elif Text[n] == 'T': \n",
      "            temp.append('A')\n",
      "        elif Text[n] == 'C': \n",
      "            temp.append('G')\n",
      "        elif Text[n] == 'G': \n",
      "            temp.append('C')\n",
      "            \n",
      "    # convert list to string        \n",
      "    RevComp = s = ''.join(temp)        \n",
      "    return RevComp"
     ],
     "language": "python",
     "metadata": {},
     "outputs": [],
     "prompt_number": 85
    },
    {
     "cell_type": "code",
     "collapsed": false,
     "input": [
      "text = 'AAAACCCGGT'\n",
      "ReverseComplement(text)"
     ],
     "language": "python",
     "metadata": {},
     "outputs": [
      {
       "metadata": {},
       "output_type": "pyout",
       "prompt_number": 86,
       "text": [
        "'ACCGGGTTTT'"
       ]
      }
     ],
     "prompt_number": 86
    },
    {
     "cell_type": "markdown",
     "metadata": {},
     "source": [
      "Look again at the *four most frequent 9-mers in the oriC of Vibrio cholerae* (shown below): \n",
      "        ATGATCAAG, CTTGATCAT, TCTTGATCA, and CTCTTGATC."
     ]
    },
    {
     "cell_type": "code",
     "collapsed": false,
     "input": [
      "# Same 9-mer\n",
      "text = 'ATGATCAAG'\n",
      "ReverseComplement(text)"
     ],
     "language": "python",
     "metadata": {},
     "outputs": [
      {
       "metadata": {},
       "output_type": "pyout",
       "prompt_number": 94,
       "text": [
        "'CTTGATCAT'"
       ]
      }
     ],
     "prompt_number": 94
    },
    {
     "cell_type": "code",
     "collapsed": false,
     "input": [
      "# Same 9-mer (reverse complement)\n",
      "text = 'CTTGATCAT'\n",
      "ReverseComplement(text)"
     ],
     "language": "python",
     "metadata": {},
     "outputs": [
      {
       "metadata": {},
       "output_type": "pyout",
       "prompt_number": 91,
       "text": [
        "'ATGATCAAG'"
       ]
      }
     ],
     "prompt_number": 91
    },
    {
     "cell_type": "code",
     "collapsed": false,
     "input": [
      "# unique 9-mer\n",
      "text = 'TCTTGATCA'\n",
      "ReverseComplement(text)"
     ],
     "language": "python",
     "metadata": {},
     "outputs": [
      {
       "metadata": {},
       "output_type": "pyout",
       "prompt_number": 92,
       "text": [
        "'TGATCAAGA'"
       ]
      }
     ],
     "prompt_number": 92
    },
    {
     "cell_type": "code",
     "collapsed": false,
     "input": [
      "# unique 9-mer\n",
      "text = 'CTCTTGATC'\n",
      "ReverseComplement(text)"
     ],
     "language": "python",
     "metadata": {},
     "outputs": [
      {
       "metadata": {},
       "output_type": "pyout",
       "prompt_number": 93,
       "text": [
        "'GATCAAGAG'"
       ]
      }
     ],
     "prompt_number": 93
    },
    {
     "cell_type": "markdown",
     "metadata": {},
     "source": [
      "Finding a 9-mer that appears six or more times (either as itself or as its reverse complement) in a DNA string of length 500 is far more surprising than finding a 9-mer that appears three or more times. This statistical evidence leads us to the working hypothesis that ATGATCAAG and its reverse complement CTTGATCAT indeed represent DnaA boxes in Vibrio cholerae. This computational conclusion makes sense biologically because the DnaA protein that binds to DnaA boxes and initiates replication does not care which of the two strands it binds to. For our purposes, both ATGATCAAG or CTTGATCAT represent DnaA boxes.\n",
      "\n",
      "However, before concluding that we have found the DnaA box of Vibrio cholerae, the careful bioinformatician should check if there are other short regions in the Vibrio cholerae genome exhibiting multiple occurrences of ATGATCAAG (or CTTGATCAT). After all, maybe these strings occur as repeats throughout the entire Vibrio cholerae genome, rather than just in the oriC region. To this end, we need to solve the following problem."
     ]
    },
    {
     "cell_type": "markdown",
     "metadata": {},
     "source": [
      "Pattern Matching Problem: Find all occurrences of a pattern in a string.\n",
      "     Input: Strings Pattern and Genome.\n",
      "     Output: All starting positions in Genome where Pattern appears as a substring.\n",
      "\n",
      "Sample Input:\n",
      "     ATAT\n",
      "     GATATATGCATATACTT\n",
      "\n",
      "Sample Output:\n",
      "     1 3 9"
     ]
    },
    {
     "cell_type": "markdown",
     "metadata": {},
     "source": [
      "##Pattern Match"
     ]
    },
    {
     "cell_type": "code",
     "collapsed": false,
     "input": [
      "Pattern = 'ATAT'\n",
      "Text = 'GATATATGCATATACTT'"
     ],
     "language": "python",
     "metadata": {},
     "outputs": [],
     "prompt_number": 95
    },
    {
     "cell_type": "code",
     "collapsed": false,
     "input": [
      "# PatternMatch\n",
      "# Find all occurrences of a pattern in a string.\n",
      "#     Input: Two strings, Pattern and Genome.\n",
      "#     Output: List of All starting positions where Pattern\n",
      "#             appears as a substring of Genome.\n",
      "\n",
      "def PatternMatch(Pattern, Genome):\n",
      "    location = list()\n",
      "    for i in range(0, len(Genome) - len(Pattern)):\n",
      "        scan = Genome[i:i+len(Pattern)]\n",
      "        if scan == Pattern:\n",
      "            location.append(i)\n",
      "    return location"
     ],
     "language": "python",
     "metadata": {},
     "outputs": [],
     "prompt_number": 104
    },
    {
     "cell_type": "code",
     "collapsed": false,
     "input": [
      "pattern = 'ATAT'\n",
      "genome = 'GATATATGCATATACTT'\n",
      "PatternMatch(pattern, genome)\n"
     ],
     "language": "python",
     "metadata": {},
     "outputs": [
      {
       "metadata": {},
       "output_type": "pyout",
       "prompt_number": 105,
       "text": [
        "[1, 3, 9]"
       ]
      }
     ],
     "prompt_number": 105
    },
    {
     "cell_type": "code",
     "collapsed": false,
     "input": [],
     "language": "python",
     "metadata": {},
     "outputs": []
    }
   ],
   "metadata": {}
  }
 ]
}