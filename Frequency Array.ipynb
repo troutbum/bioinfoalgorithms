{
 "metadata": {
  "name": "",
  "signature": "sha256:811e517ea644b3453654f2d0fe44ebf37d28419cdefa2b26ac778da4fa329296"
 },
 "nbformat": 3,
 "nbformat_minor": 0,
 "worksheets": [
  {
   "cells": [
    {
     "cell_type": "markdown",
     "metadata": {},
     "source": [
      "To make FrequentWords faster, we will think about why this algorithm is slow in the first place. It slides a window of length k down the length of Text, identifying a k mer Pattern of Text at each step. For each such k-mer, it must then slide a window down the entire length of Text in order to compute PatternCount(Text, Pattern). Instead of doing all this sliding, we aspire to slide a window down Text only once. As we slide this window, we will keep track of the number of times that each k-mer Pattern has already appeared in Text, updating these numbers as we proceed.\n",
      "\n",
      "To achieve this goal, we will first order all 4k k-mers lexicographically (i.e., according to how they would appear in the dictionary) and then convert them into the 4k different integers between 0 and 4k \u2212 1. Given an integer k, we define the frequency array of a string Text as an array of length 4k, where the i-th element of the array holds the number of times that the i-th k-mer (in the lexicographic order) appears in Text (see figure below).\n",
      "\n",
      "\n",
      "\n",
      "\n",
      "           The lexicographic order of DNA 2-mers (top), along with the index of each k-mer in this order (middle),\n",
      "           and the frequency array for AAGCAAAGGTGGG (bottom).\n",
      "\n",
      "\n",
      "To compute the frequency array, we need to determine how to transform a k-mer Pattern into an integer using a function PatternToNumber(Pattern). We also should know how to reverse this process, transforming an integer between 0 and 4k \u2212 1 into a k-mer using a function NumberToPattern(index, k). In the figure above, we can see that PatternToNumber(GT) = 11 and NumberToPattern(11, 2) = GT."
     ]
    },
    {
     "cell_type": "markdown",
     "metadata": {},
     "source": [
      "## PatternToNumber(text)"
     ]
    },
    {
     "cell_type": "code",
     "collapsed": false,
     "input": [
      "def PatternToNumber(text):\n",
      "# transform a k-mer Pattern into an integer\n",
      "    \n",
      "    import numpy as np\n",
      "\n",
      "    length = len(text)\n",
      "    x1 = range(length)\n",
      "    exp = np.power(4, x1)\n",
      "\n",
      "    output = 0\n",
      "    k = length - 1\n",
      "\n",
      "    for i in range(0, length):  \n",
      "        if text[i] == 'A':\n",
      "            digit = 0\n",
      "        elif text[i] == 'C':\n",
      "            digit = 1\n",
      "        elif text[i] == 'G':\n",
      "            digit = 2\n",
      "        else:\n",
      "            digit = 3      \n",
      "        output = output + digit*exp[k]\n",
      "        k = k - 1\n",
      "    \n",
      "    return output  "
     ],
     "language": "python",
     "metadata": {},
     "outputs": [],
     "prompt_number": 1
    },
    {
     "cell_type": "code",
     "collapsed": false,
     "input": [
      "text = 'ATGCAA'\n",
      "PatternToNumber(text)  # 912"
     ],
     "language": "python",
     "metadata": {},
     "outputs": [
      {
       "metadata": {},
       "output_type": "pyout",
       "prompt_number": 2,
       "text": [
        "912"
       ]
      }
     ],
     "prompt_number": 2
    },
    {
     "cell_type": "markdown",
     "metadata": {},
     "source": [
      "##NumberToPattern(index, k)"
     ]
    },
    {
     "cell_type": "code",
     "collapsed": false,
     "input": [
      "def NumberToPattern(index, k):\n",
      "# transform an integer between 0 and 4k \u2212 1 into a k-mer\n",
      "    \n",
      "    import numpy as np\n",
      "    \n",
      "    remains = index\n",
      "    length = k\n",
      "    \n",
      "    x1 = range(k)\n",
      "    exp = np.power(4, x1)\n",
      "    pattern = ''\n",
      "       \n",
      "    while len(pattern) < length:   \n",
      "        k = k - 1\n",
      "        if remains >= 3*exp[k]:\n",
      "            pattern = pattern + 'T'\n",
      "            remains = remains - 3*exp[k]\n",
      "        elif remains >= 2*exp[k]:\n",
      "            pattern = pattern + 'G'\n",
      "            remains = remains - 2*exp[k]\n",
      "        elif remains >=  exp[k]:\n",
      "            pattern = pattern + 'C'\n",
      "            remains = remains - exp[k]  \n",
      "        else:\n",
      "            pattern = pattern + 'A'\n",
      "        \n",
      "    return pattern    "
     ],
     "language": "python",
     "metadata": {},
     "outputs": [],
     "prompt_number": 3
    },
    {
     "cell_type": "code",
     "collapsed": false,
     "input": [
      "NumberToPattern(5437, 7)  # CCCATTC"
     ],
     "language": "python",
     "metadata": {},
     "outputs": [
      {
       "metadata": {},
       "output_type": "pyout",
       "prompt_number": 4,
       "text": [
        "'CCCATTC'"
       ]
      }
     ],
     "prompt_number": 4
    },
    {
     "cell_type": "code",
     "collapsed": false,
     "input": [
      "text = NumberToPattern(5437, 7)  # CCCATTC\n",
      "print text\n",
      "\n",
      "PatternToNumber(text) # now reverse - 5437\n"
     ],
     "language": "python",
     "metadata": {},
     "outputs": [
      {
       "output_type": "stream",
       "stream": "stdout",
       "text": [
        "CCCATTC\n"
       ]
      },
      {
       "metadata": {},
       "output_type": "pyout",
       "prompt_number": 5,
       "text": [
        "5437"
       ]
      }
     ],
     "prompt_number": 5
    },
    {
     "cell_type": "code",
     "collapsed": false,
     "input": [
      "PatternToNumber('ATGCAA') # 912"
     ],
     "language": "python",
     "metadata": {},
     "outputs": [
      {
       "metadata": {},
       "output_type": "pyout",
       "prompt_number": 6,
       "text": [
        "912"
       ]
      }
     ],
     "prompt_number": 6
    },
    {
     "cell_type": "code",
     "collapsed": false,
     "input": [
      "NumberToPattern(5437, 8) # ACCCATTC"
     ],
     "language": "python",
     "metadata": {},
     "outputs": [
      {
       "metadata": {},
       "output_type": "pyout",
       "prompt_number": 7,
       "text": [
        "'ACCCATTC'"
       ]
      }
     ],
     "prompt_number": 7
    },
    {
     "cell_type": "markdown",
     "metadata": {},
     "source": [
      "The pseudocode below generates a frequency array by first initializing every element in the frequency array to zero (4k operations) and then making a single pass down Text (approximately |Text| \u00b7 k operations). For each k-mer Pattern that we encounter, we add 1 to the value of the array corresponding to Pattern. As before, we refer to the k-mer beginning at position i of Text as Text(i, k)."
     ]
    },
    {
     "cell_type": "markdown",
     "metadata": {},
     "source": [
      " ComputingFrequencies(Text , k)\n",
      "        for i \u2190 0 to 4k \u2212 1\n",
      "            FrequencyArray(i) \u2190 0\n",
      "        for i \u2190 0 to |Text| \u2212 k\n",
      "            Pattern \u2190 Text(i, k)\n",
      "            j \u2190 PatternToNumber(Pattern)\n",
      "            FrequencyArray(j) \u2190 FrequencyArray(j) + 1\n",
      "        return FrequencyArray"
     ]
    },
    {
     "cell_type": "markdown",
     "metadata": {},
     "source": [
      "##ComputingFrequencies(Text, k)"
     ]
    },
    {
     "cell_type": "code",
     "collapsed": false,
     "input": [
      "def ComputingFrequencies(Text, k):\n",
      "# frequency array of patterns encountered in Text\n",
      "# k-mer is encoded into array index using PatternToNumber()\n",
      "    \n",
      "    FreqArray = [0] * (4**k)\n",
      "    \n",
      "    for i in range(0, len(Text) - k + 1): # need to add + 1 for Python\n",
      "        Pattern = Text[i:i+k]\n",
      "        j = PatternToNumber(Pattern)\n",
      "        FreqArray[j] = FreqArray[j] + 1        \n",
      "    return FreqArray\n"
     ],
     "language": "python",
     "metadata": {},
     "outputs": [],
     "prompt_number": 147
    },
    {
     "cell_type": "code",
     "collapsed": false,
     "input": [
      "Text = 'TATGTGCAGCGCCGCGACCAAGCAGTTCAGGTATGAGTTCCTCGCGTCCAGGTTGGGAGGTCAACATGGTGCGCATTTTGTGCAACTAAACGTGAGGACCCGCGACTGACCATCCGTCCCCTCTAACTACCAGCTCTCTATAATGAAGATCCGTCACGAGAACACCCGCAGGATCGATTCATCATATCTTTCAGTGCAGTAAGCCTTGTAATATCCTGGCAAGACCGGAGTGTGGTAGCAGTCAACAATACAAGGTATGCGTTCACTCGAGCAGGAGCTCGAAGCAATAGGTACATCGGTAGTCGGATCAATGCCGCAGTTATACGCAACCAAGCTAGAATCAAACACGTCTCTCCTTTCCTTTTTCACTAAATCAAAACTTCAAAGACTGCATTAACGCGTCCCCAGATTAAACGCTTCAAATTCCCGAGGGAAGATGCCAGCGAGATCCTGTTTGGCATGTATATCCTGAGAGGGGAGGATAAGCTCAAGGGCGCAAACTGGACCACGCCGTGAATGAGAGCTGGCGTAAAACCCATACTTGCGACGGGAACCTGTTAGTCTAGACCCGAAGCCGGTATTAAAGTGGTGTACAACGCACGGCGAGTAATCCAGGAGGTCGTCGCCCTCGTGAAATGGCCGCTTTATACACGCCTTATAAGATCTAGTCGAAATTGGGCTAGTATGATATGGAAGCAGATATAGTCTCACTAGTCGCGCCTTCGACCTCCTTCTTATAATCCGCAATGATGATACCCCTTGGTCTTACCCTAAATGGGC'\n",
      "k = 5\n",
      "ans = ComputingFrequencies(Text, k)"
     ],
     "language": "python",
     "metadata": {},
     "outputs": [],
     "prompt_number": 148
    },
    {
     "cell_type": "code",
     "collapsed": false,
     "input": [
      "len(ans)"
     ],
     "language": "python",
     "metadata": {},
     "outputs": [
      {
       "metadata": {},
       "output_type": "pyout",
       "prompt_number": 149,
       "text": [
        "1024"
       ]
      }
     ],
     "prompt_number": 149
    },
    {
     "cell_type": "code",
     "collapsed": false,
     "input": [
      "# output to a file\n",
      "f = open('z_freq_array.txt','w')\n",
      "\n",
      "for item in ans:\n",
      "    f.write(str(item) + \" \")\n",
      "\n",
      "f.close()"
     ],
     "language": "python",
     "metadata": {},
     "outputs": [],
     "prompt_number": 150
    },
    {
     "cell_type": "code",
     "collapsed": false,
     "input": [
      "# max frequency, need to watch for more than 1\n",
      "max(ans)"
     ],
     "language": "python",
     "metadata": {},
     "outputs": [
      {
       "metadata": {},
       "output_type": "pyout",
       "prompt_number": 141,
       "text": [
        "3"
       ]
      }
     ],
     "prompt_number": 141
    },
    {
     "cell_type": "code",
     "collapsed": false,
     "input": [
      "# index of max\n",
      "ans.index(max(ans))"
     ],
     "language": "python",
     "metadata": {},
     "outputs": [
      {
       "metadata": {},
       "output_type": "pyout",
       "prompt_number": 142,
       "text": [
        "78"
       ]
      }
     ],
     "prompt_number": 142
    },
    {
     "cell_type": "code",
     "collapsed": false,
     "input": [
      "# convert to word\n",
      "NumberToPattern(78, 4)"
     ],
     "language": "python",
     "metadata": {},
     "outputs": [
      {
       "metadata": {},
       "output_type": "pyout",
       "prompt_number": 143,
       "text": [
        "'CATG'"
       ]
      }
     ],
     "prompt_number": 143
    },
    {
     "cell_type": "code",
     "collapsed": false,
     "input": [
      "# stupid string formatting\n",
      "#s = str(ans)\n",
      "#s = s.replace(',', '')\n",
      "#s = s.replace('[', '')\n",
      "#s = s.replace(']', '')"
     ],
     "language": "python",
     "metadata": {},
     "outputs": [],
     "prompt_number": 98
    }
   ],
   "metadata": {}
  }
 ]
}