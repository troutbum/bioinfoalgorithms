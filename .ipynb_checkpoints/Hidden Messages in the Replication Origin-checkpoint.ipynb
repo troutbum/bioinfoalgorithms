{
 "metadata": {
  "name": "",
  "signature": "sha256:1c44c414a063401bff7f4ed27ee6443ff193d686b2934ab7a4470bac0ee2d82e"
 },
 "nbformat": 3,
 "nbformat_minor": 0,
 "worksheets": [
  {
   "cells": [
    {
     "cell_type": "markdown",
     "metadata": {},
     "source": [
      "#Counting Words\n",
      "\n",
      "Operating under the assumption that DNA is a language of its own, let's borrow Legrand's method and see if we can find any surprisingly frequent \"words\" within the oriC of Vibrio cholerae. We have added reason to look for frequent words in the oriC because for various biological processes, certain nucleotide strings often appear surprisingly often in small regions of the genome. For example, ACTAT is a surprisingly frequent substring of ACAACTATGCATACTATCGGGAACTATCCT.\n",
      "\n",
      "We will use the term k-mer to refer to a string of length k and define Count(Text, Pattern) as the number of times that a k-mer Pattern appears as a substring of Text. Following the above example,\n",
      "Count(ACAACTATGCATACTATCGGGAACTATCCT, ACTAT) = 3.\n",
      "\n",
      "We note that Count(CGATATATCCATAG, ATA) is equal to 3 (not 2) since we should account for overlapping occurrences of Pattern in Text.\n",
      "\n",
      "To compute Count(Text, Pattern), our plan is to \u201cslide a window\u201d down Text, checking whether each k-mer substring of Text matches Pattern. We will therefore refer to the k-mer starting at position i of Text as Text(i, k). Throughout this book, we will often use 0-based indexing, meaning that we count starting at 0 instead of 1. In this case, t Text begins at position 0 and ends at position |Text| \u2212 1 (|Text| denotes the number of symbols in Text). For example, if Text = GACCATACTG, then Text(4, 3) = ATA. Note that the last k-mer of Text begins at position |Text| \u2212 k, e.g., the last 3-mer of GACCATACTG starts at position 10 \u2212 3 = 7. This discussion results in the following pseudocode for computing Count(Text, Pattern). "
     ]
    },
    {
     "cell_type": "markdown",
     "metadata": {},
     "source": [
      "Import the sequence data:"
     ]
    },
    {
     "cell_type": "code",
     "collapsed": false,
     "input": [
      "import numpy as np"
     ],
     "language": "python",
     "metadata": {},
     "outputs": [],
     "prompt_number": 88
    },
    {
     "cell_type": "code",
     "collapsed": false,
     "input": [
      "#Import the sequence data\n",
      "text ='TTCCCTAAACCCTAAACCCTAAATTCCCTAAACCCCCTAAAGGGAATGTCCCTAAACGCCCTAAAGCCCCTAAATCCCTAAACCCTAAACCCTAAACCCCCTAAATAGCCCTAAATGGCCCTAAACCCTAAATCCCTAAAATAGCCCTAAATCCCTAAATACCCTAAACCCTAAATTTATACCCTAAAAGAGCTATTTCCCCCCCTAAAGAGCCCTAAAGAAGGCCAGCCCCTAAAGGCCCTAAACCCCTAAACCCTAAAACTATGACCCCTAAAACCCTAAACGAGCCCTAAATCCCTAAATCATTACCCCTAAATACCCTAAACCCCTAAACCCTAAAACCCTAAACCCTAAAGCCCTAAACCCTAAAACCCTAAACTAGCCCTAAAGAATCCCTAAATCCCTAAACCCTAAATCCCTAAACCCTAAAGACGCCCTAAACCCTAAACCCTAAACCCCTAAACCCTAAACCCCTAAACCCTAAAGCTCCCTAAAACCCTAAACCCTAAATCCCTAAACCCTAAACCCTAAACCCCTAAAATCCCTAAAAGAACCCTAAACCCCTAAAGTCCCTAAAATCCCTAAAGTTCCCTAAATTCCCTAAACCCTAAACGCCCTAAATCCCTAAAACCCTAAACGCTGATTCCCTAAACTGGCCCTAAACCCTAAACCCTAAACCCCCCTAAACCCTAAACCCTAAACACCCTAAACCCCTAAAACTATTCCCTAAACCCTAAACCCTAAACCCTAAAGGCCCCTAAACCCCTAAACCCTAAAGGGTCCGCCCTAAATCCCTAAAGCCACCCTAAATCATTGCCCTAAATTTGCCCTAAACCCTAAAGTCCCTAAACCCTAAAGGGCCCTAAATCCCTAAATACCCTAAATCCATCCCTAAACCCCTAAACCCTAAAGGGTCCCTAAACCCTAAACCCTAAACAATTGACTCCCTAAACCCCTAAACGGCCCCTAAACATGTGTAATCCCCTAAA'"
     ],
     "language": "python",
     "metadata": {},
     "outputs": [],
     "prompt_number": 89
    },
    {
     "cell_type": "code",
     "collapsed": false,
     "input": [
      "pattern = 'CCCTAAACC'"
     ],
     "language": "python",
     "metadata": {},
     "outputs": [],
     "prompt_number": 90
    },
    {
     "cell_type": "code",
     "collapsed": false,
     "input": [
      "#Check to see how many nucleotides\n",
      "len(text)"
     ],
     "language": "python",
     "metadata": {},
     "outputs": [
      {
       "metadata": {},
       "output_type": "pyout",
       "prompt_number": 91,
       "text": [
        "989"
       ]
      }
     ],
     "prompt_number": 91
    },
    {
     "cell_type": "markdown",
     "metadata": {},
     "source": [
      "CODE CHALLENGE: Implement PatternCount (reproduced below).\n",
      "\n",
      "     Input: Strings Text and Pattern.\n",
      "     Output: Count(Text, Pattern).\n",
      "\n",
      "PatternCount(Text, Pattern)\n",
      "        count \u2190 0\n",
      "        for i \u2190 0 to |Text| \u2212 |Pattern|\n",
      "            if Text(i, |Pattern|) = Pattern\n",
      "                count \u2190 count + 1\n",
      "        return count\n"
     ]
    },
    {
     "cell_type": "code",
     "collapsed": false,
     "input": [
      "# checking python grammar to detect a word\n",
      "i = 0\n",
      "scan= text[i:i+len(pattern)]\n",
      "print scan"
     ],
     "language": "python",
     "metadata": {},
     "outputs": [
      {
       "output_type": "stream",
       "stream": "stdout",
       "text": [
        "TTCCCTAAA\n"
       ]
      }
     ],
     "prompt_number": 92
    },
    {
     "cell_type": "code",
     "collapsed": false,
     "input": [
      "# my function\n",
      "def PatternCount(Text, Pattern):\n",
      "    count = 0\n",
      "    for i in range(0, len(Text) - len(Pattern)):\n",
      "        scan = Text[i:i+len(Pattern)]\n",
      "        if scan == Pattern:\n",
      "            count = count + 1       \n",
      "    return count       "
     ],
     "language": "python",
     "metadata": {},
     "outputs": [],
     "prompt_number": 93
    },
    {
     "cell_type": "code",
     "collapsed": false,
     "input": [
      "# solution detects 46 matches of this pattern\n",
      "PatternCount(text,pattern)"
     ],
     "language": "python",
     "metadata": {},
     "outputs": [
      {
       "metadata": {},
       "output_type": "pyout",
       "prompt_number": 94,
       "text": [
        "46"
       ]
      }
     ],
     "prompt_number": 94
    },
    {
     "cell_type": "markdown",
     "metadata": {},
     "source": [
      "A straightforward algorithm for finding the most frequent words in a string Text checks all k-mers appearing in this string (there are |Text| \u2212 k + 1 such k-mers) and then computes how many times each k-mer appears in Text. To implement this algorithm, called FrequentWords, we will need to generate an array Count, where Count(i) stores Count(Text, Pattern) for Pattern = Text(i, k)\n",
      "\n",
      "The pseudocode for FrequentWords is shown below.\n",
      "\n",
      "FrequentWords(Text, k)\n",
      "        FrequentPatterns \u2190 an empty set\n",
      "        for i \u2190 0 to |Text| \u2212 k\n",
      "            Pattern \u2190 the k-mer Text(i, k)\n",
      "            Count(i) \u2190 PatternCount(Text, Pattern)\n",
      "        maxCount \u2190 maximum value in array Count\n",
      "        for i \u2190 0 to |Text| \u2212 k\n",
      "            if Count(i) = maxCount\n",
      "                add Text(i, k) to FrequentPatterns\n",
      "        remove duplicates from FrequentPatterns\n",
      "        return FrequentPatterns"
     ]
    },
    {
     "cell_type": "code",
     "collapsed": false,
     "input": [
      "def FrequentWords(Text, k):\n",
      "    FrequentPatterns = list()\n",
      "    Count = np.zeros(len(Text))\n",
      "    # count k-mers\n",
      "    for i in range(0, len(Text) - k):\n",
      "        Pattern = Text[i:i+k]\n",
      "        Count[i] = PatternCount(Text, Pattern)\n",
      "    maxCount = max(Count)\n",
      "    \n",
      "    for i in range(0, len(Text) - k):\n",
      "        if Count[i] == maxCount:\n",
      "            FrequentPatterns.append(Text[i:i+k])\n",
      "    #remove duplicates        \n",
      "    return FrequentPatterns    "
     ],
     "language": "python",
     "metadata": {},
     "outputs": [],
     "prompt_number": 107
    },
    {
     "cell_type": "code",
     "collapsed": false,
     "input": [
      "FrequentWords(text, 3)"
     ],
     "language": "python",
     "metadata": {},
     "outputs": [
      {
       "ename": "AttributeError",
       "evalue": "'list' object has no attribute 'add'",
       "output_type": "pyerr",
       "traceback": [
        "\u001b[0;31m---------------------------------------------------------------------------\u001b[0m\n\u001b[0;31mAttributeError\u001b[0m                            Traceback (most recent call last)",
        "\u001b[0;32m<ipython-input-108-f7679c4de635>\u001b[0m in \u001b[0;36m<module>\u001b[0;34m()\u001b[0m\n\u001b[0;32m----> 1\u001b[0;31m \u001b[0mFrequentWords\u001b[0m\u001b[0;34m(\u001b[0m\u001b[0mtext\u001b[0m\u001b[0;34m,\u001b[0m \u001b[0;36m3\u001b[0m\u001b[0;34m)\u001b[0m\u001b[0;34m\u001b[0m\u001b[0m\n\u001b[0m",
        "\u001b[0;32m<ipython-input-107-888ef5ecc455>\u001b[0m in \u001b[0;36mFrequentWords\u001b[0;34m(Text, k)\u001b[0m\n\u001b[1;32m     10\u001b[0m     \u001b[0;32mfor\u001b[0m \u001b[0mi\u001b[0m \u001b[0;32min\u001b[0m \u001b[0mrange\u001b[0m\u001b[0;34m(\u001b[0m\u001b[0;36m0\u001b[0m\u001b[0;34m,\u001b[0m \u001b[0mlen\u001b[0m\u001b[0;34m(\u001b[0m\u001b[0mText\u001b[0m\u001b[0;34m)\u001b[0m \u001b[0;34m-\u001b[0m \u001b[0mk\u001b[0m\u001b[0;34m)\u001b[0m\u001b[0;34m:\u001b[0m\u001b[0;34m\u001b[0m\u001b[0m\n\u001b[1;32m     11\u001b[0m         \u001b[0;32mif\u001b[0m \u001b[0mCount\u001b[0m\u001b[0;34m[\u001b[0m\u001b[0mi\u001b[0m\u001b[0;34m]\u001b[0m \u001b[0;34m==\u001b[0m \u001b[0mmaxCount\u001b[0m\u001b[0;34m:\u001b[0m\u001b[0;34m\u001b[0m\u001b[0m\n\u001b[0;32m---> 12\u001b[0;31m             \u001b[0mFrequentPatterns\u001b[0m\u001b[0;34m.\u001b[0m\u001b[0madd\u001b[0m\u001b[0;34m(\u001b[0m\u001b[0mText\u001b[0m\u001b[0;34m[\u001b[0m\u001b[0mi\u001b[0m\u001b[0;34m:\u001b[0m\u001b[0mi\u001b[0m\u001b[0;34m+\u001b[0m\u001b[0mk\u001b[0m\u001b[0;34m]\u001b[0m\u001b[0;34m)\u001b[0m\u001b[0;34m\u001b[0m\u001b[0m\n\u001b[0m\u001b[1;32m     13\u001b[0m     \u001b[0;31m#remove duplicates\u001b[0m\u001b[0;34m\u001b[0m\u001b[0;34m\u001b[0m\u001b[0m\n\u001b[1;32m     14\u001b[0m     \u001b[0;32mreturn\u001b[0m \u001b[0mFrequentPatterns\u001b[0m\u001b[0;34m\u001b[0m\u001b[0m\n",
        "\u001b[0;31mAttributeError\u001b[0m: 'list' object has no attribute 'add'"
       ]
      }
     ],
     "prompt_number": 108
    },
    {
     "cell_type": "code",
     "collapsed": false,
     "input": [
      "maxCount = max(output)"
     ],
     "language": "python",
     "metadata": {},
     "outputs": [],
     "prompt_number": 104
    },
    {
     "cell_type": "code",
     "collapsed": false,
     "input": [
      "print maxCount"
     ],
     "language": "python",
     "metadata": {},
     "outputs": [
      {
       "output_type": "stream",
       "stream": "stdout",
       "text": [
        "136.0\n"
       ]
      }
     ],
     "prompt_number": 105
    },
    {
     "cell_type": "code",
     "collapsed": false,
     "input": [],
     "language": "python",
     "metadata": {},
     "outputs": []
    }
   ],
   "metadata": {}
  }
 ]
}