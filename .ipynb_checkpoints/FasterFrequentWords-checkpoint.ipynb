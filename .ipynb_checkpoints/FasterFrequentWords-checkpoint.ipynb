{
 "metadata": {
  "name": "",
  "signature": "sha256:0af89d5c3ec7d25b513a6351bb755d8b1b50b5c7d5041c6436a009f8113d53d0"
 },
 "nbformat": 3,
 "nbformat_minor": 0,
 "worksheets": [
  {
   "cells": [
    {
     "cell_type": "markdown",
     "metadata": {},
     "source": [
      "We now have a faster algorithm for the Frequent Words Problem. After generating the frequency array, we can find all most frequent k-mers by simply finding all k-mers corresponding to the maximum element(s) in the frequency array.\n",
      "\n",
      "\n",
      "   FasterFrequentWords(Text , k)\n",
      "        FrequentPatterns \u2190 an empty set\n",
      "        FrequencyArray \u2190 ComputingFrequencies(Text, k)\n",
      "        maxCount \u2190 maximal value in FrequencyArray\n",
      "        for i \u21900 to 4k \u2212 1\n",
      "            if FrequencyArray(i) = maxCount\n",
      "                Pattern \u2190 NumberToPattern(i, k)\n",
      "                add Pattern to the set FrequentPatterns\n",
      "        return FrequentPatterns\n",
      "\n",
      "Although FasterFrequentWords is fast for small k (i.e., you can use it to find DnaA boxes in an oriC region), it becomes impractical when k is large. If you are familiar with sorting algorithms and are interested in seeing a faster algorithm, see CHARGING STATION: Finding Frequent Words by Sorting.\n",
      "\n",
      "STOP and Think: Our claim that FasterFrequentWords is faster than FrequentWords is only correct for certain values of |Text| and k. Estimate the running time of FasterFrequentWords and characterize the values of |Text| and k when FasterFrequentWords is indeed faster than FrequentWords."
     ]
    },
    {
     "cell_type": "markdown",
     "metadata": {},
     "source": [
      "##FasterFrequentWords(Text, k)"
     ]
    },
    {
     "cell_type": "code",
     "collapsed": false,
     "input": [
      "def FasterFrequentWords(Text, k):\n",
      "\n",
      "    FrequentPatterns = list()  # an empty set\n",
      "    length = len(Text)\n",
      "    endRange = length - k\n",
      " \n",
      "    FrequencyArray = ComputingFrequencies(Text, k)\n",
      "    maxCount = max(FrequencyArray)\n",
      "    print 'max = ' + str(maxCount)\n",
      "    \n",
      "    for i in range(0, endRange):\n",
      "        if FrequencyArray[i] == maxCount:\n",
      "            print 'index = ' + str(i)\n",
      "            pattern = NumberToPattern(i, k)\n",
      "            print 'pattern = ' + pattern\n",
      "            FrequentPatterns.append(pattern)    \n",
      "    return FrequentPatterns"
     ],
     "language": "python",
     "metadata": {},
     "outputs": [],
     "prompt_number": 65
    },
    {
     "cell_type": "code",
     "collapsed": false,
     "input": [
      "# Vibrio cholerae\n",
      "oriC_vc = 'atcaatgatcaacgtaagcttctaagcatgatcaaggtgctcacacagtttatccacaacctgagtggatgacatcaagataggtcgttgtatctccttcctctcgtactctcatgaccacggaaagatgatcaagagaggatgatttcttggccatatcgcaatgaatacttgtgacttgtgcttccaattgacatcttcagcgccatattgcgctggccaaggtgacggagcgggattacgaaagcatgatcatggctgttgttctgtttatcttgttttgactgagacttgttaggatagacggtttttcatcactgactagccaaagccttactctgcctgacatcgaccgtaaattgataatgaatttacatgcttccgcgacgatttacctcttgatcatcgatccgattgaagatcttcaattgttaattctcttgcctcgactcatagccatgatgagctcttgatcatgtttccttaaccctctattttttacggaagaatgatcaagctgctgctcttgatcatcgtttc'\n",
      "k_vc = 9\n",
      "FasterFrequentWords(oriC_vc, k_vc)\n",
      "\n",
      "# {'ATGATCAAG', 'CTCTTGATC', 'CTTGATCAT', 'TCTTGATCA'}"
     ],
     "language": "python",
     "metadata": {},
     "outputs": [
      {
       "output_type": "stream",
       "stream": "stdout",
       "text": [
        "max = 532\n"
       ]
      },
      {
       "metadata": {},
       "output_type": "pyout",
       "prompt_number": 66,
       "text": [
        "[]"
       ]
      }
     ],
     "prompt_number": 66
    },
    {
     "cell_type": "code",
     "collapsed": false,
     "input": [
      "FrequencyArray[]"
     ],
     "language": "python",
     "metadata": {},
     "outputs": []
    },
    {
     "cell_type": "markdown",
     "metadata": {},
     "source": [
      "## PatternToNumber(text)"
     ]
    },
    {
     "cell_type": "code",
     "collapsed": false,
     "input": [
      "def PatternToNumber(text):\n",
      "# transform a k-mer Pattern into an integer\n",
      "    \n",
      "    import numpy as np\n",
      "\n",
      "    length = len(text)\n",
      "    x1 = range(length)\n",
      "    exp = np.power(4, x1)\n",
      "\n",
      "    output = 0\n",
      "    k = length - 1\n",
      "\n",
      "    for i in range(0, length):  \n",
      "        if text[i] == 'A':\n",
      "            digit = 0\n",
      "        elif text[i] == 'C':\n",
      "            digit = 1\n",
      "        elif text[i] == 'G':\n",
      "            digit = 2\n",
      "        else:\n",
      "            digit = 3      \n",
      "        output = output + digit*exp[k]\n",
      "        k = k - 1\n",
      "    \n",
      "    return output  "
     ],
     "language": "python",
     "metadata": {},
     "outputs": [],
     "prompt_number": 48
    },
    {
     "cell_type": "code",
     "collapsed": false,
     "input": [
      "text = 'ATGCAA'\n",
      "PatternToNumber(text)  # 912"
     ],
     "language": "python",
     "metadata": {},
     "outputs": [
      {
       "metadata": {},
       "output_type": "pyout",
       "prompt_number": 49,
       "text": [
        "912"
       ]
      }
     ],
     "prompt_number": 49
    },
    {
     "cell_type": "markdown",
     "metadata": {},
     "source": [
      "##NumberToPattern(index, k)"
     ]
    },
    {
     "cell_type": "code",
     "collapsed": false,
     "input": [
      "def NumberToPattern(index, k):\n",
      "# transform an integer between 0 and 4k \u2212 1 into a k-mer\n",
      "    \n",
      "    import numpy as np\n",
      "    \n",
      "    remains = index\n",
      "    length = k\n",
      "    \n",
      "    x1 = range(k)\n",
      "    exp = np.power(4, x1)\n",
      "    pattern = ''\n",
      "       \n",
      "    while len(pattern) < length:   \n",
      "        k = k - 1\n",
      "        if remains >= 3*exp[k]:\n",
      "            pattern = pattern + 'T'\n",
      "            remains = remains - 3*exp[k]\n",
      "        elif remains >= 2*exp[k]:\n",
      "            pattern = pattern + 'G'\n",
      "            remains = remains - 2*exp[k]\n",
      "        elif remains >=  exp[k]:\n",
      "            pattern = pattern + 'C'\n",
      "            remains = remains - exp[k]  \n",
      "        else:\n",
      "            pattern = pattern + 'A'\n",
      "        \n",
      "    return pattern    "
     ],
     "language": "python",
     "metadata": {},
     "outputs": [],
     "prompt_number": 50
    },
    {
     "cell_type": "code",
     "collapsed": false,
     "input": [
      "text = NumberToPattern(5437, 7)  # CCCATTC\n",
      "print text\n",
      "\n",
      "PatternToNumber(text) # now reverse - 5437\n"
     ],
     "language": "python",
     "metadata": {},
     "outputs": [
      {
       "output_type": "stream",
       "stream": "stdout",
       "text": [
        "CCCATTC\n"
       ]
      },
      {
       "metadata": {},
       "output_type": "pyout",
       "prompt_number": 64,
       "text": [
        "5437"
       ]
      }
     ],
     "prompt_number": 64
    },
    {
     "cell_type": "markdown",
     "metadata": {},
     "source": [
      "##ComputingFrequencies(Text, k)"
     ]
    },
    {
     "cell_type": "code",
     "collapsed": false,
     "input": [
      "def ComputingFrequencies(Text, k):\n",
      "# frequency array of patterns encountered in Text\n",
      "# k-mer is encoded into array index using PatternToNumber()\n",
      "    \n",
      "    FreqArray = [0] * (4**k)\n",
      "    \n",
      "    for i in range(0, len(Text) - k + 1): # need to add + 1 for Python\n",
      "        Pattern = Text[i:i+k]\n",
      "        j = PatternToNumber(Pattern)\n",
      "        FreqArray[j] = FreqArray[j] + 1        \n",
      "    return FreqArray\n"
     ],
     "language": "python",
     "metadata": {},
     "outputs": [],
     "prompt_number": 52
    },
    {
     "cell_type": "code",
     "collapsed": false,
     "input": [
      "Text = 'TATGTGCAGCGCCGCGACCAAGCAGTTCAGGTATGAGTTCCTCGCGTCCAGGTTGGGAGGTCAACATGGTGCGCATTTTGTGCAACTAAACGTGAGGACCCGCGACTGACCATCCGTCCCCTCTAACTACCAGCTCTCTATAATGAAGATCCGTCACGAGAACACCCGCAGGATCGATTCATCATATCTTTCAGTGCAGTAAGCCTTGTAATATCCTGGCAAGACCGGAGTGTGGTAGCAGTCAACAATACAAGGTATGCGTTCACTCGAGCAGGAGCTCGAAGCAATAGGTACATCGGTAGTCGGATCAATGCCGCAGTTATACGCAACCAAGCTAGAATCAAACACGTCTCTCCTTTCCTTTTTCACTAAATCAAAACTTCAAAGACTGCATTAACGCGTCCCCAGATTAAACGCTTCAAATTCCCGAGGGAAGATGCCAGCGAGATCCTGTTTGGCATGTATATCCTGAGAGGGGAGGATAAGCTCAAGGGCGCAAACTGGACCACGCCGTGAATGAGAGCTGGCGTAAAACCCATACTTGCGACGGGAACCTGTTAGTCTAGACCCGAAGCCGGTATTAAAGTGGTGTACAACGCACGGCGAGTAATCCAGGAGGTCGTCGCCCTCGTGAAATGGCCGCTTTATACACGCCTTATAAGATCTAGTCGAAATTGGGCTAGTATGATATGGAAGCAGATATAGTCTCACTAGTCGCGCCTTCGACCTCCTTCTTATAATCCGCAATGATGATACCCCTTGGTCTTACCCTAAATGGGC'\n",
      "k = 5\n",
      "freqArray = ComputingFrequencies(Text, k)"
     ],
     "language": "python",
     "metadata": {},
     "outputs": [],
     "prompt_number": 67
    },
    {
     "cell_type": "code",
     "collapsed": false,
     "input": [
      "len(freqArray)"
     ],
     "language": "python",
     "metadata": {},
     "outputs": [
      {
       "metadata": {},
       "output_type": "pyout",
       "prompt_number": 68,
       "text": [
        "1024"
       ]
      }
     ],
     "prompt_number": 68
    },
    {
     "cell_type": "code",
     "collapsed": false,
     "input": [
      "# output to a file\n",
      "f = open('z_freq_array.txt','w')\n",
      "\n",
      "for item in freqArray:\n",
      "    f.write(str(item) + \" \")\n",
      "\n",
      "f.close()"
     ],
     "language": "python",
     "metadata": {},
     "outputs": [],
     "prompt_number": 69
    },
    {
     "cell_type": "code",
     "collapsed": false,
     "input": [
      "# max frequency, need to watch for more than 1\n",
      "max(freqArray)"
     ],
     "language": "python",
     "metadata": {},
     "outputs": [
      {
       "metadata": {},
       "output_type": "pyout",
       "prompt_number": 70,
       "text": [
        "5"
       ]
      }
     ],
     "prompt_number": 70
    },
    {
     "cell_type": "code",
     "collapsed": false,
     "input": [
      "# find index of max\n",
      "mIndex = freqArray.index(max(freqArray))"
     ],
     "language": "python",
     "metadata": {},
     "outputs": [],
     "prompt_number": 71
    },
    {
     "cell_type": "code",
     "collapsed": false,
     "input": [
      "# convert to word\n",
      "NumberToPattern(mIndex, k)"
     ],
     "language": "python",
     "metadata": {},
     "outputs": [
      {
       "metadata": {},
       "output_type": "pyout",
       "prompt_number": 72,
       "text": [
        "'TAGTC'"
       ]
      }
     ],
     "prompt_number": 72
    },
    {
     "cell_type": "code",
     "collapsed": false,
     "input": [],
     "language": "python",
     "metadata": {},
     "outputs": []
    }
   ],
   "metadata": {}
  }
 ]
}