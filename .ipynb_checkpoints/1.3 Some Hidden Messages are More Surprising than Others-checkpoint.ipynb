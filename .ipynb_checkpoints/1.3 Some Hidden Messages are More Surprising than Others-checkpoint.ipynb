{
 "metadata": {
  "name": "",
  "signature": "sha256:9c1726be0be8520f50472d81f74c6fc991e7cb8c3c70154ccfff55d3aae8add0"
 },
 "nbformat": 3,
 "nbformat_minor": 0,
 "worksheets": [
  {
   "cells": [
    {
     "cell_type": "markdown",
     "metadata": {},
     "source": [
      "# Reverse Complement\n",
      "\n",
      "Given a nucleotide p, we denote its complementary nucleotide as p. The reverse complement of a string Pattern = p1\u2026pn is the string Pattern = pn \u2026 p1 formed by taking the complement of each nucleotide in Pattern, then reversing the resulting string. We will need the solution to the following problem throughout the book:\n",
      "\n",
      "Reverse Complement Problem: Find the reverse complement of a DNA string.\n",
      "     Input: A DNA string Pattern.\n",
      "     Output: Pattern, the reverse complement of Pattern."
     ]
    },
    {
     "cell_type": "code",
     "collapsed": false,
     "input": [
      "def CleanInput(Text):\n",
      "    # remove all whitespace characters (space, tab, newline, and so on)\n",
      "    Text = ''.join(Text.split())\n",
      "    Text = str.upper(Text)\n",
      "    return Text"
     ],
     "language": "python",
     "metadata": {},
     "outputs": [],
     "prompt_number": 1
    },
    {
     "cell_type": "code",
     "collapsed": false,
     "input": [
      "# had issues with Python string is immutable\n",
      "# and could not use \"string assignment\"\n",
      "# therefore needed to backwards process input text\n",
      "# and append to a new output text\n",
      "\n",
      "def ReverseComplement(Text):\n",
      "    Text = CleanInput(Text)\n",
      "    n = len(Text)\n",
      "    temp = list()\n",
      "    \n",
      "    for i in range(0, n):\n",
      "        n = n - 1\n",
      "        if Text[n] == 'A':\n",
      "            temp.append('T')\n",
      "        elif Text[n] == 'T': \n",
      "            temp.append('A')\n",
      "        elif Text[n] == 'C': \n",
      "            temp.append('G')\n",
      "        elif Text[n] == 'G': \n",
      "            temp.append('C')\n",
      "            \n",
      "    # convert list to string        \n",
      "    RevComp = ''.join(temp)        \n",
      "    return RevComp"
     ],
     "language": "python",
     "metadata": {},
     "outputs": [],
     "prompt_number": 2
    },
    {
     "cell_type": "code",
     "collapsed": false,
     "input": [
      "text = 'AAAACCCGGT'\n",
      "ReverseComplement(text) # 'ACCGGGTTTT'"
     ],
     "language": "python",
     "metadata": {},
     "outputs": [
      {
       "metadata": {},
       "output_type": "pyout",
       "prompt_number": 4,
       "text": [
        "'ACCGGGTTTT'"
       ]
      }
     ],
     "prompt_number": 4
    },
    {
     "cell_type": "markdown",
     "metadata": {},
     "source": [
      "Look again at the *four most frequent 9-mers in the oriC of Vibrio cholerae* (shown below): \n",
      "        ATGATCAAG, CTTGATCAT, TCTTGATCA, and CTCTTGATC."
     ]
    },
    {
     "cell_type": "code",
     "collapsed": false,
     "input": [
      "# Same 9-mer\n",
      "text = 'ATGATCAAG'\n",
      "ReverseComplement(text)"
     ],
     "language": "python",
     "metadata": {},
     "outputs": [
      {
       "metadata": {},
       "output_type": "pyout",
       "prompt_number": 6,
       "text": [
        "'CTTGATCAT'"
       ]
      }
     ],
     "prompt_number": 6
    },
    {
     "cell_type": "code",
     "collapsed": false,
     "input": [
      "# Same 9-mer (reverse complement)\n",
      "text = 'CTTGATCAT'\n",
      "ReverseComplement(text)"
     ],
     "language": "python",
     "metadata": {},
     "outputs": [
      {
       "metadata": {},
       "output_type": "pyout",
       "prompt_number": 7,
       "text": [
        "'ATGATCAAG'"
       ]
      }
     ],
     "prompt_number": 7
    },
    {
     "cell_type": "code",
     "collapsed": false,
     "input": [
      "# unique 9-mer\n",
      "text = 'TCTTGATCA'\n",
      "ReverseComplement(text)"
     ],
     "language": "python",
     "metadata": {},
     "outputs": [
      {
       "metadata": {},
       "output_type": "pyout",
       "prompt_number": 8,
       "text": [
        "'TGATCAAGA'"
       ]
      }
     ],
     "prompt_number": 8
    },
    {
     "cell_type": "code",
     "collapsed": false,
     "input": [
      "# unique 9-mer\n",
      "text = 'CTCTTGATC'\n",
      "ReverseComplement(text)"
     ],
     "language": "python",
     "metadata": {},
     "outputs": [
      {
       "metadata": {},
       "output_type": "pyout",
       "prompt_number": 9,
       "text": [
        "'GATCAAGAG'"
       ]
      }
     ],
     "prompt_number": 9
    },
    {
     "cell_type": "markdown",
     "metadata": {},
     "source": [
      "Finding a 9-mer that appears six or more times (either as itself or as its reverse complement) in a DNA string of length 500 is far more surprising than finding a 9-mer that appears three or more times. This statistical evidence leads us to the working hypothesis that ATGATCAAG and its reverse complement CTTGATCAT indeed represent DnaA boxes in Vibrio cholerae. This computational conclusion makes sense biologically because the DnaA protein that binds to DnaA boxes and initiates replication does not care which of the two strands it binds to. For our purposes, both ATGATCAAG or CTTGATCAT represent DnaA boxes.\n",
      "\n",
      "However, before concluding that we have found the DnaA box of Vibrio cholerae, the careful bioinformatician should check if there are other short regions in the Vibrio cholerae genome exhibiting multiple occurrences of ATGATCAAG (or CTTGATCAT). After all, maybe these strings occur as repeats throughout the entire Vibrio cholerae genome, rather than just in the oriC region. To this end, we need to solve the following problem."
     ]
    },
    {
     "cell_type": "markdown",
     "metadata": {},
     "source": [
      "Pattern Matching Problem: Find all occurrences of a pattern in a string.\n",
      "     Input: Strings Pattern and Genome.\n",
      "     Output: All starting positions in Genome where Pattern appears as a substring.\n",
      "\n",
      "Sample Input:\n",
      "     ATAT\n",
      "     GATATATGCATATACTT\n",
      "\n",
      "Sample Output:\n",
      "     1 3 9"
     ]
    },
    {
     "cell_type": "markdown",
     "metadata": {},
     "source": [
      "##Pattern Match"
     ]
    },
    {
     "cell_type": "code",
     "collapsed": false,
     "input": [
      "# PatternMatch\n",
      "# Find all occurrences of a pattern in a string.\n",
      "#     Input: Two strings, Pattern and Genome.\n",
      "#     Output: List of All starting positions where Pattern\n",
      "#             appears as a substring of Genome.\n",
      "\n",
      "def PatternMatch(Pattern, Genome):\n",
      "    Pattern = CleanInput(Pattern)\n",
      "    Genome = CleanInput(Genome)\n",
      "    location = list()\n",
      "    for i in range(0, len(Genome) - len(Pattern)):\n",
      "        scan = Genome[i:i+len(Pattern)]\n",
      "        if scan == Pattern:\n",
      "            location.append(i)\n",
      "            \n",
      "    # convert list to string      \n",
      "    locations = ' '.join(map(str, location))        \n",
      "    return locations"
     ],
     "language": "python",
     "metadata": {},
     "outputs": [],
     "prompt_number": 10
    },
    {
     "cell_type": "code",
     "collapsed": false,
     "input": [
      "pattern = 'ATAT'\n",
      "genome = 'GATATATGCATATACTT'\n",
      "print PatternMatch(pattern, genome)  # 1 3 9"
     ],
     "language": "python",
     "metadata": {},
     "outputs": [
      {
       "output_type": "stream",
       "stream": "stdout",
       "text": [
        "1 3 9\n"
       ]
      }
     ],
     "prompt_number": 12
    },
    {
     "cell_type": "code",
     "collapsed": false,
     "input": [
      "# quiz question\n",
      "pattern = 'CCGTCATCC'\n",
      "genome = 'ACCGTCATCCGTCATTACTCATAACCCGTCATACCGTCATACCGTCATTCCGTCATACTGTTCCGTCATCTCCGTCATAAACCGTCATCCGTCATCCGTCATCCGTCATCTCATCCGTCATCAAGACCCCGTCATGTGCCGTCATTCCGTCATCAAACCGTCATGCCCGTCATGACACCGTCATGAGTCCGTCATCCCGTCATCCGTCATCCGTCATAGTACGCACCCGTCATCCGTCATGCCGTCATATATTGGACCGTCATGGGTCACCCGTCATCCCGTCATCGACCGTCATGCTCGCTACCGTCATGAACCGTCATCTGACCGTCATTCCGTCATCCGTCATCCGTCATGGACTCCGCCGTCATGCCGTCATCTACCCGTCATAGTCCGTCATCATGCTACCGTCATCCGTCATCCGTCATCCGTCATCCGTCATCCGTCATCCGTCATCCGTCATCGACCGTCATAAGGTTCCGTCATAGGCCGTCATGCGTACCGTCATCCCCGTCATACCCGTCATTCGCCAGGCCGTCATTCCGTCATGGTCACGCATCCCCGTCATTAGCCGTCATCCCCGTCATTCCGTCATCCGTCATTCCGTCATCCGTCATCCGTCATTCCGTCATGCCGTCATCCGTCATCCGTCATTCCGTCATCCGTCATCCGTCATCTCCGTCATCATGGCCAGCCGTCATCACCCCAGCCCGTCATCCGTCATTCCGTCATCCGTCATGATTCCGTCATCCGTCATCCGTCATTTCCCGTCATAAACACCGTCATCCGTCATCCGTCATTGCCCGTCATCGACCGTCATTCCGTCATGCGCCCGTCATATACTCCGTCATTACCGTCATAACCCGTCATCCGTCATGCCGTCATCATTACCGTCATCCGTCATATCCGTCATCCGTCATCTCCGTCATACTACCAGTTCCACCGTCATTGTACCGTCATGCCGTCATCAGTGCCCCGTCATGGGACCGTCATGCCCGTCATTGGCCGTCATTCAGCCGTCATTGTTAGCCGTCATACTACCGTCATTCCGTCATCCGTCATGGGGTCGATACCGTCATCCGTCATCATACCGTCATTACCGTCATCCGTCATATTCCGTCATTACCGTCATCATGGCCGTCATAGTGTCATCCGTCATCACCCGTCATACCGTCATACTCCGTCATTCCGTCATCTTGCGCCGGGGGCACCGTCATGTTCTCACCGTCATCTCCCGTCATCCGTCATTGTCCGTCATACACCCGTCATAAACCTAATTCTCCGTCATGCATCCGTCATGCCGTCATTCCGTCATGCCGTCATTGGCCGTCATCCGTCATGGCCGTCATTGTGTCCGTCATACTCCGTCATCACCGTCATGCCGTCATCGACGATGGCCGTCATCCGTCATAACCCCGTCATACCGTCATTTAGTTCCCCTCCCGTCATTGGCCCGTCATTGCTTCCGTCATGCCGTCATCTCCGTCATGACGACGACCGTCATACCGTCATCTCCGTCATTTCCGTCATTTACCGTCATCCGTCATTCCCCGTCATTCGACCGTCATTTTGCCGTCATCCCGTCATGTGCCGTCATCCGTCATCCGTCATCCGCCGTCATTGCCGTCATCCGTCATTTAATGAGCCTGCCGTCATAGCCGTCATTATGGGCCGTCATCCGTCATCCGTCATGACCCGTCATATTCCGTCATTCCGTCATCCGTCATGTCAACCGTCATCCAGACCGTCATTCCGTCATCCGGACCGTCATGGCCGTCATCCGTCATCTTGGCATCCGTCATCCGTCATACCGTCATAGCCGTCATTCCCGTCATGCATTGCCCGTCATTTCCGTCATGCCGTCATTACCGTCATCCGTCATGCCGTCATTTCCGTCATCCCGTCATCCGTCATCCGTCATCCGTCATAACCGTCATACCGTCATCCGTCATGCAATACCGTCATGCCGTCATCCGTCATTCGAGAGTCCGTCATCCGTCATCCGTCATAGCGCCGTCATCTGCCGTCATACCGTCATCTCGGCCGTCATCCACCGTCATACCGTCATCCCCGTCATCTCCGTCATCCGTCATCCGTCATGGCATCCGTCATACCGTCATTCCGTCATCCGTCATTGATTCATTCCGTCATGATATCCGTCATTCCGTCATCGCTCGCCGTCATCCGTCATCCGTCATTGACCCGTCATCCGTCATTGCAATCCGTCATCAAACCGTCATAGGAACCGTCATCCGTCATGCCCGTCATTACCGTCATTACGGCATTTTTAATACCGTCATCCGTCATTTTCCGTCATCCCGTCATATACTTCCGTCATCTCCGGGCCGTCATCCCGTCATCCGTCATGCACCGTCATTTCACACCCGTCATGCCGTCATTACGAGCCGTCATGGCCGTCATCCGTCATTCCGTCATCCGTCATGCCGTCATCGACCGTCATCCGTCATACAAATTTCCCCGTCATTGCGCACCGTCATCCGTCATCCGTCATCCGTCATACCCGTCATGCAGTGCCGTCATACCGTCATACCGTCATGGAACCCGTCATTAGCCGTCATCATCCGTCATCCGTCATCTTCCGTCCGTCATCCCGTCATCCGTCATAACCCGTCATTTACCGTCATAGACAAGCCGTCATCCGTCATCCGTCATCAGGCGGCCGTCATCCCCCTAACCGTCATGGTCCCTCCCCGTCATTCGAGTTCCGTCATACCGTCATTTGAAACCGTCATCCGTCATACCGTCATCGCCCGTCATTGTACCGTCATTATTCCGTCATTTCCGTCATTGTACCGTCATACCGTCATCACCGTCATACACCGTCATAAGGACGTCTGGATCCCGTCATGGGCTATCCGTCATCCGTCATTCCGTCATACCGTCATGCCGTCATGTAACCCGTCATACCGTCATCCTCCCGTCATTAGCACATGGCCGTCATCGTTATCCGTCATTGCCGTCATACCGTCATGCCGTCATATTACCGTCATCCGTCATCCGTCATCCGTCATCCGTCATTGCCGTCATCACCAGCCGTCATCTACCGTCATGCCGCCGTCATTAGGCACGACACACCGTCATTGCCGTCATGACCGTCATCCGTCATCGAAGACCGTCATACCGTCATACACCGTCATCACCGTCATCACCGTCATGGTTCCCGTCATCTCCGATCCGTCATACTCCGTCATCCGTCATGGGCCGTCATCCGTCATCCGTCATCTCGAACCGTCATTCCGTCATCCGTCATCCCGTCATCCGTCATCCGTCATACTAACCGTCATCCGTCATTCCGTCATCCCGTCATCCGTCATCCGTCATGGGTCCGTCATCCGTCATTTACACACCAACGCCCGTCATTACGTCCGTCATACGCTTTTTCCGCCTATGTCGACCCGTCATACCGTCATGTATGACCGTCATTACCGTCATACCGTCATATTATCCGTCATTGCACCGTCATTGACAGCCGTCATCCGTCATGTACCGTCATCCGTCATCCGTCATCCGTCATAGTAACCGTCATCCGTCATCCACCGTCATACCGTCATACAGCACCGTCATGCGCCCGTCATCCCGTCATCTTCCGTCATGCTCCGTCATCCGTCATTGGCCCGTCATCCGTCATAAAACGCGCCGTCATCCGTCATGGCAACCCGTCATCCGTCATCCGTCATTTCCGTCATCATATACTGTAATCAAAGGCCCGTCATTTGGTAATGTGGTGTAGTTCTAAGACCGTCATAGCCGTCATGGCCACCGTCATAAGACCCCCGTCATACCCGTCATGACTACTCCGTCATCCGTCATCCGTCATATTCGCCGTCATTGCCCGTCATCGCCCGTCATGCCGTCATTTACGGCACCGTCATCACCGTCATTCCGTCATTAGTGGGGTCTTCCGTCATCTACCGTCATCCGTCATAGTCCGTCATGCCGTCATATACACCGTCATGCCGTCATACCGTCATAACTCCGTCATGTCCGTCATCCGTCATCACCGTCATGCTGCATGCTTTGGCCGTCATTAGCCCGTCATTCCCCGTCATCCGTCATTCAACCGTCATTGACCGTCCGTCATGCCGTCATCCGTCATGCCGTCATACCGTCATTGGGCCGTCATAGACCGTCATTAAGCCGTCATGGCCGTCATCACCGTCATCCGTCATAAGTCCGTCATCCGTCATCCGTCATTCCGTCATTCTGTGGGTGCCGTCATATAAACCGTCATGCCGTCATCAAAGGCCTGATCCCGTCATCCGTCATCCGTCATCCGTCATCCGTCATAAACCGTCATTCTGCCCGTCATTGATTATTCCCGTCATCCGTCATGCCTCCGTCATCCGTCATCGTCCGTCATGCCGTCATTCAACCGTCATTAGCTTCCGTCATCCGTCATTGATACACCCGTCATGTCCGTCATTCCGTCATCGGCAGCCCGTCATACCGTCATAACCGTCATCCGTCATGACCTCTCGCCGTCATCCGTGGTTTCATTATCTTTACCGTCATCCGTCATCCGTCTTGCCCCGTCATGTCCGTCATAACCTCCCGTCATATTAGTGCCGTCATTCCGTCATGACCGTCATCCCGTCATCCGTCATACCGTCATGCCGATTTATAGGGCCGTCATGCCGTCATCGCCGTCATTCCGTCATCCCGTCATTCCCGTCATTCCGTCATCCGTCATCCGTCATCCGTCATCCCGTCATCCGTCATTAGCCCGTCATCCGTCATCCGTCATTATACCGTCATTACCGTCATCGTCCGTCATGCCGTCATGCGGTTATTTCCGTCATTATTTCCGTCATGTCCGTCATGCTTTGCTCCGTCATACATGGTCACCGTCATACCGTCATCCGTCATGTTCCGTCATCAGACCGTCATCCGTCATACCGTCATTCCGTCATCCGTCATTATCGCACCGTCATGACCGTCATCCGTCATCCGTCATCCGTCATCCGTCATGGGTGCCCGTCATCCGTCATCCGTCATACGCCCGTCATCCGTCATCCCGTCATCCGTCATCAGCCGTCATCACATCCGTCATAATCTCCGTCATCCCGTCATGAACATCCCGTCATCCCGTCATTCCGTCATACCGTCATCCGTCATATCTCCCGTCATACACGGCCGTCATCCGTCATATTTGTAACCGCCGTCATAGCTGCCGTCATAGGTCCGCCGTCATCCGTCATCCGTCATGGGTAGCAATATCCACCCGTCATACCGTCATCTTGCCGTCATCAAACCGTCATCCGTCATACCAATAGTTTACTCCGTCATGAACTTACCGTCATCCTCCGTCATAAAACCGTCATCTTCCGTCATGACCGTCATGACTCCGTCATCCGTCATCCGTCATCCGTCATCCGTCATGCCGTCATGCTGGCCATACCGTCATGCCGTCATAGGCCGTCATGATCCCCGTCATGCTTGACCGTCATCCGTCATCCGTCATCGCCGTCATCCGTCATCCGTCATGTGCCCGTCATCCGTCATCCGTCATTGCCGTCATTCCGTCATCCGTCATTCCGTCATTCGCCGTCATGACCGTCATCCGTCATTCAGTCAGCCGTCATCATAACAGATCTGGAAAGATGCCGTCATAATCATTACTTCTCCGTCATCATACCGTCATTCCGTCATCCGTCATTATCCGTCATATGATTGCCGTCATGTCCGTCATACCGTCATGTCACCGTCATTGGAAGCCGTCATCCCGTCATTCCGTCATGCCCGTCATACAGCCGTCATCGGCCGTCATGGAATTCCCGTCATTTGTGCCGTCATCCGTCATTCCGTCATTCCGTCATACCGTCATCCGTCATCCGTCATCCCACCGTCATATCCCGTCATGGTTTCATCAGCCGTCATAGTACCCGTCATCCGTCATGCCCGTCATACTATACCGTCATGTTCCGTCATCCGTCATCCGTCATAACATTGGGGCCGTCATAACCGTCATGCCGTCATGCCGTCATACTCCCGTCATACTCCGCCGTCATCCGTCATCCGTCATCCGTCATCCCGTCATACCGTCATCTTCCGTCATGGCCGTCATCTTCTCGCCCGTCATGCCGCTTGACCACCGTCATCCGTCATATGGAAGACGCCGTCATACTGGCCGTCATCCAGATCCGTCATCCGTCATGCCGTCATTACCAGCCTCAGGCGCCGTCATCGGCTCCGTCATCACACCGTCATACACCGTCATCCGTCATCTGCACCGTCATCCGTCATCCGTCATGGCCGTCATTTGCTGCCCGTCATCGCGAAAGCACCGTCATCCGTCATACCGTCATTGGGCGTAAAAAAAGCCGTCATGCCGTCATTACCGTCATCCGTCATCGCCGTCATGCCGTCATCAATAAATACCTGCGTGCCGTCATTCCGTCATTCCGTCATTCTACCGTCATTCGCTCCGTCATCCGTCATACCGTCATGCGGACAAAAGCGCCGTCATCCCGTCATATACCCGTCATCCGTCATAGCGTCGTCGGACCGTCATCGATGCCCCGTCATCCGTCATGCCCGTCATGGCTCGCCGTCATCCGTCATCCGTCATCTTCCGTCATCAGCCGTCATGTCCGTCATGTCCGACCGTCATGGCTTCCGTCATGCGCCGTCATACTGACCCGTCATGCTCCAAACCGTCATACCGTCATCCGTCATCCGTCATTGACACATACCGTCATCCGTCATCCCGTCATTGACCGTCATCCGTCATAAGCCGTCATCTCCCCGTCATCTTATCCGTCATCAGCCGTCATTGTTCCGGTTCCGTCATTCTCCGTCATTCCCCTCCGTCATATTTGCCGTCATGTCCGTCATGCCCGTCATGCCGTCATGAAACTACCGTCATTCCCCGTCATCAGTTCTCCGTCATGCACCGTCATATACCGTCATCTTCCCGTCATCCGTCATCCGTCATATTCCGGTGTACCGTCATTCGACGTATACCGTCATCCGTCATTCCGTCATACCGTCATAGGACCGTCATCTTCCGTCATCCGTCATAACCGTCATCGACTTGCCGTCATCCGTCATACCGTCATCCCCGTCATCCGTCATAGTGGCCGTCATCCCGTCATATTTTAGATCCGTCATCCGTCATCCGTCATTAACCGTCATCCGTCATTGCCCCGTCATGCCGTCATCGCCGTCATGTATAAGCCGTCCGTCATCCGTCATGGCCGTCATTCCGTCATCCGTTCCGTCATCCGTCATGCGCGGCCGTCATCCGTCATCCGTCATACCGTCATGGCCGTCATTCCGTCATCCCGTCATACCGTCATTTATCCGTCATCCCGTCATGCCGTCATGCGCCGTCATTGGGGAGCCGTCATTACCCGTCATCCGTCATACCACTCCGTCATAGCGGACTACCCGTCATCCCGTCATTTGCCGTCATGGACGATCTGTCCCGTCATCCGTCATCCTACCGTCATCCGTCATAGCCGTCATGGCCCGTCATGGTCCGTCATCCGTCATGCGTAAAGAAGAGTAAGTATTTATCTCGACCGTCATACATGCCGTCATTTCCCGTCATCCGTCATCCGTCATGTTTGCACGACCCCGTCATGACCGTCATTGCCGTCATTCACCGTCATCCGTCATCCGTCATGCCGTCATCCGTCATTCCCGTCATCCGTCATCCGTCATGGGCGGACCCGTCATTCCGTCATCCGTCATCCGTCATCCGTCATACTACCGTCATCGCCGTCATTAGTAGTATCCGTCATCCCGTCATTATCCGTCATTCCGTCATAGCACGACCCGTCATATATACCGTCATAGCCGTCATGCCGTCATGCCGTCATCCGTCATCCGTCATACCGTCATATTTGCCGTCATCCGTCATCTAGCTGCCGTCATAGCTCCGTCATCCGTCATCGCTCCCGTCATGTTCAGTCGGCACACCGTCATCCCGTCATGCCGTCATTTGGACTAATCCGTCATAATGCCGTCATATAAGCCGTCATGCCCCGTCATCCACCGTCATCCCGTCAT'\n",
      "print PatternMatch(pattern, genome)"
     ],
     "language": "python",
     "metadata": {},
     "outputs": [
      {
       "output_type": "stream",
       "stream": "stdout",
       "text": [
        "1 81 88 95 188 196 203 226 270 332 339 404 411 418 425 432 439 446 498 568 585 600 607 630 637 652 659 707 722 740 747 776 783 860 887 903 1045 1069 1096 1231 1323 1394 1530 1569 1587 1594 1601 1620 1668 1675 1710 1729 1749 1770 1792 1865 1889 1897 1904 1911 1935 1963 1985 1992 2040 2058 2076 2083 2118 2174 2181 2199 2242 2290 2307 2342 2350 2411 2426 2451 2488 2495 2502 2579 2600 2608 2649 2656 2677 2743 2873 2924 3001 3008 3015 3022 3110 3202 3219 3226 3254 3261 3269 3276 3295 3310 3318 3325 3343 3487 3504 3511 3518 3537 3544 3586 3614 3632 3654 3674 3681 3814 3821 3929 4002 4060 4100 4173 4191 4198 4270 4277 4284 4291 4336 4354 4403 4473 4496 4523 4530 4600 4608 4669 4694 4701 4708 4715 4723 4741 4748 4870 4898 4921 4951 4958 4965 4972 4992 4999 5017 5024 5032 5073 5095 5119 5151 5202 5209 5269 5311 5362 5369 5376 5383 5458 5465 5481 5488 5506 5513 5537 5571 5660 5732 5804 5835 5842 5849 5900 5939 5946 6019 6026 6033 6040 6109 6145 6158 6228 6247 6254 6301 6355 6442 6477 6496 6536 6565 6572 6679 6686 6709 6716 6734 6931 6938 6980 7024 7054 7069 7078 7097 7121 7128 7145 7198 7222 7234 7254 7261 7293 7320 7370 7407 7444 7451 7462 7498 7563 7570 7624 7631 7646 7662 7669 7699 7706 7713 7756 7834 7841 7868 7900 7940 8006 8016\n"
       ]
      }
     ],
     "prompt_number": 13
    },
    {
     "cell_type": "markdown",
     "metadata": {},
     "source": [
      "##Pattern Matching Problem to the Vibrio cholerae genome\n",
      "Try applying your solution to the Pattern Matching Problem to the Vibrio cholerae genome, which can be obtained using the download button below.\n",
      "\n",
      "EXERCISE BREAK: Return all starting positions (in increasing order) where CTTGATCAT appears as a substring in the Vibrio cholerae genome."
     ]
    },
    {
     "cell_type": "code",
     "collapsed": false,
     "input": [
      "# look for pattern in Vibrio cholerae genome\n",
      "pattern = 'CTTGATCAT'\n",
      "fileObject = open('Vibrio_cholerae.txt', 'r')\n",
      "genome =  fileObject.read();\n",
      "print PatternMatch(pattern, genome)\n",
      "\n",
      "# 60039 98409 129189 152283 152354 152411 163207 197028 \n",
      "# 200160 357976 376771 392723 532935 600085 622755 1065555"
     ],
     "language": "python",
     "metadata": {},
     "outputs": [
      {
       "output_type": "stream",
       "stream": "stdout",
       "text": [
        "60039 98409 129189 152283 152354 152411 163207 197028 200160 357976 376771 392723 532935 600085 622755 1065555\n"
       ]
      }
     ],
     "prompt_number": 16
    },
    {
     "cell_type": "code",
     "collapsed": false,
     "input": [
      "# look for pattern in Vibrio cholerae genome\n",
      "pattern = 'ATGATCAAG'\n",
      "print PatternMatch(pattern, genome)\n",
      "\n",
      "# 116556 149355 151913 152013 152394 186189 194276 200076 \n",
      "# 224527 307692 479770 610980 653338 679985 768828 878903 985368"
     ],
     "language": "python",
     "metadata": {},
     "outputs": [
      {
       "output_type": "stream",
       "stream": "stdout",
       "text": [
        "116556 149355 151913 152013 152394 186189 194276 200076 224527 307692 479770 610980 653338 679985 768828 878903 985368\n"
       ]
      }
     ],
     "prompt_number": 17
    },
    {
     "cell_type": "markdown",
     "metadata": {},
     "source": [
      "After solving the Pattern Matching Problem, we discover that ATGATCAAG appears 17 times in the following starting positions of the Vibrio cholerae genome:\n",
      "\n",
      "116556, 149355, 151913, 152013, 152394, 186189, 194276, 200076, 224527, 307692, 479770, 610980, 653338, 679985, 768828, 878903, 985368\n",
      "With the exception of the three occurrences of ATGATCAAG in oriC at starting positions 151913, 152013, and 152394, no other instances of ATGATCAAG form clumps, i.e., appear close to each other in a small region of the genome. You may check that the same conclusion is reached when searching for CTTGATCAT. We now have strong statistical evidence that ATGATCAAG/CTTGATCAT may represent the hidden message to DnaA to start replication.\n",
      "\n",
      "STOP and Think: Is it safe to conclude that ATGATCAAG/CTTGATCAT also represents a DnaA box in other bacterial genomes?"
     ]
    }
   ],
   "metadata": {}
  }
 ]
}