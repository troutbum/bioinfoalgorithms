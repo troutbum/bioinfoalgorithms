{
 "metadata": {
  "name": "",
  "signature": "sha256:e2dc822a535e8cdfdb30d622a4cf616a46174fcdd079b3d2ff752fb86f5b1942"
 },
 "nbformat": 3,
 "nbformat_minor": 0,
 "worksheets": [
  {
   "cells": [
    {
     "cell_type": "markdown",
     "metadata": {},
     "source": [
      "#Counting Words\n",
      "\n",
      "Operating under the assumption that DNA is a language of its own, let's borrow Legrand's method and see if we can find any surprisingly frequent \"words\" within the oriC of Vibrio cholerae. We have added reason to look for frequent words in the oriC because for various biological processes, certain nucleotide strings often appear surprisingly often in small regions of the genome. For example, ACTAT is a surprisingly frequent substring of ACAACTATGCATACTATCGGGAACTATCCT.\n",
      "\n",
      "We will use the term k-mer to refer to a string of length k and define Count(Text, Pattern) as the number of times that a k-mer Pattern appears as a substring of Text. Following the above example,\n",
      "Count(ACAACTATGCATACTATCGGGAACTATCCT, ACTAT) = 3.\n",
      "\n",
      "We note that Count(CGATATATCCATAG, ATA) is equal to 3 (not 2) since we should account for overlapping occurrences of Pattern in Text.\n",
      "\n",
      "To compute Count(Text, Pattern), our plan is to \u201cslide a window\u201d down Text, checking whether each k-mer substring of Text matches Pattern. We will therefore refer to the k-mer starting at position i of Text as Text(i, k). Throughout this book, we will often use 0-based indexing, meaning that we count starting at 0 instead of 1. In this case, t Text begins at position 0 and ends at position |Text| \u2212 1 (|Text| denotes the number of symbols in Text). For example, if Text = GACCATACTG, then Text(4, 3) = ATA. Note that the last k-mer of Text begins at position |Text| \u2212 k, e.g., the last 3-mer of GACCATACTG starts at position 10 \u2212 3 = 7. This discussion results in the following pseudocode for computing Count(Text, Pattern). "
     ]
    },
    {
     "cell_type": "code",
     "collapsed": false,
     "input": [
      "import numpy as np"
     ],
     "language": "python",
     "metadata": {},
     "outputs": [],
     "prompt_number": 46
    },
    {
     "cell_type": "code",
     "collapsed": false,
     "input": [
      "#Import the sequence data\n",
      "text ='TTCCCTAAACCCTAAACCCTAAATTCCCTAAACCCCCTAAAGGGAATGTCCCTAAACGCCCTAAAGCCCCTAAATCCCTAAACCCTAAACCCTAAACCCCCTAAATAGCCCTAAATGGCCCTAAACCCTAAATCCCTAAAATAGCCCTAAATCCCTAAATACCCTAAACCCTAAATTTATACCCTAAAAGAGCTATTTCCCCCCCTAAAGAGCCCTAAAGAAGGCCAGCCCCTAAAGGCCCTAAACCCCTAAACCCTAAAACTATGACCCCTAAAACCCTAAACGAGCCCTAAATCCCTAAATCATTACCCCTAAATACCCTAAACCCCTAAACCCTAAAACCCTAAACCCTAAAGCCCTAAACCCTAAAACCCTAAACTAGCCCTAAAGAATCCCTAAATCCCTAAACCCTAAATCCCTAAACCCTAAAGACGCCCTAAACCCTAAACCCTAAACCCCTAAACCCTAAACCCCTAAACCCTAAAGCTCCCTAAAACCCTAAACCCTAAATCCCTAAACCCTAAACCCTAAACCCCTAAAATCCCTAAAAGAACCCTAAACCCCTAAAGTCCCTAAAATCCCTAAAGTTCCCTAAATTCCCTAAACCCTAAACGCCCTAAATCCCTAAAACCCTAAACGCTGATTCCCTAAACTGGCCCTAAACCCTAAACCCTAAACCCCCCTAAACCCTAAACCCTAAACACCCTAAACCCCTAAAACTATTCCCTAAACCCTAAACCCTAAACCCTAAAGGCCCCTAAACCCCTAAACCCTAAAGGGTCCGCCCTAAATCCCTAAAGCCACCCTAAATCATTGCCCTAAATTTGCCCTAAACCCTAAAGTCCCTAAACCCTAAAGGGCCCTAAATCCCTAAATACCCTAAATCCATCCCTAAACCCCTAAACCCTAAAGGGTCCCTAAACCCTAAACCCTAAACAATTGACTCCCTAAACCCCTAAACGGCCCCTAAACATGTGTAATCCCCTAAA'"
     ],
     "language": "python",
     "metadata": {},
     "outputs": [],
     "prompt_number": 47
    },
    {
     "cell_type": "code",
     "collapsed": false,
     "input": [
      "pattern = 'CCCTAAACC'"
     ],
     "language": "python",
     "metadata": {},
     "outputs": [],
     "prompt_number": 48
    },
    {
     "cell_type": "code",
     "collapsed": false,
     "input": [
      "#Check to see how many nucleotides\n",
      "len(text)"
     ],
     "language": "python",
     "metadata": {},
     "outputs": [
      {
       "metadata": {},
       "output_type": "pyout",
       "prompt_number": 49,
       "text": [
        "989"
       ]
      }
     ],
     "prompt_number": 49
    },
    {
     "cell_type": "markdown",
     "metadata": {},
     "source": [
      "CODE CHALLENGE: Implement PatternCount (reproduced below).\n",
      "\n",
      "     Input: Strings Text and Pattern.\n",
      "     Output: Count(Text, Pattern).\n",
      "\n",
      "PatternCount(Text, Pattern)\n",
      "        count \u2190 0\n",
      "        for i \u2190 0 to |Text| \u2212 |Pattern|\n",
      "            if Text(i, |Pattern|) = Pattern\n",
      "                count \u2190 count + 1\n",
      "        return count\n"
     ]
    },
    {
     "cell_type": "code",
     "collapsed": false,
     "input": [
      "# checking python grammar to detect a word\n",
      "i = 0\n",
      "scan= text[i:i+len(pattern)]\n",
      "print scan"
     ],
     "language": "python",
     "metadata": {},
     "outputs": [
      {
       "output_type": "stream",
       "stream": "stdout",
       "text": [
        "TTCCCTAAA\n"
       ]
      }
     ],
     "prompt_number": 50
    },
    {
     "cell_type": "markdown",
     "metadata": {},
     "source": [
      "##PatternCount(Text, Pattern)"
     ]
    },
    {
     "cell_type": "code",
     "collapsed": false,
     "input": [
      "# my function\n",
      "def PatternCount(Text, Pattern):\n",
      "    count = 0\n",
      "    for i in range(0, len(Text) - len(Pattern)):\n",
      "        scan = Text[i:i+len(Pattern)]\n",
      "        if scan == Pattern:\n",
      "            count = count + 1       \n",
      "    return count       "
     ],
     "language": "python",
     "metadata": {},
     "outputs": [],
     "prompt_number": 51
    },
    {
     "cell_type": "code",
     "collapsed": false,
     "input": [
      "# solution detects 46 matches of this pattern\n",
      "PatternCount(text,pattern)"
     ],
     "language": "python",
     "metadata": {},
     "outputs": [
      {
       "metadata": {},
       "output_type": "pyout",
       "prompt_number": 52,
       "text": [
        "46"
       ]
      }
     ],
     "prompt_number": 52
    },
    {
     "cell_type": "markdown",
     "metadata": {},
     "source": [
      "#Finding the Most Frequent Words\n",
      "\n",
      "A straightforward algorithm for finding the most frequent words in a string Text checks all k-mers appearing in this string (there are |Text| \u2212 k + 1 such k-mers) and then computes how many times each k-mer appears in Text. To implement this algorithm, called FrequentWords, we will need to generate an array Count, where Count(i) stores Count(Text, Pattern) for Pattern = Text(i, k)\n",
      "\n",
      "The pseudocode for FrequentWords is shown below.\n",
      "\n",
      "FrequentWords(Text, k)\n",
      "        FrequentPatterns \u2190 an empty set\n",
      "        for i \u2190 0 to |Text| \u2212 k\n",
      "            Pattern \u2190 the k-mer Text(i, k)\n",
      "            Count(i) \u2190 PatternCount(Text, Pattern)\n",
      "        maxCount \u2190 maximum value in array Count\n",
      "        for i \u2190 0 to |Text| \u2212 k\n",
      "            if Count(i) = maxCount\n",
      "                add Text(i, k) to FrequentPatterns\n",
      "        remove duplicates from FrequentPatterns\n",
      "        return FrequentPatterns"
     ]
    },
    {
     "cell_type": "code",
     "collapsed": false,
     "input": [
      "text = 'GATGGTATCCCGAGAAGATCTGGATGGTATCCCGAGATCCCGAGAGATGGTATCCCGAGATTCTTCTGCTAAGTATTCTTCTGGATGGTAAGATCTGAGATCTGCTAAGTAAGATCTGTTCTTCTGAGATCTGCTAAGTATTCTTCTGGATGGTACTAAGTACTAAGTAGATGGTAAGATCTGAGATCTGAGATCTGAGATCTGCTAAGTAAGATCTGGATGGTATTCTTCTGGATGGTAAGATCTGGATGGTAAGATCTGTTCTTCTGTCCCGAGAGATGGTAAGATCTGTTCTTCTGAGATCTGTTCTTCTGTCCCGAGAAGATCTGTCCCGAGATTCTTCTGCTAAGTAGATGGTAAGATCTGTTCTTCTGTTCTTCTGTTCTTCTGGATGGTATCCCGAGAGATGGTATTCTTCTGGATGGTATTCTTCTGGATGGTACTAAGTATCCCGAGATTCTTCTGCTAAGTATCCCGAGATTCTTCTGGATGGTAAGATCTGTCCCGAGATTCTTCTGCTAAGTACTAAGTAGATGGTATCCCGAGACTAAGTATCCCGAGAGATGGTACTAAGTATCCCGAGACTAAGTAAGATCTGAGATCTGTTCTTCTGGATGGTAGATGGTAGATGGTATTCTTCTGCTAAGTATTCTTCTGCTAAGTAAGATCTGTCCCGAGAAGATCTGCTAAGTAGATGGTAGATGGTAGATGGTAAGATCTGTCCCGAGAGATGGTATTCTTCTGAGATCTGCTAAGTACTAAGTATCCCGAGAAGATCTGAGATCTGGATGGTAGATGGTAGATGGTACTAAGTAGATGGTA'\n",
      "k = 11"
     ],
     "language": "python",
     "metadata": {},
     "outputs": [],
     "prompt_number": 53
    },
    {
     "cell_type": "markdown",
     "metadata": {},
     "source": [
      "##FrequentWords(Text, k)"
     ]
    },
    {
     "cell_type": "code",
     "collapsed": false,
     "input": [
      "def FrequentWords(Text, k):\n",
      "    FrequentPatterns = list()\n",
      "    Count = np.zeros(len(Text))\n",
      "    # count k-mers\n",
      "    for i in range(0, len(Text) - k):\n",
      "        Pattern = Text[i:i+k]\n",
      "        Count[i] = PatternCount(Text, Pattern)\n",
      "    maxCount = max(Count)\n",
      "    \n",
      "    for i in range(0, len(Text) - k):\n",
      "        if Count[i] == maxCount:\n",
      "            FrequentPatterns.append(Text[i:i+k])\n",
      "    \n",
      "    #remove duplicates\n",
      "    setFreqPatterns = set(FrequentPatterns)\n",
      "    FrequentPatterns = setFreqPatterns\n",
      "    \n",
      "    return FrequentPatterns \n",
      "    "
     ],
     "language": "python",
     "metadata": {},
     "outputs": [],
     "prompt_number": 54
    },
    {
     "cell_type": "code",
     "collapsed": false,
     "input": [
      "FrequentWords(text, k)"
     ],
     "language": "python",
     "metadata": {},
     "outputs": [
      {
       "metadata": {},
       "output_type": "pyout",
       "prompt_number": 55,
       "text": [
        "{'TCTGGATGGTA'}"
       ]
      }
     ],
     "prompt_number": 55
    },
    {
     "cell_type": "markdown",
     "metadata": {},
     "source": [
      "#Frequent Words in Vibrio cholerae"
     ]
    },
    {
     "cell_type": "code",
     "collapsed": false,
     "input": [
      "# Vibrio cholerae\n",
      "oriC_vc = 'atcaatgatcaacgtaagcttctaagcatgatcaaggtgctcacacagtttatccacaacctgagtggatgacatcaagataggtcgttgtatctccttcctctcgtactctcatgaccacggaaagatgatcaagagaggatgatttcttggccatatcgcaatgaatacttgtgacttgtgcttccaattgacatcttcagcgccatattgcgctggccaaggtgacggagcgggattacgaaagcatgatcatggctgttgttctgtttatcttgttttgactgagacttgttaggatagacggtttttcatcactgactagccaaagccttactctgcctgacatcgaccgtaaattgataatgaatttacatgcttccgcgacgatttacctcttgatcatcgatccgattgaagatcttcaattgttaattctcttgcctcgactcatagccatgatgagctcttgatcatgtttccttaaccctctattttttacggaagaatgatcaagctgctgctcttgatcatcgtttc'\n",
      "k_vc = 9\n",
      "FrequentWords(oriC_vc, k_vc)"
     ],
     "language": "python",
     "metadata": {},
     "outputs": [
      {
       "metadata": {},
       "output_type": "pyout",
       "prompt_number": 57,
       "text": [
        "{'atgatcaag', 'ctcttgatc', 'cttgatcat', 'tcttgatca'}"
       ]
      }
     ],
     "prompt_number": 57
    },
    {
     "cell_type": "markdown",
     "metadata": {},
     "source": [
      "For example, the 9-mer ATGATCAAG appears three times in the oriC region of Vibrio cholerae\u2014is it surprising?\n",
      "\n",
      "atcaatgatcaacgtaagcttctaagcATGATCAAGgtgctcacacagtttatccacaac\n",
      "ctgagtggatgacatcaagataggtcgttgtatctccttcctctcgtactctcatgacca\n",
      "cggaaagATGATCAAGagaggatgatttcttggccatatcgcaatgaatacttgtgactt\n",
      "gtgcttccaattgacatcttcagcgccatattgcgctggccaaggtgacggagcgggatt\n",
      "acgaaagcatgatcatggctgttgttctgtttatcttgttttgactgagacttgttagga\n",
      "tagacggtttttcatcactgactagccaaagccttactctgcctgacatcgaccgtaaat\n",
      "tgataatgaatttacatgcttccgcgacgatttacctcttgatcatcgatccgattgaag\n",
      "atcttcaattgttaattctcttgcctcgactcatagccatgatgagctcttgatcatgtt\n",
      "tccttaaccctctattttttacggaagaATGATCAAGctgctgctcttgatcatcgtttc\n",
      "\n",
      "We highlight a most frequent 9-mer instead of using some other value of k because experiments have revealed that bacterial DnaA boxes are usually 9 nucleotides long. The probability that there exists a 9-mer appearing three or more times in a randomly generated DNA string of length 500 is approximately 1/1300 (see DETOUR: Probabilities of Patterns in a String). In fact, there are four different 9-mers repeated three or more times in this region: ATGATCAAG, CTTGATCAT, TCTTGATCA, and CTCTTGATC. The low likelihood of witnessing even one repeated 9-mer in the oriC region of Vibrio cholerae leads us to the working hypothesis that one of these four 9-mers may represent a potential DnaA box that, when appearing multiple times in a short region, jump-starts replication. But which one?\n",
      "\n",
      "STOP and Think: Is any one of the four most frequent 9-mers in the oriC of Vibrio cholerae \"more surprising\" than the others?"
     ]
    },
    {
     "cell_type": "code",
     "collapsed": false,
     "input": [],
     "language": "python",
     "metadata": {},
     "outputs": []
    }
   ],
   "metadata": {}
  }
 ]
}