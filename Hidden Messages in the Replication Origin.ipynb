{
 "metadata": {
  "name": "",
  "signature": "sha256:cdb1b74408d5847351638facc69ba8c350bbc0ea0d191edebfd5ed07d0f1f75e"
 },
 "nbformat": 3,
 "nbformat_minor": 0,
 "worksheets": [
  {
   "cells": [
    {
     "cell_type": "markdown",
     "metadata": {},
     "source": [
      "#Counting Words\n",
      "\n",
      "Operating under the assumption that DNA is a language of its own, let's borrow Legrand's method and see if we can find any surprisingly frequent \"words\" within the oriC of Vibrio cholerae. We have added reason to look for frequent words in the oriC because for various biological processes, certain nucleotide strings often appear surprisingly often in small regions of the genome. For example, ACTAT is a surprisingly frequent substring of ACAACTATGCATACTATCGGGAACTATCCT.\n",
      "\n",
      "We will use the term k-mer to refer to a string of length k and define Count(Text, Pattern) as the number of times that a k-mer Pattern appears as a substring of Text. Following the above example,\n",
      "Count(ACAACTATGCATACTATCGGGAACTATCCT, ACTAT) = 3.\n",
      "\n",
      "We note that Count(CGATATATCCATAG, ATA) is equal to 3 (not 2) since we should account for overlapping occurrences of Pattern in Text.\n",
      "\n",
      "To compute Count(Text, Pattern), our plan is to \u201cslide a window\u201d down Text, checking whether each k-mer substring of Text matches Pattern. We will therefore refer to the k-mer starting at position i of Text as Text(i, k). Throughout this book, we will often use 0-based indexing, meaning that we count starting at 0 instead of 1. In this case, t Text begins at position 0 and ends at position |Text| \u2212 1 (|Text| denotes the number of symbols in Text). For example, if Text = GACCATACTG, then Text(4, 3) = ATA. Note that the last k-mer of Text begins at position |Text| \u2212 k, e.g., the last 3-mer of GACCATACTG starts at position 10 \u2212 3 = 7. This discussion results in the following pseudocode for computing Count(Text, Pattern). "
     ]
    },
    {
     "cell_type": "markdown",
     "metadata": {},
     "source": [
      "Import the sequence data:"
     ]
    },
    {
     "cell_type": "code",
     "collapsed": false,
     "input": [
      "#Import the sequence data\n",
      "text ='TTCCCTAAACCCTAAACCCTAAATTCCCTAAACCCCCTAAAGGGAATGTCCCTAAACGCCCTAAAGCCCCTAAATCCCTAAACCCTAAACCCTAAACCCCCTAAATAGCCCTAAATGGCCCTAAACCCTAAATCCCTAAAATAGCCCTAAATCCCTAAATACCCTAAACCCTAAATTTATACCCTAAAAGAGCTATTTCCCCCCCTAAAGAGCCCTAAAGAAGGCCAGCCCCTAAAGGCCCTAAACCCCTAAACCCTAAAACTATGACCCCTAAAACCCTAAACGAGCCCTAAATCCCTAAATCATTACCCCTAAATACCCTAAACCCCTAAACCCTAAAACCCTAAACCCTAAAGCCCTAAACCCTAAAACCCTAAACTAGCCCTAAAGAATCCCTAAATCCCTAAACCCTAAATCCCTAAACCCTAAAGACGCCCTAAACCCTAAACCCTAAACCCCTAAACCCTAAACCCCTAAACCCTAAAGCTCCCTAAAACCCTAAACCCTAAATCCCTAAACCCTAAACCCTAAACCCCTAAAATCCCTAAAAGAACCCTAAACCCCTAAAGTCCCTAAAATCCCTAAAGTTCCCTAAATTCCCTAAACCCTAAACGCCCTAAATCCCTAAAACCCTAAACGCTGATTCCCTAAACTGGCCCTAAACCCTAAACCCTAAACCCCCCTAAACCCTAAACCCTAAACACCCTAAACCCCTAAAACTATTCCCTAAACCCTAAACCCTAAACCCTAAAGGCCCCTAAACCCCTAAACCCTAAAGGGTCCGCCCTAAATCCCTAAAGCCACCCTAAATCATTGCCCTAAATTTGCCCTAAACCCTAAAGTCCCTAAACCCTAAAGGGCCCTAAATCCCTAAATACCCTAAATCCATCCCTAAACCCCTAAACCCTAAAGGGTCCCTAAACCCTAAACCCTAAACAATTGACTCCCTAAACCCCTAAACGGCCCCTAAACATGTGTAATCCCCTAAA'"
     ],
     "language": "python",
     "metadata": {},
     "outputs": [],
     "prompt_number": 28
    },
    {
     "cell_type": "code",
     "collapsed": false,
     "input": [
      "pattern = 'CCCTAAACC'"
     ],
     "language": "python",
     "metadata": {},
     "outputs": [],
     "prompt_number": 29
    },
    {
     "cell_type": "code",
     "collapsed": false,
     "input": [
      "#Check to see how many nucleotides (936)\n",
      "len(text)"
     ],
     "language": "python",
     "metadata": {},
     "outputs": [
      {
       "metadata": {},
       "output_type": "pyout",
       "prompt_number": 20,
       "text": [
        "936"
       ]
      }
     ],
     "prompt_number": 20
    },
    {
     "cell_type": "markdown",
     "metadata": {},
     "source": [
      "CODE CHALLENGE: Implement PatternCount (reproduced below).\n",
      "\n",
      "     Input: Strings Text and Pattern.\n",
      "     Output: Count(Text, Pattern).\n",
      "\n",
      "PatternCount(Text, Pattern)\n",
      "        count \u2190 0\n",
      "        for i \u2190 0 to |Text| \u2212 |Pattern|\n",
      "            if Text(i, |Pattern|) = Pattern\n",
      "                count \u2190 count + 1\n",
      "        return count\n"
     ]
    },
    {
     "cell_type": "code",
     "collapsed": false,
     "input": [
      "# checking python grammar to detect a word\n",
      "i = 4\n",
      "word= text[i:i+len(pattern)]\n",
      "print word"
     ],
     "language": "python",
     "metadata": {},
     "outputs": [
      {
       "output_type": "stream",
       "stream": "stdout",
       "text": [
        "CTAAACCCT\n"
       ]
      }
     ],
     "prompt_number": 35
    },
    {
     "cell_type": "code",
     "collapsed": false,
     "input": [
      "# my function\n",
      "def PatternCount(Text, Pattern):\n",
      "    count = 0\n",
      "    for i in range(0, len(Text) - len(Pattern)):\n",
      "        word = Text[i:i+len(Pattern)]\n",
      "        if word == Pattern:\n",
      "            count = count + 1       \n",
      "    return count       "
     ],
     "language": "python",
     "metadata": {},
     "outputs": [],
     "prompt_number": 36
    },
    {
     "cell_type": "code",
     "collapsed": false,
     "input": [
      "# solution detects 46 matches of this pattern\n",
      "PatternCount(text,pattern)"
     ],
     "language": "python",
     "metadata": {},
     "outputs": [
      {
       "metadata": {},
       "output_type": "pyout",
       "prompt_number": 37,
       "text": [
        "46"
       ]
      }
     ],
     "prompt_number": 37
    },
    {
     "cell_type": "code",
     "collapsed": false,
     "input": [],
     "language": "python",
     "metadata": {},
     "outputs": []
    }
   ],
   "metadata": {}
  }
 ]
}