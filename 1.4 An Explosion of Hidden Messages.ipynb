{
 "metadata": {
  "name": "",
  "signature": "sha256:2acb8fe9216966891d9ca7964edf54ad09013655ce4f424cc961dafda979547f"
 },
 "nbformat": 3,
 "nbformat_minor": 0,
 "worksheets": [
  {
   "cells": [
    {
     "cell_type": "code",
     "collapsed": false,
     "input": [
      "# use functions from 1.2 Hidden Messages in the Replication Origin\n",
      "# and 1.3 Some Hidden Messages are More Surprising than Others\n",
      "\n",
      "import numpy as np\n",
      "\n",
      "def CleanInput(Text):\n",
      "    # remove all whitespace characters (space, tab, newline, and so on)\n",
      "    Text = ''.join(Text.split())\n",
      "    Text = str.upper(Text)\n",
      "    return Text\n",
      "    \n",
      "def PatternCount(Text, Pattern):\n",
      "    # Text = CleanInput(Text)\n",
      "    # Pattern = CleanInput(Pattern)\n",
      "    \n",
      "    tLength = len(Text)\n",
      "    pLength = len(Pattern)\n",
      "    endRange = tLength - pLength\n",
      "    \n",
      "    count = 0\n",
      "    for i in range(0, endRange):\n",
      "        scan = Text[i:i+pLength]\n",
      "        if scan == Pattern:\n",
      "            count = count + 1       \n",
      "    return count     \n",
      "\n",
      "def FrequentWords(Text, k):\n",
      "    # Text = CleanInput(Text)\n",
      "    FrequentPatterns = list()\n",
      "    Count = np.zeros(len(Text))\n",
      "    # count k-mers\n",
      "    for i in range(0, len(Text) - k):\n",
      "        Pattern = Text[i:i+k]\n",
      "        Count[i] = PatternCount(Text, Pattern)\n",
      "    maxCount = max(Count)\n",
      "    \n",
      "    for i in range(0, len(Text) - k):\n",
      "        if Count[i] == maxCount:\n",
      "            FrequentPatterns.append(Text[i:i+k])    \n",
      "    #remove duplicates\n",
      "    setFreqPatterns = set(FrequentPatterns)\n",
      "    FrequentPatterns = setFreqPatterns    \n",
      "    return FrequentPatterns\n",
      "\n",
      "def ReverseComplement(Text):\n",
      "    Text = CleanInput(Text)\n",
      "    n = len(Text)\n",
      "    temp = list()\n",
      "    \n",
      "    for i in range(0, n):\n",
      "        n = n - 1\n",
      "        if Text[n] == 'A':\n",
      "            temp.append('T')\n",
      "        elif Text[n] == 'T': \n",
      "            temp.append('A')\n",
      "        elif Text[n] == 'C': \n",
      "            temp.append('G')\n",
      "        elif Text[n] == 'G': \n",
      "            temp.append('C')\n",
      "            \n",
      "    # convert list to string        \n",
      "    RevComp = ''.join(temp)        \n",
      "    return RevComp\n",
      "\n",
      "def PatternMatch(Pattern, Genome):\n",
      "    Pattern = CleanInput(Pattern)\n",
      "    Genome = CleanInput(Genome)\n",
      "    location = list()\n",
      "    for i in range(0, len(Genome) - len(Pattern)):\n",
      "        scan = Genome[i:i+len(Pattern)]\n",
      "        if scan == Pattern:\n",
      "            location.append(i)           \n",
      "    # convert list to string      \n",
      "    locations = ' '.join(map(str, location))        \n",
      "    return locations"
     ],
     "language": "python",
     "metadata": {},
     "outputs": [],
     "prompt_number": 293
    },
    {
     "cell_type": "markdown",
     "metadata": {},
     "source": [
      "Looking for hidden messages in multiple genomes\n",
      "\n",
      "We should not jump to the conclusion that ATGATCAAG/CTTGATCAT is a hidden message for all bacterial genomes without first checking whether it even appears in known oriC regions from other bacteria. After all, maybe the clumping effect of ATGATCAAG/CTTGATCAT in the oriC region of Vibrio cholerae is simply a statistical fluke that has nothing to do with replication. Or maybe different bacteria have different DnaA boxes\u2026\n",
      "\n",
      "Let's check the proposed oriC region of Thermotoga petrophila (download its genome below), a bacterium that thrives in extremely hot environments; its name derives from its discovery in the water beneath oil reservoirs, where temperatures can exceed 80\u00b0 Celsius."
     ]
    },
    {
     "cell_type": "code",
     "collapsed": false,
     "input": [
      "# genome of Thermotoga petrophila \n",
      "fileObject = open('Thermotoga-petrophila.txt', 'r')\n",
      "genome =  fileObject.read();"
     ],
     "language": "python",
     "metadata": {},
     "outputs": [],
     "prompt_number": 212
    },
    {
     "cell_type": "code",
     "collapsed": false,
     "input": [
      "# look for pattern in genome\n",
      "pattern = 'ATGATCAAG'\n",
      "print PatternMatch(pattern, genome)\n",
      "\n",
      "# 309348 545367 684487 1176668 1751372"
     ],
     "language": "python",
     "metadata": {},
     "outputs": [
      {
       "output_type": "stream",
       "stream": "stdout",
       "text": [
        "309348 545367 684487 1176668 1751372\n"
       ]
      }
     ],
     "prompt_number": 213
    },
    {
     "cell_type": "code",
     "collapsed": false,
     "input": [
      "# look for pattern in genome\n",
      "pattern = 'CTTGATCAT'\n",
      "print PatternMatch(pattern, genome)\n",
      "\n",
      "# 147883 249212 450238 521076 800991 1604405 1765807"
     ],
     "language": "python",
     "metadata": {},
     "outputs": [
      {
       "output_type": "stream",
       "stream": "stdout",
       "text": [
        "147883 249212 450238 521076 800991 1604405 1765807\n"
       ]
      }
     ],
     "prompt_number": 214
    },
    {
     "cell_type": "code",
     "collapsed": false,
     "input": [
      "# proposed oriC region of Thermotoga petrophila \n",
      "oriC = 'aactctatacctcctttttgtcgaatttgtgtgatttatagagaaaatcttattaactga aactaaaatggtaggtttggtggtaggttttgtgtacattttgtagtatctgatttttaa ttacataccgtatattgtattaaattgacgaacaattgcatggaattgaatatatgcaaa acaaacctaccaccaaactctgtattgaccattttaggacaacttcagggtggtaggttt ctgaagctctcatcaatagactattttagtctttacaaacaatattaccgttcagattca agattctacaacgctgttttaatgggcgttgcagaaaacttaccacctaaaatccagtat ccaagccgatttcagagaaacctaccacttacctaccacttacctaccacccgggtggta agttgcagacattattaaaaacctcatcagaagcttgttcaaaaatttcaatactcgaaa cctaccacctgcgtcccctattatttactactactaataatagcagtataattgatctga'"
     ],
     "language": "python",
     "metadata": {},
     "outputs": [],
     "prompt_number": 215
    },
    {
     "cell_type": "code",
     "collapsed": false,
     "input": [
      "# look for pattern in oriC\n",
      "pattern = 'ATGATCAAG'\n",
      "print PatternMatch(pattern, oriC)\n",
      "pattern = 'CTTGATCAT'\n",
      "print PatternMatch(pattern, oriC)  # No matches in oriC!\n"
     ],
     "language": "python",
     "metadata": {},
     "outputs": [
      {
       "output_type": "stream",
       "stream": "stdout",
       "text": [
        "\n",
        "\n"
       ]
      }
     ],
     "prompt_number": 216
    },
    {
     "cell_type": "code",
     "collapsed": false,
     "input": [
      "# Application of the Frequent Words Problem to the oriC region above reveals that \n",
      "# the following six 9-mers appear in this region 3 or more times:\n",
      "\n",
      "FrequentWords(oriC, 9)  # only see {'ACCTACCAC'} since occurs 4 times (maxcount only)"
     ],
     "language": "python",
     "metadata": {},
     "outputs": [
      {
       "metadata": {},
       "output_type": "pyout",
       "prompt_number": 217,
       "text": [
        "{'ACCTACCAC'}"
       ]
      }
     ],
     "prompt_number": 217
    },
    {
     "cell_type": "code",
     "collapsed": false,
     "input": [
      "ReverseComplement('ACCTACCAC')"
     ],
     "language": "python",
     "metadata": {},
     "outputs": [
      {
       "metadata": {},
       "output_type": "pyout",
       "prompt_number": 218,
       "text": [
        "'GTGGTAGGT'"
       ]
      }
     ],
     "prompt_number": 218
    },
    {
     "cell_type": "code",
     "collapsed": false,
     "input": [
      "PatternMatch('CCTACCACC', genome) # '581992 786870 787087 787165 1097035 1110512 1229685 1386189'"
     ],
     "language": "python",
     "metadata": {},
     "outputs": [
      {
       "metadata": {},
       "output_type": "pyout",
       "prompt_number": 219,
       "text": [
        "'581992 786870 787087 787165 1097035 1110512 1229685 1386189'"
       ]
      }
     ],
     "prompt_number": 219
    },
    {
     "cell_type": "markdown",
     "metadata": {},
     "source": [
      "Something peculiar must be happening because it is extremely unlikely that six different 9-mers will occur so frequently within the same short region in a random string. We will cheat a little and consult with Ori-Finder, a software tool for finding replication origins in DNA sequences. This software chooses CCTACCACC (along with its reverse complement GGTGGTAGG) as a working hypothesis for the DnaA box in Thermotoga petrophila. Together, these two complementary 9-mers appear five times in the replication origin:"
     ]
    },
    {
     "cell_type": "code",
     "collapsed": false,
     "input": [
      "PatternMatch('CCTACCACC', oriC) # '185 402 480'"
     ],
     "language": "python",
     "metadata": {},
     "outputs": [
      {
       "metadata": {},
       "output_type": "pyout",
       "prompt_number": 220,
       "text": [
        "'185 402 480'"
       ]
      }
     ],
     "prompt_number": 220
    },
    {
     "cell_type": "code",
     "collapsed": false,
     "input": [
      "PatternMatch('GGTGGTAGG', oriC) # '78 228'"
     ],
     "language": "python",
     "metadata": {},
     "outputs": [
      {
       "metadata": {},
       "output_type": "pyout",
       "prompt_number": 221,
       "text": [
        "'78 228'"
       ]
      }
     ],
     "prompt_number": 221
    },
    {
     "cell_type": "code",
     "collapsed": false,
     "input": [
      "# notice the white spaces from the line breaks during copying\n",
      "oriC"
     ],
     "language": "python",
     "metadata": {},
     "outputs": [
      {
       "metadata": {},
       "output_type": "pyout",
       "prompt_number": 222,
       "text": [
        "'aactctatacctcctttttgtcgaatttgtgtgatttatagagaaaatcttattaactga aactaaaatggtaggtttggtggtaggttttgtgtacattttgtagtatctgatttttaa ttacataccgtatattgtattaaattgacgaacaattgcatggaattgaatatatgcaaa acaaacctaccaccaaactctgtattgaccattttaggacaacttcagggtggtaggttt ctgaagctctcatcaatagactattttagtctttacaaacaatattaccgttcagattca agattctacaacgctgttttaatgggcgttgcagaaaacttaccacctaaaatccagtat ccaagccgatttcagagaaacctaccacttacctaccacttacctaccacccgggtggta agttgcagacattattaaaaacctcatcagaagcttgttcaaaaatttcaatactcgaaa cctaccacctgcgtcccctattatttactactactaataatagcagtataattgatctga'"
       ]
      }
     ],
     "prompt_number": 222
    },
    {
     "cell_type": "code",
     "collapsed": false,
     "input": [
      "CleanInput(oriC)"
     ],
     "language": "python",
     "metadata": {},
     "outputs": [
      {
       "metadata": {},
       "output_type": "pyout",
       "prompt_number": 223,
       "text": [
        "'AACTCTATACCTCCTTTTTGTCGAATTTGTGTGATTTATAGAGAAAATCTTATTAACTGAAACTAAAATGGTAGGTTTGGTGGTAGGTTTTGTGTACATTTTGTAGTATCTGATTTTTAATTACATACCGTATATTGTATTAAATTGACGAACAATTGCATGGAATTGAATATATGCAAAACAAACCTACCACCAAACTCTGTATTGACCATTTTAGGACAACTTCAGGGTGGTAGGTTTCTGAAGCTCTCATCAATAGACTATTTTAGTCTTTACAAACAATATTACCGTTCAGATTCAAGATTCTACAACGCTGTTTTAATGGGCGTTGCAGAAAACTTACCACCTAAAATCCAGTATCCAAGCCGATTTCAGAGAAACCTACCACTTACCTACCACTTACCTACCACCCGGGTGGTAAGTTGCAGACATTATTAAAAACCTCATCAGAAGCTTGTTCAAAAATTTCAATACTCGAAACCTACCACCTGCGTCCCCTATTATTTACTACTACTAATAATAGCAGTATAATTGATCTGA'"
       ]
      }
     ],
     "prompt_number": 223
    },
    {
     "cell_type": "markdown",
     "metadata": {},
     "source": [
      "#The Clump Finding Problem#\n",
      "\n",
      "Now imagine that you are trying to find oriC in a newly sequenced bacterial genome. Searching for \u201cclumps\u201d of either ATGATCAAG /CTTGATCAT or CCTACCACC/GGTGGTAGG is unlikely to help, since this new genome may use a completely different hidden message! Before we lose all hope, let\u2019s change our computational focus: instead of finding clumps of a specific k-mer, let\u2019s try to find every k-mer that forms a clump in the genome. Hopefully, the locations of these clumps will shed light on the location of oriC.\n",
      "\n",
      "Our plan is to slide a window of fixed length L along the genome, looking for a region where a k-mer appears several times in short succession. The parameter value L = 500 reflects the typical length of oriC in bacterial genomes.\n",
      "\n",
      "We defined a k-mer as a \"clump\" if it appears many times within a short interval of the genome. More formally, given integers L and t, a k-mer Pattern forms an (L, t)-clump inside a (larger) string Genome if there is an interval of Genome of length L in which this k-mer appears at least t times. (This definition assumes that the k-mer completely fits within the interval.) For example, TGCA forms a (25,3)-clump in the following Genome:\n",
      "\n",
      "gatcagcataagggtccCTGCAATGCATGACAAGCCTGCAGTtgttttac\n",
      "\n",
      "From our previous examples of oriC regions, ATGATCAAG forms a (500,3)-clump in the Vibrio cholerae genome, and CCTACCACC forms a (500,3)-clump in the Thermotoga petrophila genome. We are now ready to formulate the following problem."
     ]
    },
    {
     "cell_type": "markdown",
     "metadata": {},
     "source": [
      "Clump Finding Problem: Find patterns forming clumps in a string.\n",
      "     Input: A string Genome, and integers k, L, and t.\n",
      "     Output: All distinct k-mers forming (L, t)-clumps in Genome."
     ]
    },
    {
     "cell_type": "markdown",
     "metadata": {},
     "source": [
      "##Clump Finder Problemset"
     ]
    },
    {
     "cell_type": "code",
     "collapsed": false,
     "input": [
      "# Faster PatternCount using Python function\n",
      "def PatternCount2(Text, Pattern):\n",
      "    count = Text.count(Pattern)         \n",
      "    return count     "
     ],
     "language": "python",
     "metadata": {},
     "outputs": [],
     "prompt_number": 359
    },
    {
     "cell_type": "code",
     "collapsed": false,
     "input": [
      "# this RE function seems to work!\n",
      "# SUPER SLOW - 6 minutes vs 13 seconds for PatternCount2\n",
      "import re\n",
      "def PatternCount3(Text, Pattern):\n",
      "        return len(re.findall('(?={0})'.format(re.escape(Pattern)), Text))\n"
     ],
     "language": "python",
     "metadata": {},
     "outputs": [],
     "prompt_number": 348
    },
    {
     "cell_type": "code",
     "collapsed": false,
     "input": [
      "# modify FrequentWords() to keep duplicates\n",
      "def DuplicateFrequentWords(Text, k):\n",
      "    #Text = CleanInput(Text)\n",
      "    FrequentPatterns = list()\n",
      "    length = len(Text)\n",
      "    endRange = length - k   \n",
      "    Count = np.zeros(length)\n",
      "    \n",
      "    # count k-mers\n",
      "    for i in range(0, endRange):\n",
      "        Pattern = Text[i:i+k]\n",
      "        Count[i] = PatternCount2(Text, Pattern)\n",
      "    maxCount = max(Count)\n",
      "    \n",
      "    for i in range(0, endRange):\n",
      "        if Count[i] == maxCount:\n",
      "            FrequentPatterns.append(Text[i:i+k])  \n",
      "#    remove duplicates\n",
      "#    setFreqPatterns = set(FrequentPatterns)\n",
      "#    FrequentPatterns = setFreqPatterns    \n",
      "    return FrequentPatterns"
     ],
     "language": "python",
     "metadata": {},
     "outputs": [],
     "prompt_number": 360
    },
    {
     "cell_type": "markdown",
     "metadata": {},
     "source": [
      "##ClumpFinder()"
     ]
    },
    {
     "cell_type": "markdown",
     "metadata": {},
     "source": [
      "OLD NON-WORKING VERSION but maybe of some use later\n",
      "\n",
      "# Clump Finder - Find patterns forming clumps in a string.\n",
      "#     Input: A string Genome, and integers k, L, and t.\n",
      "#     Output: All distinct k-mers forming (L, t)-clumps in Genome.\n",
      "\n",
      "from collections import Counter\n",
      "\n",
      "def ClumpFinder(Genome, k, L, t):  # Genome, k-mer length, window size, times occurring\n",
      "    Genome = CleanInput(Genome)\n",
      "    FreqWordList = list()\n",
      "    \n",
      "    index = np.arange(len(Genome))\n",
      "#    for i in range(0, len(Genome) - L):\n",
      "    for i in index[::L]:    \n",
      "        window = Genome[i:i+L]\n",
      "        #print window\n",
      "        found = DuplicateFrequentWords(window, k)\n",
      "        #print found\n",
      "        FreqWordList.extend(found)\n",
      "   \n",
      "    # Count occurrences of words\n",
      "    # eliminate those not meeting threshold (t)\n",
      "    histogram = Counter(FreqWordList)\n",
      "    for i in list(histogram):\n",
      "        if histogram[i] < t:\n",
      "            del histogram[i]\n",
      "        \n",
      "    return histogram"
     ]
    },
    {
     "cell_type": "code",
     "collapsed": false,
     "input": [
      "#\n",
      "# Clump Finder 2 - Find patterns forming clumps in a string.\n",
      "#     Input: A string Genome, and integers k, L, and t.\n",
      "#     Output: All distinct k-mers forming (L, t)-clumps in Genome.\n",
      "\n",
      "from collections import Counter\n",
      "\n",
      "def ClumpFinder2(Genome, k, L, t):  # Genome, k-mer length, window size, times occurring\n",
      "    Genome = CleanInput(Genome)\n",
      "    FreqWordList = list()\n",
      "    endRange = len(Genome) - L\n",
      "    \n",
      "    for i in range(0, endRange):    \n",
      "        window = Genome[i:i+L]\n",
      "        found = DuplicateFrequentWords(window, k)\n",
      "        histogram = Counter(found)   \n",
      "        for j in list(histogram):\n",
      "            if histogram[j] < t:\n",
      "                del histogram[j]\n",
      "        FreqWordList.extend(histogram)\n",
      "        \n",
      "    return Counter(FreqWordList)"
     ],
     "language": "python",
     "metadata": {},
     "outputs": [],
     "prompt_number": 361
    },
    {
     "cell_type": "code",
     "collapsed": false,
     "input": [
      "# Use ClumpFinder2 algorithm\n",
      "Genome = 'CGGACTCGACAGATGTGAAGAACGACAATGTGAAGACTCGACACGACAGAGTGAAGAGAAGAGGAAACATTGTAA'\n",
      "k = 5\n",
      "L = 50\n",
      "t = 4\n",
      "ClumpFinder2(Genome, k, L, t)  #Counter({'CGACA': 7, 'GAAGA': 4})"
     ],
     "language": "python",
     "metadata": {},
     "outputs": [
      {
       "metadata": {},
       "output_type": "pyout",
       "prompt_number": 351,
       "text": [
        "Counter({'CGACA': 7, 'GAAGA': 4})"
       ]
      }
     ],
     "prompt_number": 351
    },
    {
     "cell_type": "code",
     "collapsed": false,
     "input": [
      "Genome = 'CGGACTCGACAGATGTGAAGAACGACAATGTGAAGACTCGACACGACAGAGTGAAGAGAAGAGGAAACATTGTAA'\n",
      "k = 5\n",
      "L = 50\n",
      "t = 4\n",
      "ClumpFinder(Genome, k, L, t)  #Counter({'AAACCAGGTGG': 20})"
     ],
     "language": "python",
     "metadata": {},
     "outputs": [
      {
       "metadata": {},
       "output_type": "pyout",
       "prompt_number": 352,
       "text": [
        "Counter({'CGACA': 4})"
       ]
      }
     ],
     "prompt_number": 352
    },
    {
     "cell_type": "code",
     "collapsed": false,
     "input": [
      "# Use ClumpFinder2 algorithm\n",
      "Genome = 'GCGGTTATGCACCGTTCAAATTAGCAAACCACTAAGCGACGTAGTCTGGATTGATTTCTCCCTACCAGTGACCCAAGACGCGTTAGTGAGTTAAGTTCATATCCAGTACCTGCCGCCCTCTGTACTTGGGCGTCCGATTCGCATGCTTACTCAGGTGGAGGACACGATAATCTGATTAAACTGAGCTAAACCAGGTGGAACCAGAAACCAGGTGGGGAGTCTCGCTTCAAGCCGTTCTTGCGATCAAACCAGGTGGTCCATTATGAAACCAGGTGGCTAAACCAGGTGGTCCAGATCCTCGAATGATGTCGGTGCACATCAAAACCAGGTGGGGTGGTGGAACGTAAAACCAGGTGGCATAAACCAGGTGGGCCGGTTCGTAAACCAGGTGAAACCAGGTGGGGTGGAAACCAGGTGGGTTACAAATTACGTTGAGATGGCCCAAACCAGGTGGTGGGCTTCACCCATGTCAACAAACCACCCTATGGAACTAAACCAGGTGGAACCAGGTGGTGAAGGCTTATCCTCAGGAAAAACCAGGTGGAGGTGGTGAAATAAAACCAGGTGGACCAGGTGGATAACCCTCGCCTCGCTTCTCAACCGAGACCTGGATAAACCAGGTGGGGTGGTCCACCGATTTTTGAGACACTAGAAACCAGGTGGGCGGGGAAACCAGGTGGCAAACCAGGTGGGGTGGACGGAAACCAGGTGGATATGTCATAAAACCAAACCAGGTGGTGCACCCCCATGGTGTGTCTTATCCGTGCGTATAAACCAGGTGGTCGCACGGCTTCCACTTGCTGAGAATAGGCCCGCAGGGTCAGTGCCATGCCCTCCGTCACTCGATATGTGTTGTAAGAGTGGTTACCCCTTCATTGAAGTCGCCCACAGCCCCACCTGCATTGCTAGACTATCACCCTACAGTAGGCCTTTTCGCCTTCTTCAAGCAGCAATCTCTTATCCGCGGATGGGCGCGGCGAGCGTGGCGTCCCCGAACATTTTTACCTAACGTGTTTTGTTGGCCGCAAGCCTTCCCTCTAGTCCACCTCAGCCATTCAGCCTAGTAGCTTTCAAGCCGAGCCTTCCATATCTAATGGACCGTCCAGAATTTCACACGTTTCACAGGGCTGTGTTCGACCGCCCGTAATGCTGTTTCACAGGCGATCGCCTTGCGGTTTTTTCACAGATCGCAGCCGATGGACATGCCAACTCGATTTTCACAGAGTTTTTCACAGCGGTTTCACAGCACAGCAGTGATTGTTTCACAGCAATTTTCACTTTCACAGGGGCCCTTTTCACAGCTCAGGGCTCTTTTCACTTTCACAGTTTCACAGCGCTCCTTTCACAGAGCGGGGAAATTTAAGGGAACACTCAAGGGAACAAGGGAACACACAAAGGGAACACAACACAACACATAAGGGAACACTTTCACAGAACACAAAAGTCCGAAATCATCAGCGGCGAAGGGATTTCACAGACAGACACTTTCACAGCGCATTTCACAGATACGTACTTTCACAGGCGTACTTTCACAGACTTTCACAGAGGACAAGCTCAATTTTCACAGACAGGCTGGATAAATTTCACAGCGGTAAGGGTTTCACAGCACACATAAGGGAACACGAATTTCACAGCAGGGAACACCTCTACGAGTAATCTATTACTCTACCTACTGAAGGGAACACACCGAAGACCTACTATTACCTATTACTCTTAAAGGGAACACATTACAAGGGAACACACTCTCTCGTCATATCTCACCTCTCTATTACTCTTAAGGGAACACCTTCTCGATCAACCTATTACTCTATGGAGATAGAGATATTCCAGACATATGGAGATAACATGGAGATATGGAGATAATGGAGATGGAGATAGCTCTTATATTTATCCTATGGAGATATGATACTATTAATGGAGATAATTCTAATGGAGATATAATTACTCTAAGAGGATGGGATCTCGGGCTATTACTCTAATGGAGATAAGCACTATTACTCTAGGAAATGGAGATATGTCAATGGAGATATGTAATGGAGATAGAGGGAGATGGAGTCGCCATTTCATAATCGCCATTTCATAGTTCAGGAATCGCCATTTCCGCCATTTCTAAGATGGAGTCGCCATTTCTACGTATGGAGATAGGATCGCCATTTCATACGACCCGTTGGATATCGCCATTTCCTCGCCATTTCTGGTGACATTTCTCGCCATTTCATTTCTGGAGATAGATGGATCTCGCCATTTCATAGGAATCGCCATTTCCACGTAGGGGGGGCCACAATCCGTAGGTCGGAATTCAGACTCGCCATTTCCCATCGCCATTTCTTCACCTGTATGCCGATCCCTTCGCCATTTCTCATGGAGATAACTCTCTCTCGCCATTTCTCGCCATTTCCATTTCACTCTCATTCGCCATCGCCATTTCCATTCGCCATTTCATCGCCATTTCTTCAGGATAAGATATCGCCATTTCGACTCTCATTCGCATACTGACTCTCATTCTCATCTCGCCATTTCTCATCTGACTCTCATCCTGGGGGAAACTTGCGACTCTCATCACACTTCCGTCGACTCTCATACTGGCGGATAGCATAGGAGCCATTTAAAGACTCTCATTCTCATTCGAGACTCTCATTCAAATCCTACGAGGACTCTCATATAGACTCTCATATCATTACGAGGACTCTCATATACGAGCCATGCATGTGGCGACGACTCTCATCTACGAGCCATGCAAGCAGAATCTACGAGCGACTCTCATTACGAGCCATGTGACCGTACGAGCCATGCATGCATGCCATGCTGACTCTCATCGAGTACGAGCCATGGAAGTTCTTGTTGGTTCGTAGCCCAAGAGCTGAAGTTACGAGCCTACGAGCCATGAAGTTACTTTTACGAGCCATGAAGCTTACGATACGAGCCATGCGAGCCATGCATCCGCGCTACGAGCCATGTTCCAGTACGAGCCATGTTAGTTGCTGAAGTTAAGTTTGGCGCTGAAGTTTGTACGAGCCATGTGCCCGCTGAAGTTTGTTGTACGAGCCATGCATGCTGAAGTTAATGGCTGAAGTTAGCGTTTGCGGGCAGATCCTCATTCTACGATACGAGCCATGCCATGCAGCTGAAGTTAAGTTGGGTTACGAGCCATGCGAGCCATGTGAAGTACGAGCCATGCTGGCTGAAGTTGTTTGTGCTGCTGAAGTTGCTCTTGTCTCTAGCTGAAGTTGCCAACAGGGCTGAAGCTGAAGTTTAAGCTGAAGTTGCGAGCAGGCTGAAGTTATCGGATTGGGGCTGAAGTTCAACCTCCCGTCCCCCCACACTATATTCCCGTCCCCCCCCGCGCACGCGCCGTCTCCCGTCCCCCCTATCCCGTGCGCACGCGACGCGATCCCGTCCCCCCAGAGTGCGCGCACGCGTCCCCCTTCCCGTCCCCCTCTCCCGGGCGCACGCGTCGCTCAACATTTCCGCGCACGCGTCGCGCACGCGGGCGCACGCGGGTCCCGTCCCCCCCCCTCTTCGGCGCACGCGGAATTCCCGTCGCGCACGCGTCCCGTCCCGCGCACGCGTCGCGCACGCGACTGCCCTAACCAACAGTGCGCACGCGCCGGTAACCCGGTAACCCGGTAACCGCGCACGCGGGCGCACGCGCGTAACCCGCGCACGCGCCGCGCACGCGGCCCGGTTCCCGTCCCCCCCGGTAACCCGGTAACTCCCGTCCCCCGTAACCCGGTGCGCACGCGCCCGGCGCACGCGGAGCGCACGCGCCCCCCCCGGTAATAGCGCACGCGCCCGGGCGCACGCGCCCGGTAACCCGGTAACCCGGGCGCGCGCACGCGGCGGCGCACGCGGCGCACGCGGCGCACGCG'\n",
      "k = 11\n",
      "L = 566\n",
      "t = 18\n",
      "ClumpFinder2(Genome, k, L, t)  #Counter({'AAACCAGGTGG': 139})"
     ],
     "language": "python",
     "metadata": {},
     "outputs": [
      {
       "metadata": {},
       "output_type": "pyout",
       "prompt_number": 353,
       "text": [
        "Counter({'AAACCAGGTGG': 139})"
       ]
      }
     ],
     "prompt_number": 353
    },
    {
     "cell_type": "code",
     "collapsed": false,
     "input": [
      "Genome = 'GCGGTTATGCACCGTTCAAATTAGCAAACCACTAAGCGACGTAGTCTGGATTGATTTCTCCCTACCAGTGACCCAAGACGCGTTAGTGAGTTAAGTTCATATCCAGTACCTGCCGCCCTCTGTACTTGGGCGTCCGATTCGCATGCTTACTCAGGTGGAGGACACGATAATCTGATTAAACTGAGCTAAACCAGGTGGAACCAGAAACCAGGTGGGGAGTCTCGCTTCAAGCCGTTCTTGCGATCAAACCAGGTGGTCCATTATGAAACCAGGTGGCTAAACCAGGTGGTCCAGATCCTCGAATGATGTCGGTGCACATCAAAACCAGGTGGGGTGGTGGAACGTAAAACCAGGTGGCATAAACCAGGTGGGCCGGTTCGTAAACCAGGTGAAACCAGGTGGGGTGGAAACCAGGTGGGTTACAAATTACGTTGAGATGGCCCAAACCAGGTGGTGGGCTTCACCCATGTCAACAAACCACCCTATGGAACTAAACCAGGTGGAACCAGGTGGTGAAGGCTTATCCTCAGGAAAAACCAGGTGGAGGTGGTGAAATAAAACCAGGTGGACCAGGTGGATAACCCTCGCCTCGCTTCTCAACCGAGACCTGGATAAACCAGGTGGGGTGGTCCACCGATTTTTGAGACACTAGAAACCAGGTGGGCGGGGAAACCAGGTGGCAAACCAGGTGGGGTGGACGGAAACCAGGTGGATATGTCATAAAACCAAACCAGGTGGTGCACCCCCATGGTGTGTCTTATCCGTGCGTATAAACCAGGTGGTCGCACGGCTTCCACTTGCTGAGAATAGGCCCGCAGGGTCAGTGCCATGCCCTCCGTCACTCGATATGTGTTGTAAGAGTGGTTACCCCTTCATTGAAGTCGCCCACAGCCCCACCTGCATTGCTAGACTATCACCCTACAGTAGGCCTTTTCGCCTTCTTCAAGCAGCAATCTCTTATCCGCGGATGGGCGCGGCGAGCGTGGCGTCCCCGAACATTTTTACCTAACGTGTTTTGTTGGCCGCAAGCCTTCCCTCTAGTCCACCTCAGCCATTCAGCCTAGTAGCTTTCAAGCCGAGCCTTCCATATCTAATGGACCGTCCAGAATTTCACACGTTTCACAGGGCTGTGTTCGACCGCCCGTAATGCTGTTTCACAGGCGATCGCCTTGCGGTTTTTTCACAGATCGCAGCCGATGGACATGCCAACTCGATTTTCACAGAGTTTTTCACAGCGGTTTCACAGCACAGCAGTGATTGTTTCACAGCAATTTTCACTTTCACAGGGGCCCTTTTCACAGCTCAGGGCTCTTTTCACTTTCACAGTTTCACAGCGCTCCTTTCACAGAGCGGGGAAATTTAAGGGAACACTCAAGGGAACAAGGGAACACACAAAGGGAACACAACACAACACATAAGGGAACACTTTCACAGAACACAAAAGTCCGAAATCATCAGCGGCGAAGGGATTTCACAGACAGACACTTTCACAGCGCATTTCACAGATACGTACTTTCACAGGCGTACTTTCACAGACTTTCACAGAGGACAAGCTCAATTTTCACAGACAGGCTGGATAAATTTCACAGCGGTAAGGGTTTCACAGCACACATAAGGGAACACGAATTTCACAGCAGGGAACACCTCTACGAGTAATCTATTACTCTACCTACTGAAGGGAACACACCGAAGACCTACTATTACCTATTACTCTTAAAGGGAACACATTACAAGGGAACACACTCTCTCGTCATATCTCACCTCTCTATTACTCTTAAGGGAACACCTTCTCGATCAACCTATTACTCTATGGAGATAGAGATATTCCAGACATATGGAGATAACATGGAGATATGGAGATAATGGAGATGGAGATAGCTCTTATATTTATCCTATGGAGATATGATACTATTAATGGAGATAATTCTAATGGAGATATAATTACTCTAAGAGGATGGGATCTCGGGCTATTACTCTAATGGAGATAAGCACTATTACTCTAGGAAATGGAGATATGTCAATGGAGATATGTAATGGAGATAGAGGGAGATGGAGTCGCCATTTCATAATCGCCATTTCATAGTTCAGGAATCGCCATTTCCGCCATTTCTAAGATGGAGTCGCCATTTCTACGTATGGAGATAGGATCGCCATTTCATACGACCCGTTGGATATCGCCATTTCCTCGCCATTTCTGGTGACATTTCTCGCCATTTCATTTCTGGAGATAGATGGATCTCGCCATTTCATAGGAATCGCCATTTCCACGTAGGGGGGGCCACAATCCGTAGGTCGGAATTCAGACTCGCCATTTCCCATCGCCATTTCTTCACCTGTATGCCGATCCCTTCGCCATTTCTCATGGAGATAACTCTCTCTCGCCATTTCTCGCCATTTCCATTTCACTCTCATTCGCCATCGCCATTTCCATTCGCCATTTCATCGCCATTTCTTCAGGATAAGATATCGCCATTTCGACTCTCATTCGCATACTGACTCTCATTCTCATCTCGCCATTTCTCATCTGACTCTCATCCTGGGGGAAACTTGCGACTCTCATCACACTTCCGTCGACTCTCATACTGGCGGATAGCATAGGAGCCATTTAAAGACTCTCATTCTCATTCGAGACTCTCATTCAAATCCTACGAGGACTCTCATATAGACTCTCATATCATTACGAGGACTCTCATATACGAGCCATGCATGTGGCGACGACTCTCATCTACGAGCCATGCAAGCAGAATCTACGAGCGACTCTCATTACGAGCCATGTGACCGTACGAGCCATGCATGCATGCCATGCTGACTCTCATCGAGTACGAGCCATGGAAGTTCTTGTTGGTTCGTAGCCCAAGAGCTGAAGTTACGAGCCTACGAGCCATGAAGTTACTTTTACGAGCCATGAAGCTTACGATACGAGCCATGCGAGCCATGCATCCGCGCTACGAGCCATGTTCCAGTACGAGCCATGTTAGTTGCTGAAGTTAAGTTTGGCGCTGAAGTTTGTACGAGCCATGTGCCCGCTGAAGTTTGTTGTACGAGCCATGCATGCTGAAGTTAATGGCTGAAGTTAGCGTTTGCGGGCAGATCCTCATTCTACGATACGAGCCATGCCATGCAGCTGAAGTTAAGTTGGGTTACGAGCCATGCGAGCCATGTGAAGTACGAGCCATGCTGGCTGAAGTTGTTTGTGCTGCTGAAGTTGCTCTTGTCTCTAGCTGAAGTTGCCAACAGGGCTGAAGCTGAAGTTTAAGCTGAAGTTGCGAGCAGGCTGAAGTTATCGGATTGGGGCTGAAGTTCAACCTCCCGTCCCCCCACACTATATTCCCGTCCCCCCCCGCGCACGCGCCGTCTCCCGTCCCCCCTATCCCGTGCGCACGCGACGCGATCCCGTCCCCCCAGAGTGCGCGCACGCGTCCCCCTTCCCGTCCCCCTCTCCCGGGCGCACGCGTCGCTCAACATTTCCGCGCACGCGTCGCGCACGCGGGCGCACGCGGGTCCCGTCCCCCCCCCTCTTCGGCGCACGCGGAATTCCCGTCGCGCACGCGTCCCGTCCCGCGCACGCGTCGCGCACGCGACTGCCCTAACCAACAGTGCGCACGCGCCGGTAACCCGGTAACCCGGTAACCGCGCACGCGGGCGCACGCGCGTAACCCGCGCACGCGCCGCGCACGCGGCCCGGTTCCCGTCCCCCCCGGTAACCCGGTAACTCCCGTCCCCCGTAACCCGGTGCGCACGCGCCCGGCGCACGCGGAGCGCACGCGCCCCCCCCGGTAATAGCGCACGCGCCCGGGCGCACGCGCCCGGTAACCCGGTAACCCGGGCGCGCGCACGCGGCGGCGCACGCGGCGCACGCGGCGCACGCG'\n",
      "k = 11\n",
      "L = 566\n",
      "t = 18\n",
      "ClumpFinder(Genome, k, L, t)  #Counter({'AAACCAGGTGG': 20})"
     ],
     "language": "python",
     "metadata": {},
     "outputs": [
      {
       "metadata": {},
       "output_type": "pyout",
       "prompt_number": 260,
       "text": [
        "Counter({'AAACCAGGTGG': 20})"
       ]
      }
     ],
     "prompt_number": 260
    },
    {
     "cell_type": "code",
     "collapsed": false,
     "input": [
      "# Use ClumpFinder2 algorithm\n",
      "Genome = 'gatcagcataagggtccCTGCAATGCATGACAAGCCTGCAGTtgttttac'\n",
      "k = 4\n",
      "L = 25\n",
      "t = 3\n",
      "ClumpFinder2(Genome, k, L, t)  #"
     ],
     "language": "python",
     "metadata": {},
     "outputs": [
      {
       "metadata": {},
       "output_type": "pyout",
       "prompt_number": 354,
       "text": [
        "Counter({'TGCA': 3})"
       ]
      }
     ],
     "prompt_number": 354
    },
    {
     "cell_type": "code",
     "collapsed": false,
     "input": [
      "# Use ClumpFinder2 algorithm\n",
      "from datetime import datetime\n",
      "start_time = datetime.now()\n",
      "print start_time, '\\n'\n",
      "\n",
      "fileObject = open('challenge_clump.txt', 'r')\n",
      "Genome =  fileObject.read();\n",
      "k = 11\n",
      "L = 490\n",
      "t = 19\n",
      "print(ClumpFinder2(Genome, k, L, t))\n",
      "\n",
      "stop_time = datetime.now()\n",
      "print '\\n', stop_time\n",
      "elapsed_time = stop_time - start_time\n",
      "print '\\n' + 'elapsed time = ' + str(elapsed_time)\n",
      "\n",
      "#GAGCGGCATCG CACATAGATTT GCGCGGATAAG GCACCCCTCAT GACGGGGCGGG TTGGGTGGGAG TCACTATTCGC\n",
      "# using Python (PatternCount2) 0:12 - does not handle overlapping!\n",
      "# using RE (PatternCount3) 0:06:13"
     ],
     "language": "python",
     "metadata": {},
     "outputs": [
      {
       "output_type": "stream",
       "stream": "stdout",
       "text": [
        "2014-11-02 09:37:45.427096 \n",
        "\n",
        "Counter({'GAGCGGCATCG': 186, 'CACATAGATTT': 116, 'GCGCGGATAAG': 110, 'GCACCCCTCAT': 84, 'GACGGGGCGGG': 65, 'TTGGGTGGGAG': 5, 'TCACTATTCGC': 4})"
       ]
      },
      {
       "output_type": "stream",
       "stream": "stdout",
       "text": [
        "\n",
        "\n",
        "2014-11-02 09:37:58.025726\n",
        "\n",
        "elapsed time = 0:00:12.598630\n"
       ]
      }
     ],
     "prompt_number": 365
    },
    {
     "cell_type": "markdown",
     "metadata": {},
     "source": [
      "###EXERCISE BREAK: How many different 9-mers form (500,3)-clumps in the E. coli genome? (In other words, do not count a 9-mer more than once.)"
     ]
    },
    {
     "cell_type": "markdown",
     "metadata": {},
     "source": [
      "You can solve the Clump Finding Problem by applying your algorithm for the Frequent Words Problem to each window of length L in Genome. However, if your algorithm for the Frequent Words Problem is not very efficient, then such an approach may be impractical. For example, recall that FrequentWords had O(L2 \u00b7 k) running time. Applying this algorithm to each window of length L in Genome will result in an algorithm with O(L2 \u00b7 k \u00b7 |Genome|) running time. Moreover, even if we use a faster algorithm for the Frequent Words Problem (like the one described in CHARGING STATION: The Frequency Array), the running time remains high when we try to analyze a bacterial \u2014 let alone human \u2014 genome. Check out CHARGING STATION: Solving the Clump Finding Problem) to learn about a more efficient approach for solving the Clump Finding Problem.\n",
      "\n",
      "If you think your solution is efficient enough, try it out on the E. coli genome, the workhorse of bacterial genomics.\n",
      "\n",
      "Download Genome (4.6 MB)\n"
     ]
    },
    {
     "cell_type": "code",
     "collapsed": false,
     "input": [
      "# Use ClumpFinder2 algorithm\n",
      "from datetime import datetime\n",
      "start_time = datetime.now()\n",
      "\n",
      "fileObject = open('E-coli.txt', 'r')\n",
      "Genome =  fileObject.read();\n",
      "k = 9\n",
      "L = 500\n",
      "t = 3\n",
      "print(ClumpFinder2(Genome, k, L, t))\n",
      "\n",
      "stop_time = datetime.now()\n",
      "elapsed_time =stop_time - start_time\n",
      "print elapsed_time\n",
      "\n",
      "#GAGCGGCATCG CACATAGATTT GCGCGGATAAG GCACCCCTCAT GACGGGGCGGG TTGGGTGGGAG TCACTATTCGC"
     ],
     "language": "python",
     "metadata": {},
     "outputs": [
      {
       "output_type": "stream",
       "stream": "stdout",
       "text": [
        "Counter({'CGGATGCGG': 2009, 'GGATGCGGC': 2006, 'GATGCGGCG': 2003, 'CCGGATGCG': 1809, 'CCGCATCCG': 1663, 'GCCGCATCC': 1647, 'GCCTGATGC': 1625, 'GCCTTATCC': 1607, 'CCTTATCCG': 1604, 'CATCCGGCA': 1589, 'CCTGATGCG': 1513, 'GCATCCGGC': 1513, 'ATGCGACGC': 1495, 'TGCGACGCT': 1495, 'CGTCTTATC': 1495, 'GATGCGACG': 1495, 'CGCGTCTTA': 1495, 'ATGCGGCGT': 1495, 'GCGTCTTAT': 1495, 'GCCGGATGC': 1491, 'CTTATCCGG': 1491, 'TTATCCGGC': 1487, 'GCATCAGGC': 1450, 'TGCCTGATG': 1380, 'GTTTATCCC': 1357, 'GCGGGGAAC': 1357, 'GGTTTATCC': 1357, 'GCGTCGCAT': 1343, 'CGTCGCATC': 1343, 'GATAAGACG': 1343, 'GCTGGCGCG': 1295, 'CGCTGGCGC': 1288, 'CGCCTTATC': 1288, 'CGCATCCGG': 1265, 'TGCCGGATG': 1250, 'GTCTTATCA': 1200, 'CTGATGCGA': 1200, 'TGATGCGAC': 1200, 'GGATAAGGC': 1185, 'CGCATCAGG': 1182, 'TCCGGCCTA': 1151, 'CCGGCCTAC': 1149, 'CGCCGCATC': 1129, 'ATAAGACGC': 1103, 'CGGATAAGG': 1096, 'CATCAGGCA': 1096, 'GATAAGGCG': 1085, 'CGCGGGGAA': 1078, 'ATCAGGCCT': 1048, 'TATCAGGCC': 1048, 'TTATCAGGC': 1048, 'CTTATCAGG': 1048, 'TCAGGCCTA': 1048, 'ATCCTGCAC': 1044, 'TCGCATCAG': 1030, 'GTCGCATCA': 1030, 'GGCCTGATA': 1029, 'GCCTGATAA': 1028, 'CCTGATAAG': 1027, 'ACGCCGCAT': 1008, 'TCTTATCAG': 1001, 'TAAGGCGTT': 993, 'ATAAGGCGT': 993, 'ATCCCCGCT': 969, 'GCGCGGGGA': 967, 'TATCCCCGC': 964, 'GGCGCGGGG': 963, 'TGGCGCGGG': 958, 'TTATCCCCG': 958, 'CGCATCCGA': 954, 'CTGGCGCGG': 953, 'GCATCCGAC': 952, 'TTTATCCCC': 951, 'CATCCGACA': 950, 'TGATAAGAC': 946, 'CTGATAAGA': 946, 'CCGCTGGCG': 936, 'CCCGCTGGC': 931, 'CCCCGCTGG': 926, 'TCCCCGCTG': 920, 'CCGGATAAG': 886, 'TATCCGGCC': 869, 'ATCCGGCCT': 865, 'TCCTGCACG': 859, 'CACGACCCA': 859, 'CGACCCACC': 859, 'GACCCACCA': 859, 'TGCACGACC': 859, 'CTGCACGAC': 859, 'ACGACCCAC': 859, 'GCACGACCC': 859, 'CCTGCACGA': 859, 'CGGTTTATC': 819, 'GCGACGCTG': 817, 'AGCGTCGCA': 805, 'CAGGCCTAC': 780, 'CGTAGGCCG': 778, 'GGTCGGATA': 769, 'TCGGATAAG': 769, 'GTCGGATAA': 769, 'GGGGAACTC': 764, 'ACGCCTTAT': 764, 'TTAGCTCAG': 742, 'TGTAGGCCT': 741, 'GTAGGCCTG': 740, 'TAGGCCTGA': 739, 'AGGCCTGAT': 738, 'ATTCGAACC': 725, 'GATTCGAAC': 723, 'GGTGCATCC': 722, 'TGGTGCATC': 722, 'ATGGTGCAT': 722, 'CATCCGGGA': 722, 'GCATCCGGG': 722, 'TCCGGGAGG': 722, 'TGCATCCGG': 722, 'ATCCGGGAG': 722, 'GTGCATCCG': 722, 'CCGGGAGGA': 722, 'CGGGAGGAT': 722, 'GGATTCGAA': 721, 'ATGCCTGAT': 687, 'GCGACGCTT': 678, 'TGCGGCGTG': 668, 'TAAGACGCG': 663, 'ATCCGACAT': 635, 'GTAGGCCGG': 597, 'TAGGCCGGA': 596, 'AGGCCGGAT': 595, 'GGCCGGATA': 594, 'GCCGGATAA': 593, 'GCGCTGGCG': 566, 'CGGATAAGA': 558, 'TCGCATCCG': 558, 'CGGGGAACT': 550, 'GGGGAAGGA': 527, 'TGGTGGGGG': 527, 'GGTGGGGGA': 527, 'ATGGTGGTG': 527, 'GGAAGGATT': 527, 'GGGAAGGAT': 527, 'TGGGGGAAG': 527, 'GGGGGAAGG': 527, 'GGTGGTGGG': 527, 'GTGGTGGGG': 527, 'TGGTGGTGG': 527, 'GTGGGGGAA': 527, 'CGGCGGCGG': 526, 'CGGCCTACG': 526, 'GTAGGTCGG': 524, 'AGGCCTACG': 524, 'AGGTCGGAT': 524, 'TGTAGGTCG': 524, 'TAGGTCGGA': 524, 'GGGAGGATT': 515, 'GAGGGGGGG': 513, 'CACTATGGC': 496, 'TGAAATGAT': 496, 'GCACTATGG': 496, 'CTATGGCAC': 496, 'GAAATGATG': 496, 'ATGAAATGA': 496, 'AAATGATGA': 496, 'ACTATGGCA': 496, 'TTAAATAAT': 493, 'ACGGTGCTA': 489, 'AGAAAGCGG': 489, 'AAGAAAGCG': 489, 'CCGTAGGCC': 489, 'GATGAAATG': 480, 'ATGGCACTA': 480, 'AATGATGAA': 480, 'TGATGAAAT': 480, 'TATGGCACT': 480, 'GGCACTATG': 480, 'TGGCACTAT': 480, 'ATGATGAAA': 480, 'ATCTATTCA': 479, 'AATGCCAGC': 474, 'TCGGCATCG': 471, 'ATCGGCATC': 471, 'ATATTTTTT': 469, 'ATCCGGCAA': 469, 'TTATCAAAA': 467, 'CATCATCAT': 461, 'GGGGCAAAA': 461, 'GTCAAAAGT': 458, 'AAAAGTTGC': 458, 'CAAAAGTTG': 458, 'TGGGTCAAA': 458, 'GTGGGTCAA': 458, 'GGGTCAAAA': 458, 'GGTCAAAAG': 458, 'GGTGGGTCA': 458, 'AAGTTGCCG': 458, 'TCAAAAGTT': 458, 'CCAGCAGCA': 458, 'AAAGTTGCC': 458, 'TCTCCGTTC': 455, 'TCATCCGGC': 455, 'TCATCCTGA': 453, 'AAGACGCGC': 449, 'TTGCCGGAT': 449, 'TAAGACGCA': 441, 'GTGATCGTG': 440, 'CTGTTCATA': 438, 'TGTTCATAT': 438, 'GCAGCCGCA': 431, 'GGAGTTAAG': 428, 'CTGCCGGAT': 423, 'GACTGCCGG': 420, 'CACGACTGC': 420, 'ACGACTGCC': 420, 'ACTGCCGGA': 420, 'CGACTGCCG': 420, 'TATCAGCAG': 419, 'TCAGCAGCC': 419, 'ATCAGCAGC': 419, 'GATGGTGGT': 417, 'GCCGGTATC': 414, 'AAGTTGAAG': 409, 'CAGCAGGCC': 407, 'GCGCAAAGC': 401, 'GGAACAGCA': 401, 'AACAGCAAC': 401, 'GATCCGCGC': 401, 'GAACAGCAA': 401, 'ATCCGCGCA': 401, 'TCCGCGCAA': 401, 'CGCGCAAAG': 401, 'CCGCGCAAA': 401, 'GGCTAATGC': 401, 'ACGCTGGCG': 397, 'GGCGCTGCT': 395, 'CTGGCGGAT': 391, 'GCGGCGTGA': 388, 'TCCGACATC': 388, 'CGGCGTGAA': 387, 'GGCGTGAAC': 386, 'CCAGCAGGC': 386, 'GCGTGAACG': 385, 'CGTGAACGC': 384, 'AAGACGCAT': 384, 'GTGAACGCC': 383, 'CAACGGTGG': 382, 'GAGCAGCCT': 381, 'GAACTGGAA': 380, 'GCCTGCGCC': 377, 'TATTGGTGA': 375, 'TTTCAATAT': 375, 'TCAATATTG': 375, 'AATATTGGT': 375, 'CAATATTGG': 375, 'ATATTGGTG': 375, 'TTCAATATT': 375, 'AATGCCTGA': 374, 'GTCTTCAAT': 374, 'CTGTAGGCC': 374, 'ATCAGGCAA': 367, 'CTACGGTTA': 367, 'GGCAACGGC': 367, 'CGGTTATGT': 367, 'GGTTATGTT': 367, 'TACGGTTAT': 367, 'GTTATGTTC': 367, 'AGGCAACGG': 367, 'ACGGTTATG': 367, 'CAGGCAACG': 367, 'TCAGGCAAC': 367, 'CAACGGCTG': 367, 'CCTACGGTT': 367, 'GCAACGGCT': 367, 'TGCACCTTT': 359, 'AGCGCACCA': 359, 'GACCTTTCG': 359, 'CAGCGCACC': 359, 'TCCGGTTAA': 356, 'CGCACCAAA': 356, 'TGCATAATC': 356, 'CAGCACGCC': 348, 'GCCGGTTGC': 347, 'CCCCGTAGG': 347, 'GGCGCGTCT': 347, 'GGTTGCCTG': 347, 'CTGGCGCGT': 347, 'CCCGTAGGT': 347, 'ACCCCGTAG': 347, 'TGGCGCGTC': 347, 'GTTGCCTGA': 347, 'GTGAAGTGC': 347, 'AGCCGGTTG': 347, 'CGGTTGCCT': 347, 'GACGCTGGC': 347, 'TTGCCTGAT': 347, 'CCGGTTGCC': 347, 'CGACGCTGG': 347, 'CACCCCGTA': 347, 'GCGCGTCTT': 347, 'GCGGCGGCG': 335, 'TCGGAAAGC': 332, 'GGCAGGAAG': 331, 'TATGGATTA': 331, 'GCAGGAAGG': 331, 'ATATGGATT': 331, 'GGCCTACGG': 329, 'GCGCTGGAA': 329, 'GAAAGCGGC': 321, 'AACGCCTTA': 319, 'CGTGATCGT': 314, 'GTCGCATCC': 313, 'TCCGACAAC': 313, 'ACTGTAGGT': 313, 'GAACTGTAG': 313, 'TGAACTGTA': 313, 'CTGTAGGTC': 313, 'ATCCGACAA': 313, 'GATGCCTGA': 313, 'ACTGAACTG': 313, 'GACTTATCA': 313, 'CTGAACTGT': 313, 'CCGATGCCT': 313, 'GGATAAGAC': 313, 'CGATGCCTG': 313, 'ACTTATCAG': 313, 'AACTGTAGG': 313, 'TCGAACCTT': 310, 'AGACGCATT': 309, 'GTCGGATGC': 309, 'TACGCGTCG': 309, 'ACTGTAGGC': 309, 'ACGCATTAC': 309, 'ACGCGTCGC': 309, 'AACGGCTGT': 309, 'CGCGTCGCA': 309, 'GCATTACGC': 309, 'CATTACGCG': 309, 'GACGCATTA': 309, 'TTACGCGTC': 309, 'CACTGTAGG': 309, 'TGTCGGATG': 309, 'TCGGATGCG': 309, 'ATTACGCGT': 309, 'CGCATTACG': 309, 'GTCTGCTTC': 308, 'GCGCTTCGC': 308, 'ATGAAATTT': 308, 'AGTCATTCA': 306, 'ACAGTCATT': 306, 'TCATTCATC': 306, 'TCGTGGACA': 306, 'GTCGTGGAC': 306, 'GTCATTCAT': 306, 'GTGGACAGT': 306, 'CGTGGACAG': 306, 'GACAGTCAT': 306, 'CATTCATCT': 306, 'TGGACAGTC': 306, 'GGACAGTCA': 306, 'CAGTCATTC': 306, 'AAAGCGGTT': 302, 'AGCGGTTGA': 302, 'AAGCGGTTG': 302, 'AGCTGGATG': 299, 'CTGGCGGCG': 297, 'AACCCGCCG': 294, 'ACCGATAAG': 294, 'GATAAGCCG': 294, 'AAACCCGCC': 294, 'CGATAAGCC': 294, 'ACTGACCGA': 294, 'CCGATAAGC': 294, 'AAACTGACC': 294, 'CTGACCGAT': 294, 'GACCGATAA': 294, 'AACTGACCG': 294, 'TGACCGATA': 294, 'CGCCGCGCC': 293, 'GCCGAGGAT': 293, 'AATTTGTAG': 287, 'ATTTGTAGG': 287, 'GAATTTGTA': 287, 'GCGACCAGC': 286, 'TGCGTATCG': 284, 'GCCGCCAGT': 281, 'GGCTGGCGT': 272, 'GCTGACGCC': 269, 'TAGAGCACG': 268, 'GCGGGAATA': 268, 'AGCACGACC': 268, 'AGTTCGAGT': 268, 'GAATAGCTC': 268, 'ATAGCTCAG': 268, 'GTAGAGCAC': 268, 'TTTCCCGCT': 268, 'CGTTTCCCG': 268, 'CGGGAATAG': 268, 'ACGACCTTG': 268, 'CCGCTCCAA': 268, 'TAGCTCAGT': 268, 'TTCCCGCTC': 268, 'TTCGAGTCT': 268, 'GTTTCCCGC': 268, 'GGGTCGCGA': 268, 'TCGGGGTCG': 268, 'TCGAGTCTC': 268, 'GGGGTCGCG': 268, 'GCGAGTTCG': 268, 'CGACCTTGC': 268, 'TTGGTAGAG': 268, 'CCAAGGTCG': 268, 'GAGTCTCGT': 268, 'GGTAGAGCA': 268, 'GTCGCGAGT': 268, 'CTCGTTTCC': 268, 'GTTCGAGTC': 268, 'ACCTTGCCA': 268, 'GACCTTGCC': 268, 'GAGTTCGAG': 268, 'TCTCGTTTC': 268, 'CAGTTGGTA': 268, 'CCTTGCCAA': 268, 'CAAGGTCGG': 268, 'TCAGTTGGT': 268, 'TGGTAGAGC': 268, 'GAGCACGAC': 268, 'GGTCGGGGT': 268, 'CCCGCTCCA': 268, 'CGAGTCTCG': 268, 'GTCTCGTTT': 268, 'TGCCAAGGT': 268, 'AGGTCGGGG': 268, 'AGAGCACGA': 268, 'CGAGTTCGA': 268, 'CGGGGTCGC': 268, 'GGAATAGCT': 268, 'AGCTCAGTT': 268, 'TTGCCAAGG': 268, 'CTTGCCAAG': 268, 'GGTCGCGAG': 268, 'GGGAATAGC': 268, 'AGTCTCGTT': 268, 'CTCAGTTGG': 268, 'AGTTGGTAG': 268, 'GCCAAGGTC': 268, 'TCGCGAGTT': 268, 'GTTGGTAGA': 268, 'TCCCGCTCC': 268, 'CACGACCTT': 268, 'AAGGTCGGG': 268, 'GCTCAGTTG': 268, 'CGCGAGTTC': 268, 'CGCTCCAAA': 268, 'AATAGCTCA': 268, 'TCGTTTCCC': 268, 'GTCGGGGTC': 268, 'GCACGACCT': 268, 'AACAGCACG': 266, 'TGAATCAGC': 266, 'TTCTCATCC': 264, 'GCTTCTCAT': 264, 'CTTCTCATC': 264, 'GGCCTACAA': 259, 'ATATGGCGG': 258, 'GTACTTTCG': 258, 'TCTTCTTTA': 258, 'AGCTCTTCT': 258, 'GGTGAGGGG': 258, 'TTAAATATG': 258, 'AAAAAAAAG': 258, 'CTTCTTTAA': 258, 'TATGGCGGT': 258, 'AAAAAGCCC': 258, 'TTCGTACGA': 258, 'GGCGGTGAG': 258, 'CGTACTTTC': 258, 'GGGGGGATT': 258, 'CGTACGAGC': 258, 'GTGTGCAAT': 258, 'CCGTACTTT': 258, 'CCGGTGTGT': 258, 'CTCTTCTTT': 258, 'TACTTTCGT': 258, 'TTTAAATAT': 258, 'TGTGTGCAA': 258, 'TTTCGTACG': 258, 'GCGGTGAGG': 258, 'CCCGTACTT': 258, 'GAGCTCTTC': 258, 'AAGCCCGTA': 258, 'CGGTGAGGG': 258, 'GCTCTTCTT': 258, 'ACTTTCGTA': 258, 'TCGTACGAG': 258, 'CGAGCTCTT': 258, 'AAAAAAAGC': 258, 'AGGGGGGGA': 258, 'TGAGGGGGG': 258, 'TAAATATGG': 258, 'ACGAAAAAA': 258, 'GGGGGGGAT': 258, 'GTACGAGCT': 258, 'GCCCGTACT': 258, 'GTGAGGGGG': 258, 'AAAAGCCCG': 258, 'CGAAAAAAA': 258, 'CTTTAAATA': 258, 'CCCGGTGTG': 258, 'TGGCGGTGA': 258, 'TCTTTAAAT': 258, 'TTCTTTAAA': 258, 'TACGAGCTC': 258, 'AATATGGCG': 258, 'CTTTCGTAC': 258, 'AAATATGGC': 258, 'AAAAAAGCC': 258, 'ACGAGCTCT': 258, 'ATGGCGGTG': 258, 'GGTGTGTGC': 258, 'CGGTGTGTG': 258, 'GAAAAAAAA': 258, 'GTGTGTGCA': 258, 'AAAGCCCGT': 258, 'TGTGCAATA': 258, 'AGCCCGTAC': 258, 'CGCTCGGCA': 257, 'AGGCCTACA': 256, 'ACACTAACA': 255, 'CACCTGAAG': 255, 'GGGACTTGA': 255, 'GTCCGTAAG': 255, 'CTTGAACCC': 255, 'GCTAGCGCG': 255, 'GGACTTGAA': 255, 'AACACCTGA': 255, 'GTCTACCAA': 255, 'CGCGTCTAC': 255, 'TTGAACCCC': 255, 'CTAGCGCGT': 255, 'ACGTCCGTA': 255, 'GGGGGGGGA': 255, 'CAATTCCGC': 255, 'TGGTGCGAG': 255, 'GCCACCTTC': 255, 'ACCTGAAGC': 255, 'GACTTGAAC': 255, 'CTACCAATT': 255, 'CCCCCACGT': 255, 'CCACGTCCG': 255, 'TAGCGCGTC': 255, 'CCGCCACCT': 255, 'AGCTAGCGC': 255, 'TTCCGCCAC': 255, 'ACACCTGAA': 255, 'GGGGGACTT': 255, 'CGCCACCTT': 255, 'ACTAACACC': 255, 'TTGGTGCGA': 255, 'AATTCCGCC': 255, 'TCTACCAAT': 255, 'CTGAAGCTA': 255, 'CCTGAAGCT': 255, 'TGAACCCCC': 255, 'CTAACACCT': 255, 'GCGAGGGGG': 255, 'AGCGCGTCT': 255, 'AGGGGGGGG': 255, 'TCCGCCACC': 255, 'ACTTGAACC': 255, 'CCACCTTCG': 255, 'GAAGCTAGC': 255, 'CCAATTCCG': 255, 'GGGGACTTG': 255, 'GTGCGAGGG': 255, 'GGGGGGGAC': 255, 'AAGCTAGCG': 255, 'TGCGAGGGG': 255, 'CACGTCCGT': 255, 'TGAAGCTAG': 255, 'AACCCCCAC': 255, 'GGGGGGACT': 255, 'ACCCCCACG': 255, 'GCGTCTACC': 255, 'CGTCTACCA': 255, 'CGAGGGGGG': 255, 'ACCAATTCC': 255, 'ATTCCGCCA': 255, 'CCCCACGTC': 255, 'GCGCGTCTA': 255, 'CCCACGTCC': 255, 'GAACCCCCA': 255, 'GGTGCGAGG': 255, 'CGTCCGTAA': 255, 'TAACACCTG': 255, 'CACCTTCGC': 255, 'TACCAATTC': 255, 'CACTAACAC': 255, 'TGAACTGGC': 254, 'CGTGCTTCT': 254, 'GTGCTTCTT': 254, 'TGCTTCTTC': 254, 'ACGCTCTTT': 247, 'GGGGAACAC': 246, 'CGGCGCGAG': 245, 'GACATTATT': 245, 'AAGATGCGC': 245, 'GCGAGCGCC': 245, 'ATAAGATGC': 245, 'CGACATTAT': 245, 'GATGCGCAA': 245, 'CGGCACTGG': 245, 'ACTGGAGTT': 245, 'GCGCGAGCG': 245, 'CCGACATTA': 245, 'CGCTGTAAT': 245, 'GCACTGGAG': 245, 'CGCGAGCGC': 245, 'CTGGAGTTT': 245, 'TTATTGCGG': 245, 'GATAAGATG': 245, 'ATTGCGGCA': 245, 'AGCGCCTTA': 245, 'TGGCAACAG': 245, 'TTGCGGCAC': 245, 'TGGAGTTTG': 245, 'TGCGGCGCG': 245, 'TCCGACATT': 245, 'GCGGCGCGA': 245, 'TTTGGCAAC': 245, 'TAAGATGCG': 245, 'TGCGGCACT': 245, 'GCGCCTTAT': 245, 'GGCGCGAGC': 245, 'ATGCGCAAG': 245, 'GGATAAGAT': 245, 'AGTTTGGCA': 245, 'GAGCGCCTT': 245, 'GTTTGGCAA': 245, 'ATCGCATCC': 245, 'TTGGCAACA': 245, 'ACATTATTG': 245, 'GCGGCACTG': 245, 'GGAGTTTGG': 245, 'CGAGCGCCT': 245, 'TATTGCGGC': 245, 'ATTATTGCG': 245, 'ATGCGGCGC': 245, 'CACTGGAGT': 245, 'GAGTTTGGC': 245, 'GGCACTGGA': 245, 'CATTATTGC': 245, 'AGATGCGCA': 245, 'GGCGCTGGC': 243, 'CGGGGAACA': 242, 'TCAGCGCCT': 240, 'GCAGAAGCA': 240, 'ATCAGGCAG': 239, 'CGAACCTCC': 239, 'TTGTAGGCC': 239, 'TTTGTAGGC': 238, 'TCAGGCAGT': 237, 'TCGAACCTC': 237, 'GGCCTACGA': 237, 'CGTTCTTTA': 233, 'CTGAAAGAA': 231, 'CGGCAACGC': 224, 'TATCCAGCG': 221, 'ATCCAGCGT': 221, 'ATTCTGGTG': 221, 'CGCTTTGTT': 218, 'GCTTTGTTG': 218, 'AAATGGCGG': 215, 'GCGTTCACG': 213, 'TAGCGTCGC': 213, 'CGACATCAA': 213, 'CCGACATCA': 213, 'GCAACCAAT': 212, 'CCAGACAGC': 211, 'CGTGATTTT': 211, 'AGCGCAATA': 211, 'TTAGCGTGA': 211, 'CCTGATTTA': 211, 'TTTTGTAGG': 211, 'TTTGTAGGT': 211, 'AGCGTGATT': 211, 'AGGCGTTTA': 211, 'AGCCTGATT': 211, 'GCGTGATTT': 211, 'GCAATAGCC': 211, 'GCGCAATAG': 211, 'ATAGCCTGA': 211, 'GCCTGATTT': 211, 'ACGCCAGAC': 211, 'CTGATTTAG': 211, 'AAGGCGTTT': 211, 'TTTAGCGTG': 211, 'GCCAGACAG': 211, 'TGATTTAGC': 211, 'CGCCAGACA': 211, 'CCTACGCCA': 211, 'CTACGCCAG': 211, 'AGACAGCGC': 211, 'CGCAACCAA': 211, 'GACAGCGCA': 211, 'GCCTACGCC': 211, 'ACAGCGCAA': 211, 'ATTTTGTAG': 211, 'CGCAATAGC': 211, 'TGATTTTGT': 211, 'GTGATTTTG': 211, 'CAATAGCCT': 211, 'CAGCGCAAT': 211, 'GGCCTACGC': 211, 'TAGCGTGAT': 211, 'CAGACAGCG': 211, 'TTGTAGGTC': 211, 'GATTTAGCG': 211, 'ATTTAGCGT': 211, 'TAGCCTGAT': 211, 'AATAGCCTG': 211, 'TACGCCAGA': 211, 'GATTTTGTA': 211, 'CCGCAACCA': 210, 'TAGGGCAGA': 209, 'CCCGCAACC': 209, 'TGATGTTGC': 209, 'CATTCTGAT': 208, 'ATCTGCGCA': 208, 'CCCCGCAAC': 208, 'CCCCCGCAA': 207, 'CTGCGCCTG': 206, 'GCCCCCGCA': 206, 'TGCGCCTGT': 206, 'CATGCCGAC': 206, 'GGCCCCCGC': 205, 'CTACATGTG': 204, 'CGGCCCCCG': 204, 'CCGGCCCCC': 203, 'CCTACATGT': 203, 'TCGAACCCC': 203, 'TCCGGCCCC': 202, 'CCCTACATG': 202, 'GCCCTACAT': 201, 'ATCCGGCCC': 201, 'GTTCGCCAC': 200, 'CGCCCTACA': 200, 'AATCCGGCC': 200, 'ACCGTAGGC': 199, 'AACCGTAGG': 199, 'GTGCCGAAC': 199, 'CCGAACCGT': 199, 'TCCGGCAGT': 199, 'AAGGCGTTC': 199, 'AAATCCGGC': 199, 'GAACCGTAG': 199, 'CGAACCGTA': 199, 'TGCCGAACC': 199, 'ATCCGGCAG': 199, 'GCCGAACCG': 199, 'TGTGCCGAA': 199, 'CCGCCCTAC': 199, 'TCCGCCCTA': 198, 'CAAATCCGG': 198, 'ATCCGCCCT': 197, 'CCACCTCTT': 197, 'TCAAATCCG': 197, 'TATCCGCCC': 196, 'TGATGAAGC': 196, 'GCACGACTG': 196, 'AAAATATTT': 196, 'TTCAAATCC': 196, 'TTATCCGCC': 195, 'GCGCTACGG': 195, 'GTTCAAATC': 195, 'CGCTACGGC': 195, 'GGTTCAAAT': 194, 'CTTATCCGC': 194, 'CGGTTCAAA': 193, 'TCGGTTCAA': 192, 'AAGCGTCGC': 192, 'CAGCTCCGG': 191, 'GTCGGTTCA': 191, 'AGCTCCGGC': 191, 'GCAGCTCCG': 191, 'CGTCGGTTC': 190, 'CAAGCGTCG': 190, 'CTGGCTGGC': 189, 'TCGTCGGTT': 189, 'TGCTGAAAC': 188, 'GCAAGCGTC': 188, 'GTCGTCGGT': 188, 'GCTGATTGC': 188, 'GGTCGTCGG': 187, 'TGCGGCGTA': 187, 'AGGTCGTCG': 186, 'CGCAAGCGT': 186, 'GCGGCGTAA': 185, 'AAGGTCGTC': 185, 'GTTGACGGC': 184, 'GAAGGTCGT': 184, 'GCGCAAGCG': 184, 'CGAAGGTCG': 183, 'CGGCGTAAA': 183, 'CCGAAGGTC': 182, 'CGCGCAAGC': 182, 'CCCGAAGGT': 181, 'GGCGTAAAC': 181, 'ACCCGAAGG': 180, 'ACGCGCAAG': 180, 'AACCCGAAG': 179, 'GCGTAAACG': 179, 'TAACCCGAA': 178, 'GACGCGCAA': 178, 'CTGATAAGC': 178, 'ATAACCCGA': 177, 'CGTAAACGC': 177, 'TGATAAGCG': 176, 'AGACGCGCA': 176, 'CATAACCCG': 176, 'TCATAACCC': 175, 'CGCTGTCGC': 175, 'CGGCAATCA': 175, 'GCGGATGCG': 175, 'TTGCCGACC': 175, 'GCTGTCGCG': 175, 'ATCAATGCC': 175, 'GTAAACGCC': 175, 'CAATCAATG': 175, 'AATCAATGC': 175, 'ACGCTGTCG': 175, 'GCAATCAAT': 175, 'CTGTCGCGT': 175, 'TGTCGCGTC': 175, 'GACGCTGTC': 175, 'CCTACAACT': 175, 'GCCTACAAC': 175, 'TCGCGTCTT': 175, 'GTCGCGTCT': 175, 'CAATGCCTG': 175, 'CGACGCTGT': 175, 'GGCAATCAA': 175, 'TCCGGCAAT': 175, 'TCAATGCCT': 175, 'CCGGCAATC': 175, 'CTCATAACC': 174, 'GATAAGCGT': 174, 'GGCGGATGC': 174, 'GCTGGCGAT': 173, 'TAAACGCCT': 173, 'TGGCGGATG': 173, 'GCTCATAAC': 173, 'GGCTCATAA': 172, 'ATAAGCGTA': 172, 'GCCAGCCAC': 171, 'AAACGCCTT': 171, 'GGGCTCATA': 171, 'TAAGCGTAG': 170, 'CGGGCTCAT': 170, 'TCGGGCTCA': 169, 'AAAAGCGGC': 169, 'AAGCGTAGC': 168, 'GTCGGGCTC': 168, 'CGTCGGGCT': 167, 'GATTGCCGA': 167, 'CAGAAGCAG': 166, 'AGCGTAGCG': 166, 'TCGTCGGGC': 166, 'CTCGTCGGG': 165, 'GCGTAGCGC': 164, 'AATCTGGCA': 164, 'GCTCGTCGG': 164, 'AGCTCGTCG': 163, 'TAGCTCGTC': 162, 'CGTAGCGCA': 162, 'GTAGCTCGT': 161, 'GTAGCGCAT': 160, 'GGTAGCTCG': 160, 'TGGTAGCTC': 159, 'TAGCGCATC': 158, 'CTGGTAGCT': 158, 'GCAGAGAAG': 158, 'CCTGGTAGC': 157, 'GGGAATTTG': 157, 'GCGGGAATT': 157, 'GGAATTTGT': 157, 'GTGCGGGAA': 157, 'GCCTACGGA': 157, 'CGGGAATTT': 157, 'CACGCTGCC': 157, 'GGTGCGGGA': 157, 'TGCGGGAAT': 157, 'AGCGCATCA': 156, 'GCCTGGTAG': 156, 'GCGCCAGTT': 155, 'AGCCTGGTA': 155, 'TTCCGGGTA': 155, 'GCGCATCAG': 154, 'AAAAATGAT': 154, 'CAGCCTGGT': 154, 'GCAGCCTGG': 153, 'TTTACCGCT': 153, 'GTTGCCGGA': 152, 'AGCAGCCTG': 152, 'CCTTCCCCG': 151, 'TCTCTCGCT': 151, 'CGTTGCCTG': 151, 'CCCTTCGGG': 151, 'ACGCGGGGT': 150, 'CGCGGGGTG': 150, 'GACGCGGGG': 150, 'GGAGCAGCC': 150, 'GCGGGGTGG': 150, 'GTGGAGCAG': 150, 'TGGAGCAGC': 150, 'GGGGTGGAG': 150, 'GGGTGGAGC': 150, 'GGTGGAGCA': 150, 'CGGGGTGGA': 150, 'CGCTGAAAG': 149, 'ATCAGGCAT': 148, 'TCCAGACGA': 147, 'TATAAAATA': 146, 'TGCTCCCTT': 143, 'CTGCTCCCT': 143, 'CAGCGTCGC': 142, 'TGAAACTGA': 141, 'ACCCACCAC': 141, 'CGTTGCTGC': 140, 'CACCAGCGC': 137, 'GAAGGATTA': 136, 'GTCGTTGCC': 135, 'TCGAAGCTT': 135, 'TTACTCAGC': 135, 'GGTCGTTGC': 135, 'CGCGCTTCG': 135, 'CTCTCTCGC': 135, 'ACGCTCTCT': 135, 'AAATGGCGC': 135, 'TCCTTCCCC': 135, 'TCGCCCTTC': 135, 'TTCGGGTCG': 135, 'TCATCCTTC': 135, 'GATTACTCA': 135, 'CGAAGCTTC': 135, 'CTCTCGCTG': 135, 'TCGGGTCGT': 135, 'CAACGCTCT': 135, 'CTTCGCCCT': 135, 'GGGTCGTTG': 135, 'GGGCAGAAT': 135, 'TCAGCGCTG': 135, 'GCCTGCGGC': 135, 'TGGGCAGAA': 135, 'CATCCTTCC': 135, 'AGAATATTT': 135, 'TCTCATCCT': 135, 'TTCGCCCTT': 135, 'CTTCCCCGC': 135, 'GCCCTTCGG': 135, 'GCGGATTCG': 135, 'CGCTCTCTC': 135, 'AACGCTCTC': 135, 'AGGATTACT': 135, 'CTTCGGGTC': 135, 'TGCGGATTC': 135, 'GAAGCTTCT': 135, 'TGCGGCAAC': 135, 'TTGCCTGCG': 135, 'CAGAATATT': 135, 'GTTGCCTGC': 135, 'GGCAGAATA': 135, 'AATGGCGCT': 135, 'GCTCTCTCG': 135, 'TGCGCGCTT': 135, 'GCGGCAACG': 135, 'CTCATCCTT': 135, 'GCGCGCTTC': 135, 'CTCAGCGCT': 135, 'CTGCGGCAA': 135, 'ATTACTCAG': 135, 'CGGGTCGTT': 135, 'ATTGCGGAT': 135, 'CCTGCGGCA': 135, 'GCTGCGCGC': 135, 'AGCGCTGCG': 135, 'AGCTTCTCA': 135, 'TCGTTGCCT': 135, 'GCGCTGCGC': 135, 'ATCCTTCCC': 135, 'TACTCAGCG': 135, 'GCAGAATAT': 135, 'CCTTCGGGT': 135, 'GCAACGCTC': 135, 'CGCTGCGCG': 135, 'GGCAACGCT': 135, 'GTCGAAGCT': 135, 'CGCTTCGCC': 135, 'ACTCAGCGC': 135, 'GCTTCGCCC': 135, 'CTGCGCGCT': 135, 'GGATTACTC': 135, 'CGCCCTTCG': 135, 'TTGCGGATT': 135, 'AAGGATTAC': 135, 'TGCCTGCGG': 135, 'AAGCTTCTC': 135, 'CAGCGCTGC': 135, 'CTGGCAGTC': 134, 'ACAAACGCA': 133, 'GGCGCTGGA': 132, 'TGATCCAGT': 132, 'GAAAGCCAG': 131, 'TTCGAATCC': 131, 'CGACGCGGC': 131, 'ACGACGCGG': 131, 'GTTCGAATC': 131, 'GGTTCGAAT': 131, 'CGCGTTAGC': 130, 'GACGCGTTA': 130, 'AAGACGCGT': 130, 'TCAGGCATC': 130, 'AGACGCGTT': 130, 'TTAGCGTCG': 130, 'GTTAGCGTC': 130, 'ACGCGTTAG': 130, 'CAGGCATCT': 130, 'GGCATCTGC': 130, 'GCGTTAGCG': 130, 'CGTTAGCGT': 130, 'AGGCATCTG': 130, 'CAGCCCGCT': 129, 'GGGGATTGA': 129, 'GTCTGTCCA': 129, 'AGTTGTCGA': 129, 'TGTCCAACT': 129, 'CGGTCTGTC': 129, 'CGCCCTGCG': 129, 'CCCCGGTCG': 129, 'GGCAGCCCG': 129, 'CTGCGGGCA': 129, 'CAGTTGTCG': 129, 'ATTGACTCG': 129, 'GCTGTCGCC': 129, 'CTCGCCCTG': 129, 'TCACTGCGT': 129, 'CCAACTGGC': 129, 'TGCGGGCAG': 129, 'CTGTCGCCA': 129, 'GGGCTTCTC': 129, 'TCCCCCCGG': 129, 'GCCAGTTGT': 129, 'GGGGCTTCT': 129, 'GTTCACGGT': 129, 'CTCATCCCC': 129, 'ACTCGCTTC': 129, 'TTGACTCGC': 129, 'GGGGGATTG': 129, 'GGGCAGCCC': 129, 'ACTGGCTGT': 129, 'CACTGCGTT': 129, 'GTCCAACTG': 129, 'TGACTCGCT': 129, 'CTTTTGAAA': 129, 'CACGGTCTG': 129, 'CCCCGGTGT': 129, 'CCCGCTCAC': 129, 'CCCTGCGGG': 129, 'ACTGCGTTC': 129, 'CGGGGCTTC': 129, 'TCGCTTCGC': 129, 'TCTCATCCC': 129, 'CCGCTCACT': 129, 'CCTGCGGGC': 129, 'GATTGACTC': 129, 'CTGGCTGTC': 129, 'GCCCTGCGG': 129, 'ACGGTCTGT': 129, 'TGGCTGTCG': 129, 'GGTCGGGGC': 129, 'GCGGGCAGC': 129, 'GGGATTGAC': 129, 'TTCGCTCGC': 129, 'TCGCTCGCC': 129, 'CGGTCGGGG': 129, 'TTCACGGTC': 129, 'TCTGTCCAA': 129, 'CTTCGCTCG': 129, 'CCGGTCGGG': 129, 'CAACTGGCT': 129, 'CTGTCCAAC': 129, 'GTCGGGGCT': 129, 'TGCGTTCAC': 129, 'TCGGGGCTT': 129, 'CCCCCGGTG': 129, 'GCTTCGCTC': 129, 'GCTCACTGC': 129, 'CGTTCACGG': 129, 'TCACGGTCT': 129, 'GGTCTGTCC': 129, 'GCAGCCCGC': 129, 'GCCCGCTCA': 129, 'CGGGCAGCC': 129, 'GTCGCCAGT': 129, 'GGCTTCTCA': 129, 'TGTCGCCAG': 129, 'ATCCCCCCG': 129, 'CTGCGTTCA': 129, 'GGATTGACT': 129, 'TCCAACTGG': 129, 'CGCTCGCCC': 129, 'CTCGCTTCG': 129, 'GACTCGCTT': 129, 'CCCCCCGGT': 129, 'CGCCAGTTG': 129, 'TCGCCAGTT': 129, 'TCGCCCTGC': 129, 'CCAGTTGTC': 129, 'CGCTTCGCT': 129, 'GCTCGCCCT': 129, 'AACTGGCTG': 129, 'CTCACTGCG': 129, 'CCCGGTCGG': 129, 'GGCTGTCGC': 129, 'CGCTCACTG': 129, 'AGCCCGCTC': 129, 'TCATCCCCC': 129, 'CATCCCCCC': 129, 'CCAGCTCTT': 128, 'TTTTGAAAG': 128, 'TTTGAAAGT': 127, 'TTGAAAGTG': 126, 'ATCAGCACC': 125, 'GATCAGCAC': 125, 'CCGCAGGCG': 125, 'TGAAAGTGA': 125, 'GAAAGTGAT': 124, 'ATTCATCTT': 124, 'AAAGTGATG': 123, 'AAGTGATGG': 122, 'GGCGCAGGC': 122, 'AGTGATGGT': 121, 'ATACAGCGA': 121, 'GTGATGGTG': 120, 'TGATGGTGG': 119, 'GCGCCGCTG': 116, 'GCTGGCAGT': 116, 'CGCCGCTGA': 116, 'TACGCCGCA': 114, 'GGTAAAGTG': 113, 'GTTGCCAGG': 113, 'AAAGAAGCT': 113, 'GAAAGAAGC': 113, 'ATAAAATAT': 113, 'TTACGCCGC': 112, 'ATGAAGCAA': 111, 'ACGGATGCA': 111, 'AAAAATTGA': 111, 'CGCAAGCTG': 111, 'TACGGATGC': 110, 'GTTACGCCG': 110, 'GCCGCCGCC': 110, 'GCAAGCTGG': 109, 'CTACGGATG': 109, 'CTGGCGGCA': 109, 'GGTTACGCC': 108, 'GCTACGGAT': 108, 'CACGACGTT': 107, 'ACGACGTTC': 107, 'GATCGGTTC': 107, 'AGCTACGGA': 107, 'TCACGACGT': 107, 'CAAGCTGGA': 107, 'TAAATATTG': 107, 'GAGCTACGG': 106, 'CGGTTACGC': 106, 'TGAGCTACG': 105, 'AAGCTGGAA': 105, 'CTGAGCTAC': 104, 'GCGGTTACG': 104, 'AGCTGGAAC': 103, 'TTCGAACCT': 102, 'AGGTTTTCC': 102, 'GGCGGTTAC': 102, 'GCTGAGCTA': 102, 'CGTCGAAGC': 101, 'GCTGGAACA': 101, 'CCGTCGAAG': 101, 'GCCGTCGAA': 101, 'AGCTGAGCT': 100, 'AGGCGGTTA': 100, 'CTGGAACAG': 99, 'GCTATAGCC': 99, 'AAGGCGGTT': 98, 'TTCACGACG': 98, 'CAGCTGAGC': 98, 'CCGTAGGTC': 97, 'TGGAACAGC': 97, 'CCAGCTGAG': 96, 'AAGCAGAAG': 96, 'TAAGGCGGT': 96, 'ATAAGGCGG': 94, 'AGCAGAAGC': 94, 'TCCAGCTGA': 94, 'ACAGCAACA': 92, 'ATCCAGCTG': 92, 'GCTGCTGCT': 92, 'GTTAAATAA': 91, 'CAGCAACAG': 91, 'AGCAACAGG': 90, 'TATCCAGCT': 90, 'GCAACAGGC': 89, 'CTATCCAGC': 88, 'CAACAGGCT': 88, 'AACAGGCTA': 87, 'CGCTGGTGG': 87, 'ACAGGCTAA': 86, 'AGGCGTTCA': 86, 'TCTATCCAG': 86, 'CAGGCTAAT': 85, 'GGCGTTCAC': 85, 'GGGTGATTA': 85, 'ACCTACGGT': 85, 'CAAAATCGC': 84, 'TTGCTTATC': 84, 'GCTTATCCG': 84, 'TCAGGCGTT': 84, 'AGGCTAATG': 84, 'AAATCGCAG': 84, 'TGCGCTTTG': 84, 'CCTACAAAA': 84, 'CTCTATCCA': 84, 'GCGCTTTGC': 84, 'CGGATGCGC': 84, 'TTTGCTTAT': 84, 'GGATGCGCT': 84, 'CGGCCTACA': 84, 'GATGCGCTT': 84, 'GCCTACAAA': 84, 'TGCTTATCC': 84, 'GCTTTGCTT': 84, 'CTACAAAAT': 84, 'AATCGCAGC': 84, 'GGTGATTAG': 84, 'CGCTTTGCT': 84, 'ATCGCAGCG': 84, 'GACCTACGG': 84, 'CATCAGGCG': 84, 'ACAAAATCG': 84, 'ATCAGGCGT': 84, 'AAAATCGCA': 84, 'CTTTGCTTA': 84, 'ATGCGCTTT': 84, 'TACAAAATC': 84, 'ATCTTCTTC': 83, 'CGACCTACG': 83, 'CGTTCACGC': 83, 'GTGATTAGC': 83, 'GTTCACGCC': 82, 'TGATTAGCT': 82, 'ATAGCGTCG': 82, 'ACTCTATCC': 82, 'CCGACCTAC': 82, 'ACACCGCTG': 81, 'TACACCGCT': 81, 'ACCGCTGTG': 81, 'CCTACACCG': 81, 'GCCAAAGCG': 81, 'GATTAGCTC': 81, 'CACCGCTGT': 81, 'GGCCTACAC': 81, 'TTCACGCCG': 81, 'CTGTGAAGT': 81, 'TCCGACCTA': 81, 'TGTGAAGTG': 81, 'CGCTGTGAA': 81, 'GCCTACACC': 81, 'GCTGTGAAG': 81, 'CATAGCGTC': 81, 'CTACACCGC': 81, 'CCGCTGTGA': 81, 'ATCCGACCT': 80, 'ATTAGCTCA': 80, 'TACTCTATC': 80, 'GCATAGCGT': 80, 'CGGCGCTGG': 80, 'GCTGGCTGG': 80, 'TCACGCCGC': 80, 'CCAAAGCGC': 80, 'TCAGCTGGG': 79, 'ATCACCCAC': 79, 'AGGGGGTCG': 79, 'CAAAGCGCG': 79, 'TCCCGTCAT': 79, 'CCCGTCATC': 79, 'CTGGGAGAG': 79, 'AGCTCAGCT': 79, 'CTTACAAGG': 79, 'GTTCGATCC': 79, 'GATCCCGTC': 79, 'TTCGATCCC': 79, 'TCATCACCC': 79, 'TACAAGGAG': 79, 'TTACAAGGA': 79, 'GTCGGCGGT': 79, 'CAGCTGGGA': 79, 'AGCACCTCC': 79, 'AGGAGGGGG': 79, 'GCGGTTCGA': 79, 'GGTTCGATC': 79, 'GCTCAGCTG': 79, 'TCCCTTACA': 79, 'GGAGAGCAC': 79, 'GGGAGAGCA': 79, 'CCGTCATCA': 79, 'TCACCCACC': 79, 'GGGGGTCGG': 79, 'TCGATCCCG': 79, 'CACCCACCA': 79, 'GAGGGGGTC': 79, 'TCGGCGGTT': 79, 'GAGCACCTC': 79, 'CGGTTCGAT': 79, 'CGGCGGTTC': 79, 'GAGAGCACC': 79, 'ATCCCGTCA': 79, 'CCCTTACAA': 79, 'CTCAGCTGG': 79, 'CACCTCCCT': 79, 'CAAGGAGGG': 79, 'GTCATCACC': 79, 'CTCCCTTAC': 79, 'GGGGTCGGC': 79, 'AAGGAGGGG': 79, 'CGATCCCGT': 79, 'GCACCTCCC': 79, 'TGGGAGAGC': 79, 'TATCCGACC': 79, 'ACAAGGAGG': 79, 'AGCTGGGAG': 79, 'GGCGGTTCG': 79, 'GGTCGGCGG': 79, 'CATCACCCA': 79, 'CCTCCCTTA': 79, 'CGCATAGCG': 79, 'GGAGGGGGT': 79, 'ACCTCCCTT': 79, 'GGGTCGGCG': 79, 'CACGCCGCA': 79, 'CGTCATCAC': 79, 'TAGCTCAGC': 79, 'AGAGCACCT': 79, 'GCTGGGAGA': 79, 'CCTTACAAG': 79, 'CTGGCAGTT': 78, 'GTACTCTAT': 78, 'ACGCATAGC': 78, 'GACGCATAG': 77, 'GCCAGCAGG': 77, 'AGACGCATA': 76, 'AGTACTCTA': 76, 'CGCTTCACC': 74, 'GAGTACTCT': 74, 'GAAGAGATC': 74, 'TATTGCCCG': 74, 'TGAACGCCT': 73, 'CTATTGCCC': 73, 'CGAGTACTC': 72, 'GAACGCCTT': 72, 'GCTATTGCC': 72, 'CAGGCAGTC': 71, 'GATACGGGC': 71, 'GCGAAAGTG': 71, 'GGATACGGG': 71, 'CGGATACGG': 71, 'GATACCCCA': 71, 'AGCAGTTGA': 71, 'TGAAAGAAG': 71, 'GAGTTAAAT': 70, 'CCGAGTACT': 70, 'CGATACCCC': 70, 'AGGCAGTCG': 70, 'GCGATACCC': 69, 'GGCAGTCGG': 69, 'GCAGTCGGC': 68, 'GCCGAGTAC': 68, 'GGCGATACC': 68, 'CCGCTGTTC': 68, 'AAGAACAGC': 68, 'GGAGTTAAA': 68, 'CAGTCGGCA': 67, 'TGGCGATAC': 67, 'ATAAGCCGC': 66, 'AGTCGGCAC': 66, 'AGGAGTTAA': 66, 'CAAATCAAC': 66, 'AGCCGAGTA': 66, 'TTGGCGATA': 66, 'TTTATCGCC': 65, 'TAAGCCGCT': 65, 'CTTGGCGAT': 65, 'GAAAAAGCC': 65, 'AAGCCGCTT': 64, 'TAGCCGAGT': 64, 'CAGGAGTTA': 64, 'GAAACTGAC': 64, 'GCTTGGCGA': 64, 'CGCTTGGCG': 63, 'AACAGGTCG': 63, 'AGCCGCTTT': 63, 'CCGCTTGGC': 62, 'CCACCCCGT': 62, 'TGGCAATGG': 62, 'GCCGCTTTC': 62, 'GTAGCCGAG': 62, 'GTGAAACTG': 62, 'ACAGGTCGA': 62, 'GGTGAAACT': 61, 'TGCTGAAAA': 61, 'CAGGTCGAT': 61, 'ACCGCTTGG': 61, 'TCTCACTCC': 61, 'CCGCTTTCT': 61, 'CTGCTGAAA': 60, 'CGCTTTCTT': 60, 'AGGTGAAAC': 60, 'AGGTCGATC': 60, 'TCCACCCCG': 60, 'CGTAGCCGA': 60, 'ATACCGCTA': 60, 'TACCGCTTG': 60, 'CAGGTGAAA': 59, 'GCTTTCTTT': 59, 'CGCCAGCAG': 59, 'GCTGCTGAA': 59, 'GGTCGATCC': 59, 'TTACCGCTT': 59, 'AAAGCGCGC': 59, 'TCGTAGCCG': 58, 'CTTACCGCT': 58, 'CTTTCTTTT': 58, 'CGCACAGCG': 58, 'ACAGCGTCG': 58, 'CACAGCGTC': 58, 'GACGCACAG': 58, 'AGACGCACA': 58, 'GCACAGCGT': 58, 'GTCGATCCG': 58, 'CTCCACCCC': 58, 'GTTTGTAGG': 58, 'ACGCACAGC': 58, 'AAGACGCAC': 58, 'TATGTTCCG': 57, 'TCGATCCGC': 57, 'CGACGCTTG': 57, 'CCTTACCGC': 57, 'TTATGTTCC': 57, 'TTTCTTTTG': 57, 'TTCGTAGCC': 56, 'GCTCCACCC': 56, 'GCCTTACCG': 56, 'CGATCCGCG': 56, 'TTCTTTTGG': 56, 'TCTTTTGGG': 55, 'TGCCTTACC': 55, 'ATATTAATA': 54, 'GTGCCTTAC': 54, 'AAAGCCGCC': 54, 'TGCTCCACC': 54, 'GTTCGTAGC': 54, 'CTTTTGGGT': 54, 'GGTTAACAA': 53, 'GGTGCCTTA': 53, 'TTTTGGGTA': 53, 'GGATGCATC': 52, 'ATCGGGAAA': 52, 'CGGTGCCTT': 52, 'CATCGGGAA': 52, 'CGGATGCAT': 52, 'GGTTCGTAG': 52, 'TTTGGGTAT': 52, 'TGCATCGGG': 52, 'GATGCATCG': 52, 'GCATCGGGA': 52, 'ATGCATCGG': 52, 'GTGCTCCAC': 52, 'CCGGTGCCT': 51, 'TTGGGTATA': 51, 'TGGGTATAG': 50, 'AGTGCTCCA': 50, 'CGGTTCGTA': 50, 'GGTGCACTG': 49, 'CGCAAAGCC': 49, 'TTACGTAAA': 49, 'GCAAAGCCG': 48, 'TCGGTTCGT': 48, 'TTTACGTAA': 48, 'AAGTGCTCC': 48, 'GTGCACTGA': 48, 'TGCACTGAA': 47, 'TTTTACGTA': 47, 'AGAATCTGT': 47, 'CAAAGCCGC': 47, 'GCGGACTGA': 47, 'GAATCTGTA': 46, 'GCACTGAAC': 46, 'TACGGGGTG': 46, 'TTTTTACGT': 46, 'GAAGTGCTC': 46, 'CTCGGTTCG': 46, 'AAGCCGCCG': 45, 'CACTGAACT': 45, 'AATCTGTAG': 45, 'GTTTTTACG': 45, 'CTACGGGGT': 45, 'ATCTGTAGG': 44, 'CCTACGGGG': 44, 'CTACCGCTA': 44, 'GCTACCGCT': 44, 'AAAGCGGCA': 44, 'GCTCGGTTC': 44, 'TGAAGTGCT': 44, 'AGCCGCCGT': 44, 'GGTTTTTAC': 44, 'AACCAGCAG': 44, 'GCCTACGGG': 43, 'GGGTTTTTA': 43, 'TCTGTAGGC': 43, 'GCCGCCGTC': 43, 'ACCGTGCTG': 43, 'CGGGTTTTT': 42, 'CCGCCGTCG': 42, 'CGCTCGGTT': 42, 'GCCAGCAGC': 42, 'CAGTTCCAG': 41, 'CCAGTTCCA': 41, 'CGCCGTCGA': 41, 'GCGGGTTTT': 41, 'CCGCTCGGT': 40, 'AGCGGGTTT': 40, 'GCTGCTGGC': 39, 'AAGCGGGTT': 39, 'GAAGCGGGT': 38, 'ACCGCTCGG': 38, 'TTGCCGCCG': 37, 'CGAAGCGGG': 37, 'GTCGAAGCC': 37, 'CCGAAGCGG': 36, 'TCGAAGCCG': 36, 'GACCGCTCG': 36, 'GCCGAAGCG': 35, 'CGAAGCCGC': 35, 'CGCTGATTG': 35, 'CGACCGCTC': 34, 'GAAGCCGCT': 34, 'CGCCGAAGC': 34, 'ATCGTTTGA': 34, 'CCGCCGAAG': 33, 'AAGCCGCTA': 33, 'TTGATACCG': 33, 'TGATACCGC': 32, 'AGCCGCTAT': 32, 'CCGACCGCT': 32, 'CCCGCCGAA': 32, 'GCCGCTATT': 31, 'GATACCGCT': 31, 'GCGCTGCTC': 31, 'ACCCGCCGA': 31, 'GGACGGTGC': 31, 'TGCCGACCT': 30, 'CCGCTATTG': 30, 'TCCGACCGC': 30, 'CGCTATTGC': 29, 'GACGGTGCT': 29, 'TGGCGCTGC': 29, 'CCTGGCGCT': 29, 'TACCGCTAC': 29, 'GCCGACCTG': 29, 'CGCGTCTGC': 29, 'GCGCGTCTG': 29, 'CTGGCGCTG': 29, 'TCTTATCAT': 28, 'CTCCAAAAG': 28, 'CCGACCTGT': 28, 'GCCCCTCCA': 28, 'ATCTTTCTG': 28, 'TGCCCCTCC': 28, 'CCCCTCCAA': 28, 'CATCTTTCT': 28, 'AAAAACCCG': 28, 'TCTGCCCCT': 28, 'CCCTCCAAA': 28, 'TTCATCTTT': 28, 'AAAACCCGC': 28, 'CTGCCCCTC': 28, 'CCTCCAAAA': 28, 'CTCCGACCG': 28, 'ACCGCTACT': 28, 'TCATCTTTC': 28, 'TTCTGCCCC': 28, 'TTTCTGCCC': 28, 'CTTTCTGCC': 28, 'TCTTTCTGC': 28, 'CTTATCATG': 27, 'CCGCTACTA': 27, 'CGACCTGTA': 27, 'GCCGACCAG': 27, 'TTGAAGTTG': 27, 'TGGCTGGGG': 27, 'GACCTGTAG': 26, 'TTATCATGC': 26, 'CGCTACTAA': 26, 'GGTGATGTT': 26, 'CCTCCGACC': 26, 'TATCATGCC': 25, 'ACCTGTAGG': 25, 'GCTACTAAA': 25, 'GGCTGGGGT': 25, 'TGCAGCTGA': 25, 'ACCTCCGAC': 24, 'CTACTAAAG': 24, 'CCTGTAGGC': 24, 'GAATGCCGG': 24, 'ATCATGCCT': 24, 'CTGCAGCTG': 24, 'GCTGGGGTA': 23, 'TCATGCCTA': 23, 'TACTAAAGC': 23, 'GCTGCAGCT': 23, 'CCGCTGACG': 23, 'CCACCAGCA': 23, 'GCCGCTGAC': 22, 'AACCTCCGA': 22, 'CATGCCTAC': 22, 'AGCTGCAGC': 22, 'ACTAAAGCC': 22, 'GGAATGCCG': 22, 'TTAAATGAT': 21, 'CTGGGGTAC': 21, 'CTGCCAGCG': 21, 'ATGCCTACA': 21, 'GAACCTCCG': 20, 'TGCGCCGCT': 19, 'ATGCGCCGC': 18, 'GGTTGCGCC': 18, 'TCAGGCATT': 17, 'GATGCGCCG': 17, 'TGATAAAAA': 17, 'CCCGGACGG': 17, 'GACATCAAC': 17, 'CGGTTGCGC': 17, 'CCGGACGGT': 16, 'TGATGCGCC': 16, 'CCGGTTGCG': 16, 'CAGGCATTT': 16, 'CGGACGGTG': 15, 'CTGATGCGC': 15, 'ACATCAACG': 15, 'AGGCATTTG': 15, 'ACCCACCAA': 15, 'TTTGTGCTG': 14, 'CTGGCGCAG': 14, 'AAAGCAGAA': 14, 'CATCAACGC': 13, 'GATAAGGCA': 13, 'GTTGCCGTT': 12, 'ATAAGGCAC': 12, 'AAGCGCGCA': 12, 'AGTTGCCGT': 12, 'TTGCCGTTA': 12, 'AGCGCGCAA': 11, 'ATCAACGCC': 11, 'TAAGGCACT': 11, 'AAGGCACTT': 10, 'AAGCGGCAG': 9, 'TCAACGCCT': 9, 'AGGCACTTG': 9, 'GGCACTTGT': 8, 'GCACTTGTG': 7, 'ACAACCGAT': 7, 'AACCGATGC': 7, 'CCGACAACC': 7, 'GACAACCGA': 7, 'CGACAACCG': 7, 'ACGGCTGCC': 7, 'ACCGATGCC': 7, 'CAACGCCTG': 7, 'CAACCGATG': 7, 'AAACTGGCA': 6, 'CACTTGTGC': 6, 'CGGCTGCCG': 6, 'AGGATTCGA': 6, 'GGCTGCCGG': 5, 'ACTTGTGCC': 5, 'TAAGAGATG': 5, 'AACGCCTGA': 5, 'CAGCCACAA': 4, 'CTTGTGCCG': 4, 'GCTGCCGGA': 4, 'AAGAGATGG': 4, 'CCCACCAAT': 4, 'GAGGATTCG': 4, 'ACGATATTA': 3, 'AAATGGCGA': 3, 'GCAGCCACA': 3, 'AGAGATGGT': 3, 'CAGCAGCCG': 3, 'TTGTGCCGC': 3, 'ACGCCTGAT': 3, 'GGAGGATTC': 2, 'GAGATGGTG': 2, 'TGTGCCGCA': 2, 'AGATGGGAG': 1, 'CGAAGTTGA': 1, 'CGCCTGATG': 1, 'AGATGGTGC': 1, 'GGGAACTCT': 1, 'CCGGTTTAT': 1, 'AGTTAAATA': 1, 'GAGATGGGA': 1, 'GCATCTGCG': 1, 'AGCAGCCGC': 1, 'GTGCCGCAT': 1, 'GTCACCATT': 1})\n",
        "2:03:13.428749\n"
       ]
      }
     ],
     "prompt_number": 319
    },
    {
     "cell_type": "code",
     "collapsed": false,
     "input": [
      "print 'Computation time = ' + str(elapsed_time)"
     ],
     "language": "python",
     "metadata": {},
     "outputs": [
      {
       "output_type": "stream",
       "stream": "stdout",
       "text": [
        "Computation time = 2:03:13.428749\n"
       ]
      }
     ],
     "prompt_number": 329
    },
    {
     "cell_type": "code",
     "collapsed": false,
     "input": [
      "# store result in a variable\n",
      "eData = Counter({'CGGATGCGG': 2009, 'GGATGCGGC': 2006, 'GATGCGGCG': 2003, 'CCGGATGCG': 1809, 'CCGCATCCG': 1663, 'GCCGCATCC': 1647, 'GCCTGATGC': 1625, 'GCCTTATCC': 1607, 'CCTTATCCG': 1604, 'CATCCGGCA': 1589, 'CCTGATGCG': 1513, 'GCATCCGGC': 1513, 'ATGCGACGC': 1495, 'TGCGACGCT': 1495, 'CGTCTTATC': 1495, 'GATGCGACG': 1495, 'CGCGTCTTA': 1495, 'ATGCGGCGT': 1495, 'GCGTCTTAT': 1495, 'GCCGGATGC': 1491, 'CTTATCCGG': 1491, 'TTATCCGGC': 1487, 'GCATCAGGC': 1450, 'TGCCTGATG': 1380, 'GTTTATCCC': 1357, 'GCGGGGAAC': 1357, 'GGTTTATCC': 1357, 'GCGTCGCAT': 1343, 'CGTCGCATC': 1343, 'GATAAGACG': 1343, 'GCTGGCGCG': 1295, 'CGCTGGCGC': 1288, 'CGCCTTATC': 1288, 'CGCATCCGG': 1265, 'TGCCGGATG': 1250, 'GTCTTATCA': 1200, 'CTGATGCGA': 1200, 'TGATGCGAC': 1200, 'GGATAAGGC': 1185, 'CGCATCAGG': 1182, 'TCCGGCCTA': 1151, 'CCGGCCTAC': 1149, 'CGCCGCATC': 1129, 'ATAAGACGC': 1103, 'CGGATAAGG': 1096, 'CATCAGGCA': 1096, 'GATAAGGCG': 1085, 'CGCGGGGAA': 1078, 'ATCAGGCCT': 1048, 'TATCAGGCC': 1048, 'TTATCAGGC': 1048, 'CTTATCAGG': 1048, 'TCAGGCCTA': 1048, 'ATCCTGCAC': 1044, 'TCGCATCAG': 1030, 'GTCGCATCA': 1030, 'GGCCTGATA': 1029, 'GCCTGATAA': 1028, 'CCTGATAAG': 1027, 'ACGCCGCAT': 1008, 'TCTTATCAG': 1001, 'TAAGGCGTT': 993, 'ATAAGGCGT': 993, 'ATCCCCGCT': 969, 'GCGCGGGGA': 967, 'TATCCCCGC': 964, 'GGCGCGGGG': 963, 'TGGCGCGGG': 958, 'TTATCCCCG': 958, 'CGCATCCGA': 954, 'CTGGCGCGG': 953, 'GCATCCGAC': 952, 'TTTATCCCC': 951, 'CATCCGACA': 950, 'TGATAAGAC': 946, 'CTGATAAGA': 946, 'CCGCTGGCG': 936, 'CCCGCTGGC': 931, 'CCCCGCTGG': 926, 'TCCCCGCTG': 920, 'CCGGATAAG': 886, 'TATCCGGCC': 869, 'ATCCGGCCT': 865, 'TCCTGCACG': 859, 'CACGACCCA': 859, 'CGACCCACC': 859, 'GACCCACCA': 859, 'TGCACGACC': 859, 'CTGCACGAC': 859, 'ACGACCCAC': 859, 'GCACGACCC': 859, 'CCTGCACGA': 859, 'CGGTTTATC': 819, 'GCGACGCTG': 817, 'AGCGTCGCA': 805, 'CAGGCCTAC': 780, 'CGTAGGCCG': 778, 'GGTCGGATA': 769, 'TCGGATAAG': 769, 'GTCGGATAA': 769, 'GGGGAACTC': 764, 'ACGCCTTAT': 764, 'TTAGCTCAG': 742, 'TGTAGGCCT': 741, 'GTAGGCCTG': 740, 'TAGGCCTGA': 739, 'AGGCCTGAT': 738, 'ATTCGAACC': 725, 'GATTCGAAC': 723, 'GGTGCATCC': 722, 'TGGTGCATC': 722, 'ATGGTGCAT': 722, 'CATCCGGGA': 722, 'GCATCCGGG': 722, 'TCCGGGAGG': 722, 'TGCATCCGG': 722, 'ATCCGGGAG': 722, 'GTGCATCCG': 722, 'CCGGGAGGA': 722, 'CGGGAGGAT': 722, 'GGATTCGAA': 721, 'ATGCCTGAT': 687, 'GCGACGCTT': 678, 'TGCGGCGTG': 668, 'TAAGACGCG': 663, 'ATCCGACAT': 635, 'GTAGGCCGG': 597, 'TAGGCCGGA': 596, 'AGGCCGGAT': 595, 'GGCCGGATA': 594, 'GCCGGATAA': 593, 'GCGCTGGCG': 566, 'CGGATAAGA': 558, 'TCGCATCCG': 558, 'CGGGGAACT': 550, 'GGGGAAGGA': 527, 'TGGTGGGGG': 527, 'GGTGGGGGA': 527, 'ATGGTGGTG': 527, 'GGAAGGATT': 527, 'GGGAAGGAT': 527, 'TGGGGGAAG': 527, 'GGGGGAAGG': 527, 'GGTGGTGGG': 527, 'GTGGTGGGG': 527, 'TGGTGGTGG': 527, 'GTGGGGGAA': 527, 'CGGCGGCGG': 526, 'CGGCCTACG': 526, 'GTAGGTCGG': 524, 'AGGCCTACG': 524, 'AGGTCGGAT': 524, 'TGTAGGTCG': 524, 'TAGGTCGGA': 524, 'GGGAGGATT': 515, 'GAGGGGGGG': 513, 'CACTATGGC': 496, 'TGAAATGAT': 496, 'GCACTATGG': 496, 'CTATGGCAC': 496, 'GAAATGATG': 496, 'ATGAAATGA': 496, 'AAATGATGA': 496, 'ACTATGGCA': 496, 'TTAAATAAT': 493, 'ACGGTGCTA': 489, 'AGAAAGCGG': 489, 'AAGAAAGCG': 489, 'CCGTAGGCC': 489, 'GATGAAATG': 480, 'ATGGCACTA': 480, 'AATGATGAA': 480, 'TGATGAAAT': 480, 'TATGGCACT': 480, 'GGCACTATG': 480, 'TGGCACTAT': 480, 'ATGATGAAA': 480, 'ATCTATTCA': 479, 'AATGCCAGC': 474, 'TCGGCATCG': 471, 'ATCGGCATC': 471, 'ATATTTTTT': 469, 'ATCCGGCAA': 469, 'TTATCAAAA': 467, 'CATCATCAT': 461, 'GGGGCAAAA': 461, 'GTCAAAAGT': 458, 'AAAAGTTGC': 458, 'CAAAAGTTG': 458, 'TGGGTCAAA': 458, 'GTGGGTCAA': 458, 'GGGTCAAAA': 458, 'GGTCAAAAG': 458, 'GGTGGGTCA': 458, 'AAGTTGCCG': 458, 'TCAAAAGTT': 458, 'CCAGCAGCA': 458, 'AAAGTTGCC': 458, 'TCTCCGTTC': 455, 'TCATCCGGC': 455, 'TCATCCTGA': 453, 'AAGACGCGC': 449, 'TTGCCGGAT': 449, 'TAAGACGCA': 441, 'GTGATCGTG': 440, 'CTGTTCATA': 438, 'TGTTCATAT': 438, 'GCAGCCGCA': 431, 'GGAGTTAAG': 428, 'CTGCCGGAT': 423, 'GACTGCCGG': 420, 'CACGACTGC': 420, 'ACGACTGCC': 420, 'ACTGCCGGA': 420, 'CGACTGCCG': 420, 'TATCAGCAG': 419, 'TCAGCAGCC': 419, 'ATCAGCAGC': 419, 'GATGGTGGT': 417, 'GCCGGTATC': 414, 'AAGTTGAAG': 409, 'CAGCAGGCC': 407, 'GCGCAAAGC': 401, 'GGAACAGCA': 401, 'AACAGCAAC': 401, 'GATCCGCGC': 401, 'GAACAGCAA': 401, 'ATCCGCGCA': 401, 'TCCGCGCAA': 401, 'CGCGCAAAG': 401, 'CCGCGCAAA': 401, 'GGCTAATGC': 401, 'ACGCTGGCG': 397, 'GGCGCTGCT': 395, 'CTGGCGGAT': 391, 'GCGGCGTGA': 388, 'TCCGACATC': 388, 'CGGCGTGAA': 387, 'GGCGTGAAC': 386, 'CCAGCAGGC': 386, 'GCGTGAACG': 385, 'CGTGAACGC': 384, 'AAGACGCAT': 384, 'GTGAACGCC': 383, 'CAACGGTGG': 382, 'GAGCAGCCT': 381, 'GAACTGGAA': 380, 'GCCTGCGCC': 377, 'TATTGGTGA': 375, 'TTTCAATAT': 375, 'TCAATATTG': 375, 'AATATTGGT': 375, 'CAATATTGG': 375, 'ATATTGGTG': 375, 'TTCAATATT': 375, 'AATGCCTGA': 374, 'GTCTTCAAT': 374, 'CTGTAGGCC': 374, 'ATCAGGCAA': 367, 'CTACGGTTA': 367, 'GGCAACGGC': 367, 'CGGTTATGT': 367, 'GGTTATGTT': 367, 'TACGGTTAT': 367, 'GTTATGTTC': 367, 'AGGCAACGG': 367, 'ACGGTTATG': 367, 'CAGGCAACG': 367, 'TCAGGCAAC': 367, 'CAACGGCTG': 367, 'CCTACGGTT': 367, 'GCAACGGCT': 367, 'TGCACCTTT': 359, 'AGCGCACCA': 359, 'GACCTTTCG': 359, 'CAGCGCACC': 359, 'TCCGGTTAA': 356, 'CGCACCAAA': 356, 'TGCATAATC': 356, 'CAGCACGCC': 348, 'GCCGGTTGC': 347, 'CCCCGTAGG': 347, 'GGCGCGTCT': 347, 'GGTTGCCTG': 347, 'CTGGCGCGT': 347, 'CCCGTAGGT': 347, 'ACCCCGTAG': 347, 'TGGCGCGTC': 347, 'GTTGCCTGA': 347, 'GTGAAGTGC': 347, 'AGCCGGTTG': 347, 'CGGTTGCCT': 347, 'GACGCTGGC': 347, 'TTGCCTGAT': 347, 'CCGGTTGCC': 347, 'CGACGCTGG': 347, 'CACCCCGTA': 347, 'GCGCGTCTT': 347, 'GCGGCGGCG': 335, 'TCGGAAAGC': 332, 'GGCAGGAAG': 331, 'TATGGATTA': 331, 'GCAGGAAGG': 331, 'ATATGGATT': 331, 'GGCCTACGG': 329, 'GCGCTGGAA': 329, 'GAAAGCGGC': 321, 'AACGCCTTA': 319, 'CGTGATCGT': 314, 'GTCGCATCC': 313, 'TCCGACAAC': 313, 'ACTGTAGGT': 313, 'GAACTGTAG': 313, 'TGAACTGTA': 313, 'CTGTAGGTC': 313, 'ATCCGACAA': 313, 'GATGCCTGA': 313, 'ACTGAACTG': 313, 'GACTTATCA': 313, 'CTGAACTGT': 313, 'CCGATGCCT': 313, 'GGATAAGAC': 313, 'CGATGCCTG': 313, 'ACTTATCAG': 313, 'AACTGTAGG': 313, 'TCGAACCTT': 310, 'AGACGCATT': 309, 'GTCGGATGC': 309, 'TACGCGTCG': 309, 'ACTGTAGGC': 309, 'ACGCATTAC': 309, 'ACGCGTCGC': 309, 'AACGGCTGT': 309, 'CGCGTCGCA': 309, 'GCATTACGC': 309, 'CATTACGCG': 309, 'GACGCATTA': 309, 'TTACGCGTC': 309, 'CACTGTAGG': 309, 'TGTCGGATG': 309, 'TCGGATGCG': 309, 'ATTACGCGT': 309, 'CGCATTACG': 309, 'GTCTGCTTC': 308, 'GCGCTTCGC': 308, 'ATGAAATTT': 308, 'AGTCATTCA': 306, 'ACAGTCATT': 306, 'TCATTCATC': 306, 'TCGTGGACA': 306, 'GTCGTGGAC': 306, 'GTCATTCAT': 306, 'GTGGACAGT': 306, 'CGTGGACAG': 306, 'GACAGTCAT': 306, 'CATTCATCT': 306, 'TGGACAGTC': 306, 'GGACAGTCA': 306, 'CAGTCATTC': 306, 'AAAGCGGTT': 302, 'AGCGGTTGA': 302, 'AAGCGGTTG': 302, 'AGCTGGATG': 299, 'CTGGCGGCG': 297, 'AACCCGCCG': 294, 'ACCGATAAG': 294, 'GATAAGCCG': 294, 'AAACCCGCC': 294, 'CGATAAGCC': 294, 'ACTGACCGA': 294, 'CCGATAAGC': 294, 'AAACTGACC': 294, 'CTGACCGAT': 294, 'GACCGATAA': 294, 'AACTGACCG': 294, 'TGACCGATA': 294, 'CGCCGCGCC': 293, 'GCCGAGGAT': 293, 'AATTTGTAG': 287, 'ATTTGTAGG': 287, 'GAATTTGTA': 287, 'GCGACCAGC': 286, 'TGCGTATCG': 284, 'GCCGCCAGT': 281, 'GGCTGGCGT': 272, 'GCTGACGCC': 269, 'TAGAGCACG': 268, 'GCGGGAATA': 268, 'AGCACGACC': 268, 'AGTTCGAGT': 268, 'GAATAGCTC': 268, 'ATAGCTCAG': 268, 'GTAGAGCAC': 268, 'TTTCCCGCT': 268, 'CGTTTCCCG': 268, 'CGGGAATAG': 268, 'ACGACCTTG': 268, 'CCGCTCCAA': 268, 'TAGCTCAGT': 268, 'TTCCCGCTC': 268, 'TTCGAGTCT': 268, 'GTTTCCCGC': 268, 'GGGTCGCGA': 268, 'TCGGGGTCG': 268, 'TCGAGTCTC': 268, 'GGGGTCGCG': 268, 'GCGAGTTCG': 268, 'CGACCTTGC': 268, 'TTGGTAGAG': 268, 'CCAAGGTCG': 268, 'GAGTCTCGT': 268, 'GGTAGAGCA': 268, 'GTCGCGAGT': 268, 'CTCGTTTCC': 268, 'GTTCGAGTC': 268, 'ACCTTGCCA': 268, 'GACCTTGCC': 268, 'GAGTTCGAG': 268, 'TCTCGTTTC': 268, 'CAGTTGGTA': 268, 'CCTTGCCAA': 268, 'CAAGGTCGG': 268, 'TCAGTTGGT': 268, 'TGGTAGAGC': 268, 'GAGCACGAC': 268, 'GGTCGGGGT': 268, 'CCCGCTCCA': 268, 'CGAGTCTCG': 268, 'GTCTCGTTT': 268, 'TGCCAAGGT': 268, 'AGGTCGGGG': 268, 'AGAGCACGA': 268, 'CGAGTTCGA': 268, 'CGGGGTCGC': 268, 'GGAATAGCT': 268, 'AGCTCAGTT': 268, 'TTGCCAAGG': 268, 'CTTGCCAAG': 268, 'GGTCGCGAG': 268, 'GGGAATAGC': 268, 'AGTCTCGTT': 268, 'CTCAGTTGG': 268, 'AGTTGGTAG': 268, 'GCCAAGGTC': 268, 'TCGCGAGTT': 268, 'GTTGGTAGA': 268, 'TCCCGCTCC': 268, 'CACGACCTT': 268, 'AAGGTCGGG': 268, 'GCTCAGTTG': 268, 'CGCGAGTTC': 268, 'CGCTCCAAA': 268, 'AATAGCTCA': 268, 'TCGTTTCCC': 268, 'GTCGGGGTC': 268, 'GCACGACCT': 268, 'AACAGCACG': 266, 'TGAATCAGC': 266, 'TTCTCATCC': 264, 'GCTTCTCAT': 264, 'CTTCTCATC': 264, 'GGCCTACAA': 259, 'ATATGGCGG': 258, 'GTACTTTCG': 258, 'TCTTCTTTA': 258, 'AGCTCTTCT': 258, 'GGTGAGGGG': 258, 'TTAAATATG': 258, 'AAAAAAAAG': 258, 'CTTCTTTAA': 258, 'TATGGCGGT': 258, 'AAAAAGCCC': 258, 'TTCGTACGA': 258, 'GGCGGTGAG': 258, 'CGTACTTTC': 258, 'GGGGGGATT': 258, 'CGTACGAGC': 258, 'GTGTGCAAT': 258, 'CCGTACTTT': 258, 'CCGGTGTGT': 258, 'CTCTTCTTT': 258, 'TACTTTCGT': 258, 'TTTAAATAT': 258, 'TGTGTGCAA': 258, 'TTTCGTACG': 258, 'GCGGTGAGG': 258, 'CCCGTACTT': 258, 'GAGCTCTTC': 258, 'AAGCCCGTA': 258, 'CGGTGAGGG': 258, 'GCTCTTCTT': 258, 'ACTTTCGTA': 258, 'TCGTACGAG': 258, 'CGAGCTCTT': 258, 'AAAAAAAGC': 258, 'AGGGGGGGA': 258, 'TGAGGGGGG': 258, 'TAAATATGG': 258, 'ACGAAAAAA': 258, 'GGGGGGGAT': 258, 'GTACGAGCT': 258, 'GCCCGTACT': 258, 'GTGAGGGGG': 258, 'AAAAGCCCG': 258, 'CGAAAAAAA': 258, 'CTTTAAATA': 258, 'CCCGGTGTG': 258, 'TGGCGGTGA': 258, 'TCTTTAAAT': 258, 'TTCTTTAAA': 258, 'TACGAGCTC': 258, 'AATATGGCG': 258, 'CTTTCGTAC': 258, 'AAATATGGC': 258, 'AAAAAAGCC': 258, 'ACGAGCTCT': 258, 'ATGGCGGTG': 258, 'GGTGTGTGC': 258, 'CGGTGTGTG': 258, 'GAAAAAAAA': 258, 'GTGTGTGCA': 258, 'AAAGCCCGT': 258, 'TGTGCAATA': 258, 'AGCCCGTAC': 258, 'CGCTCGGCA': 257, 'AGGCCTACA': 256, 'ACACTAACA': 255, 'CACCTGAAG': 255, 'GGGACTTGA': 255, 'GTCCGTAAG': 255, 'CTTGAACCC': 255, 'GCTAGCGCG': 255, 'GGACTTGAA': 255, 'AACACCTGA': 255, 'GTCTACCAA': 255, 'CGCGTCTAC': 255, 'TTGAACCCC': 255, 'CTAGCGCGT': 255, 'ACGTCCGTA': 255, 'GGGGGGGGA': 255, 'CAATTCCGC': 255, 'TGGTGCGAG': 255, 'GCCACCTTC': 255, 'ACCTGAAGC': 255, 'GACTTGAAC': 255, 'CTACCAATT': 255, 'CCCCCACGT': 255, 'CCACGTCCG': 255, 'TAGCGCGTC': 255, 'CCGCCACCT': 255, 'AGCTAGCGC': 255, 'TTCCGCCAC': 255, 'ACACCTGAA': 255, 'GGGGGACTT': 255, 'CGCCACCTT': 255, 'ACTAACACC': 255, 'TTGGTGCGA': 255, 'AATTCCGCC': 255, 'TCTACCAAT': 255, 'CTGAAGCTA': 255, 'CCTGAAGCT': 255, 'TGAACCCCC': 255, 'CTAACACCT': 255, 'GCGAGGGGG': 255, 'AGCGCGTCT': 255, 'AGGGGGGGG': 255, 'TCCGCCACC': 255, 'ACTTGAACC': 255, 'CCACCTTCG': 255, 'GAAGCTAGC': 255, 'CCAATTCCG': 255, 'GGGGACTTG': 255, 'GTGCGAGGG': 255, 'GGGGGGGAC': 255, 'AAGCTAGCG': 255, 'TGCGAGGGG': 255, 'CACGTCCGT': 255, 'TGAAGCTAG': 255, 'AACCCCCAC': 255, 'GGGGGGACT': 255, 'ACCCCCACG': 255, 'GCGTCTACC': 255, 'CGTCTACCA': 255, 'CGAGGGGGG': 255, 'ACCAATTCC': 255, 'ATTCCGCCA': 255, 'CCCCACGTC': 255, 'GCGCGTCTA': 255, 'CCCACGTCC': 255, 'GAACCCCCA': 255, 'GGTGCGAGG': 255, 'CGTCCGTAA': 255, 'TAACACCTG': 255, 'CACCTTCGC': 255, 'TACCAATTC': 255, 'CACTAACAC': 255, 'TGAACTGGC': 254, 'CGTGCTTCT': 254, 'GTGCTTCTT': 254, 'TGCTTCTTC': 254, 'ACGCTCTTT': 247, 'GGGGAACAC': 246, 'CGGCGCGAG': 245, 'GACATTATT': 245, 'AAGATGCGC': 245, 'GCGAGCGCC': 245, 'ATAAGATGC': 245, 'CGACATTAT': 245, 'GATGCGCAA': 245, 'CGGCACTGG': 245, 'ACTGGAGTT': 245, 'GCGCGAGCG': 245, 'CCGACATTA': 245, 'CGCTGTAAT': 245, 'GCACTGGAG': 245, 'CGCGAGCGC': 245, 'CTGGAGTTT': 245, 'TTATTGCGG': 245, 'GATAAGATG': 245, 'ATTGCGGCA': 245, 'AGCGCCTTA': 245, 'TGGCAACAG': 245, 'TTGCGGCAC': 245, 'TGGAGTTTG': 245, 'TGCGGCGCG': 245, 'TCCGACATT': 245, 'GCGGCGCGA': 245, 'TTTGGCAAC': 245, 'TAAGATGCG': 245, 'TGCGGCACT': 245, 'GCGCCTTAT': 245, 'GGCGCGAGC': 245, 'ATGCGCAAG': 245, 'GGATAAGAT': 245, 'AGTTTGGCA': 245, 'GAGCGCCTT': 245, 'GTTTGGCAA': 245, 'ATCGCATCC': 245, 'TTGGCAACA': 245, 'ACATTATTG': 245, 'GCGGCACTG': 245, 'GGAGTTTGG': 245, 'CGAGCGCCT': 245, 'TATTGCGGC': 245, 'ATTATTGCG': 245, 'ATGCGGCGC': 245, 'CACTGGAGT': 245, 'GAGTTTGGC': 245, 'GGCACTGGA': 245, 'CATTATTGC': 245, 'AGATGCGCA': 245, 'GGCGCTGGC': 243, 'CGGGGAACA': 242, 'TCAGCGCCT': 240, 'GCAGAAGCA': 240, 'ATCAGGCAG': 239, 'CGAACCTCC': 239, 'TTGTAGGCC': 239, 'TTTGTAGGC': 238, 'TCAGGCAGT': 237, 'TCGAACCTC': 237, 'GGCCTACGA': 237, 'CGTTCTTTA': 233, 'CTGAAAGAA': 231, 'CGGCAACGC': 224, 'TATCCAGCG': 221, 'ATCCAGCGT': 221, 'ATTCTGGTG': 221, 'CGCTTTGTT': 218, 'GCTTTGTTG': 218, 'AAATGGCGG': 215, 'GCGTTCACG': 213, 'TAGCGTCGC': 213, 'CGACATCAA': 213, 'CCGACATCA': 213, 'GCAACCAAT': 212, 'CCAGACAGC': 211, 'CGTGATTTT': 211, 'AGCGCAATA': 211, 'TTAGCGTGA': 211, 'CCTGATTTA': 211, 'TTTTGTAGG': 211, 'TTTGTAGGT': 211, 'AGCGTGATT': 211, 'AGGCGTTTA': 211, 'AGCCTGATT': 211, 'GCGTGATTT': 211, 'GCAATAGCC': 211, 'GCGCAATAG': 211, 'ATAGCCTGA': 211, 'GCCTGATTT': 211, 'ACGCCAGAC': 211, 'CTGATTTAG': 211, 'AAGGCGTTT': 211, 'TTTAGCGTG': 211, 'GCCAGACAG': 211, 'TGATTTAGC': 211, 'CGCCAGACA': 211, 'CCTACGCCA': 211, 'CTACGCCAG': 211, 'AGACAGCGC': 211, 'CGCAACCAA': 211, 'GACAGCGCA': 211, 'GCCTACGCC': 211, 'ACAGCGCAA': 211, 'ATTTTGTAG': 211, 'CGCAATAGC': 211, 'TGATTTTGT': 211, 'GTGATTTTG': 211, 'CAATAGCCT': 211, 'CAGCGCAAT': 211, 'GGCCTACGC': 211, 'TAGCGTGAT': 211, 'CAGACAGCG': 211, 'TTGTAGGTC': 211, 'GATTTAGCG': 211, 'ATTTAGCGT': 211, 'TAGCCTGAT': 211, 'AATAGCCTG': 211, 'TACGCCAGA': 211, 'GATTTTGTA': 211, 'CCGCAACCA': 210, 'TAGGGCAGA': 209, 'CCCGCAACC': 209, 'TGATGTTGC': 209, 'CATTCTGAT': 208, 'ATCTGCGCA': 208, 'CCCCGCAAC': 208, 'CCCCCGCAA': 207, 'CTGCGCCTG': 206, 'GCCCCCGCA': 206, 'TGCGCCTGT': 206, 'CATGCCGAC': 206, 'GGCCCCCGC': 205, 'CTACATGTG': 204, 'CGGCCCCCG': 204, 'CCGGCCCCC': 203, 'CCTACATGT': 203, 'TCGAACCCC': 203, 'TCCGGCCCC': 202, 'CCCTACATG': 202, 'GCCCTACAT': 201, 'ATCCGGCCC': 201, 'GTTCGCCAC': 200, 'CGCCCTACA': 200, 'AATCCGGCC': 200, 'ACCGTAGGC': 199, 'AACCGTAGG': 199, 'GTGCCGAAC': 199, 'CCGAACCGT': 199, 'TCCGGCAGT': 199, 'AAGGCGTTC': 199, 'AAATCCGGC': 199, 'GAACCGTAG': 199, 'CGAACCGTA': 199, 'TGCCGAACC': 199, 'ATCCGGCAG': 199, 'GCCGAACCG': 199, 'TGTGCCGAA': 199, 'CCGCCCTAC': 199, 'TCCGCCCTA': 198, 'CAAATCCGG': 198, 'ATCCGCCCT': 197, 'CCACCTCTT': 197, 'TCAAATCCG': 197, 'TATCCGCCC': 196, 'TGATGAAGC': 196, 'GCACGACTG': 196, 'AAAATATTT': 196, 'TTCAAATCC': 196, 'TTATCCGCC': 195, 'GCGCTACGG': 195, 'GTTCAAATC': 195, 'CGCTACGGC': 195, 'GGTTCAAAT': 194, 'CTTATCCGC': 194, 'CGGTTCAAA': 193, 'TCGGTTCAA': 192, 'AAGCGTCGC': 192, 'CAGCTCCGG': 191, 'GTCGGTTCA': 191, 'AGCTCCGGC': 191, 'GCAGCTCCG': 191, 'CGTCGGTTC': 190, 'CAAGCGTCG': 190, 'CTGGCTGGC': 189, 'TCGTCGGTT': 189, 'TGCTGAAAC': 188, 'GCAAGCGTC': 188, 'GTCGTCGGT': 188, 'GCTGATTGC': 188, 'GGTCGTCGG': 187, 'TGCGGCGTA': 187, 'AGGTCGTCG': 186, 'CGCAAGCGT': 186, 'GCGGCGTAA': 185, 'AAGGTCGTC': 185, 'GTTGACGGC': 184, 'GAAGGTCGT': 184, 'GCGCAAGCG': 184, 'CGAAGGTCG': 183, 'CGGCGTAAA': 183, 'CCGAAGGTC': 182, 'CGCGCAAGC': 182, 'CCCGAAGGT': 181, 'GGCGTAAAC': 181, 'ACCCGAAGG': 180, 'ACGCGCAAG': 180, 'AACCCGAAG': 179, 'GCGTAAACG': 179, 'TAACCCGAA': 178, 'GACGCGCAA': 178, 'CTGATAAGC': 178, 'ATAACCCGA': 177, 'CGTAAACGC': 177, 'TGATAAGCG': 176, 'AGACGCGCA': 176, 'CATAACCCG': 176, 'TCATAACCC': 175, 'CGCTGTCGC': 175, 'CGGCAATCA': 175, 'GCGGATGCG': 175, 'TTGCCGACC': 175, 'GCTGTCGCG': 175, 'ATCAATGCC': 175, 'GTAAACGCC': 175, 'CAATCAATG': 175, 'AATCAATGC': 175, 'ACGCTGTCG': 175, 'GCAATCAAT': 175, 'CTGTCGCGT': 175, 'TGTCGCGTC': 175, 'GACGCTGTC': 175, 'CCTACAACT': 175, 'GCCTACAAC': 175, 'TCGCGTCTT': 175, 'GTCGCGTCT': 175, 'CAATGCCTG': 175, 'CGACGCTGT': 175, 'GGCAATCAA': 175, 'TCCGGCAAT': 175, 'TCAATGCCT': 175, 'CCGGCAATC': 175, 'CTCATAACC': 174, 'GATAAGCGT': 174, 'GGCGGATGC': 174, 'GCTGGCGAT': 173, 'TAAACGCCT': 173, 'TGGCGGATG': 173, 'GCTCATAAC': 173, 'GGCTCATAA': 172, 'ATAAGCGTA': 172, 'GCCAGCCAC': 171, 'AAACGCCTT': 171, 'GGGCTCATA': 171, 'TAAGCGTAG': 170, 'CGGGCTCAT': 170, 'TCGGGCTCA': 169, 'AAAAGCGGC': 169, 'AAGCGTAGC': 168, 'GTCGGGCTC': 168, 'CGTCGGGCT': 167, 'GATTGCCGA': 167, 'CAGAAGCAG': 166, 'AGCGTAGCG': 166, 'TCGTCGGGC': 166, 'CTCGTCGGG': 165, 'GCGTAGCGC': 164, 'AATCTGGCA': 164, 'GCTCGTCGG': 164, 'AGCTCGTCG': 163, 'TAGCTCGTC': 162, 'CGTAGCGCA': 162, 'GTAGCTCGT': 161, 'GTAGCGCAT': 160, 'GGTAGCTCG': 160, 'TGGTAGCTC': 159, 'TAGCGCATC': 158, 'CTGGTAGCT': 158, 'GCAGAGAAG': 158, 'CCTGGTAGC': 157, 'GGGAATTTG': 157, 'GCGGGAATT': 157, 'GGAATTTGT': 157, 'GTGCGGGAA': 157, 'GCCTACGGA': 157, 'CGGGAATTT': 157, 'CACGCTGCC': 157, 'GGTGCGGGA': 157, 'TGCGGGAAT': 157, 'AGCGCATCA': 156, 'GCCTGGTAG': 156, 'GCGCCAGTT': 155, 'AGCCTGGTA': 155, 'TTCCGGGTA': 155, 'GCGCATCAG': 154, 'AAAAATGAT': 154, 'CAGCCTGGT': 154, 'GCAGCCTGG': 153, 'TTTACCGCT': 153, 'GTTGCCGGA': 152, 'AGCAGCCTG': 152, 'CCTTCCCCG': 151, 'TCTCTCGCT': 151, 'CGTTGCCTG': 151, 'CCCTTCGGG': 151, 'ACGCGGGGT': 150, 'CGCGGGGTG': 150, 'GACGCGGGG': 150, 'GGAGCAGCC': 150, 'GCGGGGTGG': 150, 'GTGGAGCAG': 150, 'TGGAGCAGC': 150, 'GGGGTGGAG': 150, 'GGGTGGAGC': 150, 'GGTGGAGCA': 150, 'CGGGGTGGA': 150, 'CGCTGAAAG': 149, 'ATCAGGCAT': 148, 'TCCAGACGA': 147, 'TATAAAATA': 146, 'TGCTCCCTT': 143, 'CTGCTCCCT': 143, 'CAGCGTCGC': 142, 'TGAAACTGA': 141, 'ACCCACCAC': 141, 'CGTTGCTGC': 140, 'CACCAGCGC': 137, 'GAAGGATTA': 136, 'GTCGTTGCC': 135, 'TCGAAGCTT': 135, 'TTACTCAGC': 135, 'GGTCGTTGC': 135, 'CGCGCTTCG': 135, 'CTCTCTCGC': 135, 'ACGCTCTCT': 135, 'AAATGGCGC': 135, 'TCCTTCCCC': 135, 'TCGCCCTTC': 135, 'TTCGGGTCG': 135, 'TCATCCTTC': 135, 'GATTACTCA': 135, 'CGAAGCTTC': 135, 'CTCTCGCTG': 135, 'TCGGGTCGT': 135, 'CAACGCTCT': 135, 'CTTCGCCCT': 135, 'GGGTCGTTG': 135, 'GGGCAGAAT': 135, 'TCAGCGCTG': 135, 'GCCTGCGGC': 135, 'TGGGCAGAA': 135, 'CATCCTTCC': 135, 'AGAATATTT': 135, 'TCTCATCCT': 135, 'TTCGCCCTT': 135, 'CTTCCCCGC': 135, 'GCCCTTCGG': 135, 'GCGGATTCG': 135, 'CGCTCTCTC': 135, 'AACGCTCTC': 135, 'AGGATTACT': 135, 'CTTCGGGTC': 135, 'TGCGGATTC': 135, 'GAAGCTTCT': 135, 'TGCGGCAAC': 135, 'TTGCCTGCG': 135, 'CAGAATATT': 135, 'GTTGCCTGC': 135, 'GGCAGAATA': 135, 'AATGGCGCT': 135, 'GCTCTCTCG': 135, 'TGCGCGCTT': 135, 'GCGGCAACG': 135, 'CTCATCCTT': 135, 'GCGCGCTTC': 135, 'CTCAGCGCT': 135, 'CTGCGGCAA': 135, 'ATTACTCAG': 135, 'CGGGTCGTT': 135, 'ATTGCGGAT': 135, 'CCTGCGGCA': 135, 'GCTGCGCGC': 135, 'AGCGCTGCG': 135, 'AGCTTCTCA': 135, 'TCGTTGCCT': 135, 'GCGCTGCGC': 135, 'ATCCTTCCC': 135, 'TACTCAGCG': 135, 'GCAGAATAT': 135, 'CCTTCGGGT': 135, 'GCAACGCTC': 135, 'CGCTGCGCG': 135, 'GGCAACGCT': 135, 'GTCGAAGCT': 135, 'CGCTTCGCC': 135, 'ACTCAGCGC': 135, 'GCTTCGCCC': 135, 'CTGCGCGCT': 135, 'GGATTACTC': 135, 'CGCCCTTCG': 135, 'TTGCGGATT': 135, 'AAGGATTAC': 135, 'TGCCTGCGG': 135, 'AAGCTTCTC': 135, 'CAGCGCTGC': 135, 'CTGGCAGTC': 134, 'ACAAACGCA': 133, 'GGCGCTGGA': 132, 'TGATCCAGT': 132, 'GAAAGCCAG': 131, 'TTCGAATCC': 131, 'CGACGCGGC': 131, 'ACGACGCGG': 131, 'GTTCGAATC': 131, 'GGTTCGAAT': 131, 'CGCGTTAGC': 130, 'GACGCGTTA': 130, 'AAGACGCGT': 130, 'TCAGGCATC': 130, 'AGACGCGTT': 130, 'TTAGCGTCG': 130, 'GTTAGCGTC': 130, 'ACGCGTTAG': 130, 'CAGGCATCT': 130, 'GGCATCTGC': 130, 'GCGTTAGCG': 130, 'CGTTAGCGT': 130, 'AGGCATCTG': 130, 'CAGCCCGCT': 129, 'GGGGATTGA': 129, 'GTCTGTCCA': 129, 'AGTTGTCGA': 129, 'TGTCCAACT': 129, 'CGGTCTGTC': 129, 'CGCCCTGCG': 129, 'CCCCGGTCG': 129, 'GGCAGCCCG': 129, 'CTGCGGGCA': 129, 'CAGTTGTCG': 129, 'ATTGACTCG': 129, 'GCTGTCGCC': 129, 'CTCGCCCTG': 129, 'TCACTGCGT': 129, 'CCAACTGGC': 129, 'TGCGGGCAG': 129, 'CTGTCGCCA': 129, 'GGGCTTCTC': 129, 'TCCCCCCGG': 129, 'GCCAGTTGT': 129, 'GGGGCTTCT': 129, 'GTTCACGGT': 129, 'CTCATCCCC': 129, 'ACTCGCTTC': 129, 'TTGACTCGC': 129, 'GGGGGATTG': 129, 'GGGCAGCCC': 129, 'ACTGGCTGT': 129, 'CACTGCGTT': 129, 'GTCCAACTG': 129, 'TGACTCGCT': 129, 'CTTTTGAAA': 129, 'CACGGTCTG': 129, 'CCCCGGTGT': 129, 'CCCGCTCAC': 129, 'CCCTGCGGG': 129, 'ACTGCGTTC': 129, 'CGGGGCTTC': 129, 'TCGCTTCGC': 129, 'TCTCATCCC': 129, 'CCGCTCACT': 129, 'CCTGCGGGC': 129, 'GATTGACTC': 129, 'CTGGCTGTC': 129, 'GCCCTGCGG': 129, 'ACGGTCTGT': 129, 'TGGCTGTCG': 129, 'GGTCGGGGC': 129, 'GCGGGCAGC': 129, 'GGGATTGAC': 129, 'TTCGCTCGC': 129, 'TCGCTCGCC': 129, 'CGGTCGGGG': 129, 'TTCACGGTC': 129, 'TCTGTCCAA': 129, 'CTTCGCTCG': 129, 'CCGGTCGGG': 129, 'CAACTGGCT': 129, 'CTGTCCAAC': 129, 'GTCGGGGCT': 129, 'TGCGTTCAC': 129, 'TCGGGGCTT': 129, 'CCCCCGGTG': 129, 'GCTTCGCTC': 129, 'GCTCACTGC': 129, 'CGTTCACGG': 129, 'TCACGGTCT': 129, 'GGTCTGTCC': 129, 'GCAGCCCGC': 129, 'GCCCGCTCA': 129, 'CGGGCAGCC': 129, 'GTCGCCAGT': 129, 'GGCTTCTCA': 129, 'TGTCGCCAG': 129, 'ATCCCCCCG': 129, 'CTGCGTTCA': 129, 'GGATTGACT': 129, 'TCCAACTGG': 129, 'CGCTCGCCC': 129, 'CTCGCTTCG': 129, 'GACTCGCTT': 129, 'CCCCCCGGT': 129, 'CGCCAGTTG': 129, 'TCGCCAGTT': 129, 'TCGCCCTGC': 129, 'CCAGTTGTC': 129, 'CGCTTCGCT': 129, 'GCTCGCCCT': 129, 'AACTGGCTG': 129, 'CTCACTGCG': 129, 'CCCGGTCGG': 129, 'GGCTGTCGC': 129, 'CGCTCACTG': 129, 'AGCCCGCTC': 129, 'TCATCCCCC': 129, 'CATCCCCCC': 129, 'CCAGCTCTT': 128, 'TTTTGAAAG': 128, 'TTTGAAAGT': 127, 'TTGAAAGTG': 126, 'ATCAGCACC': 125, 'GATCAGCAC': 125, 'CCGCAGGCG': 125, 'TGAAAGTGA': 125, 'GAAAGTGAT': 124, 'ATTCATCTT': 124, 'AAAGTGATG': 123, 'AAGTGATGG': 122, 'GGCGCAGGC': 122, 'AGTGATGGT': 121, 'ATACAGCGA': 121, 'GTGATGGTG': 120, 'TGATGGTGG': 119, 'GCGCCGCTG': 116, 'GCTGGCAGT': 116, 'CGCCGCTGA': 116, 'TACGCCGCA': 114, 'GGTAAAGTG': 113, 'GTTGCCAGG': 113, 'AAAGAAGCT': 113, 'GAAAGAAGC': 113, 'ATAAAATAT': 113, 'TTACGCCGC': 112, 'ATGAAGCAA': 111, 'ACGGATGCA': 111, 'AAAAATTGA': 111, 'CGCAAGCTG': 111, 'TACGGATGC': 110, 'GTTACGCCG': 110, 'GCCGCCGCC': 110, 'GCAAGCTGG': 109, 'CTACGGATG': 109, 'CTGGCGGCA': 109, 'GGTTACGCC': 108, 'GCTACGGAT': 108, 'CACGACGTT': 107, 'ACGACGTTC': 107, 'GATCGGTTC': 107, 'AGCTACGGA': 107, 'TCACGACGT': 107, 'CAAGCTGGA': 107, 'TAAATATTG': 107, 'GAGCTACGG': 106, 'CGGTTACGC': 106, 'TGAGCTACG': 105, 'AAGCTGGAA': 105, 'CTGAGCTAC': 104, 'GCGGTTACG': 104, 'AGCTGGAAC': 103, 'TTCGAACCT': 102, 'AGGTTTTCC': 102, 'GGCGGTTAC': 102, 'GCTGAGCTA': 102, 'CGTCGAAGC': 101, 'GCTGGAACA': 101, 'CCGTCGAAG': 101, 'GCCGTCGAA': 101, 'AGCTGAGCT': 100, 'AGGCGGTTA': 100, 'CTGGAACAG': 99, 'GCTATAGCC': 99, 'AAGGCGGTT': 98, 'TTCACGACG': 98, 'CAGCTGAGC': 98, 'CCGTAGGTC': 97, 'TGGAACAGC': 97, 'CCAGCTGAG': 96, 'AAGCAGAAG': 96, 'TAAGGCGGT': 96, 'ATAAGGCGG': 94, 'AGCAGAAGC': 94, 'TCCAGCTGA': 94, 'ACAGCAACA': 92, 'ATCCAGCTG': 92, 'GCTGCTGCT': 92, 'GTTAAATAA': 91, 'CAGCAACAG': 91, 'AGCAACAGG': 90, 'TATCCAGCT': 90, 'GCAACAGGC': 89, 'CTATCCAGC': 88, 'CAACAGGCT': 88, 'AACAGGCTA': 87, 'CGCTGGTGG': 87, 'ACAGGCTAA': 86, 'AGGCGTTCA': 86, 'TCTATCCAG': 86, 'CAGGCTAAT': 85, 'GGCGTTCAC': 85, 'GGGTGATTA': 85, 'ACCTACGGT': 85, 'CAAAATCGC': 84, 'TTGCTTATC': 84, 'GCTTATCCG': 84, 'TCAGGCGTT': 84, 'AGGCTAATG': 84, 'AAATCGCAG': 84, 'TGCGCTTTG': 84, 'CCTACAAAA': 84, 'CTCTATCCA': 84, 'GCGCTTTGC': 84, 'CGGATGCGC': 84, 'TTTGCTTAT': 84, 'GGATGCGCT': 84, 'CGGCCTACA': 84, 'GATGCGCTT': 84, 'GCCTACAAA': 84, 'TGCTTATCC': 84, 'GCTTTGCTT': 84, 'CTACAAAAT': 84, 'AATCGCAGC': 84, 'GGTGATTAG': 84, 'CGCTTTGCT': 84, 'ATCGCAGCG': 84, 'GACCTACGG': 84, 'CATCAGGCG': 84, 'ACAAAATCG': 84, 'ATCAGGCGT': 84, 'AAAATCGCA': 84, 'CTTTGCTTA': 84, 'ATGCGCTTT': 84, 'TACAAAATC': 84, 'ATCTTCTTC': 83, 'CGACCTACG': 83, 'CGTTCACGC': 83, 'GTGATTAGC': 83, 'GTTCACGCC': 82, 'TGATTAGCT': 82, 'ATAGCGTCG': 82, 'ACTCTATCC': 82, 'CCGACCTAC': 82, 'ACACCGCTG': 81, 'TACACCGCT': 81, 'ACCGCTGTG': 81, 'CCTACACCG': 81, 'GCCAAAGCG': 81, 'GATTAGCTC': 81, 'CACCGCTGT': 81, 'GGCCTACAC': 81, 'TTCACGCCG': 81, 'CTGTGAAGT': 81, 'TCCGACCTA': 81, 'TGTGAAGTG': 81, 'CGCTGTGAA': 81, 'GCCTACACC': 81, 'GCTGTGAAG': 81, 'CATAGCGTC': 81, 'CTACACCGC': 81, 'CCGCTGTGA': 81, 'ATCCGACCT': 80, 'ATTAGCTCA': 80, 'TACTCTATC': 80, 'GCATAGCGT': 80, 'CGGCGCTGG': 80, 'GCTGGCTGG': 80, 'TCACGCCGC': 80, 'CCAAAGCGC': 80, 'TCAGCTGGG': 79, 'ATCACCCAC': 79, 'AGGGGGTCG': 79, 'CAAAGCGCG': 79, 'TCCCGTCAT': 79, 'CCCGTCATC': 79, 'CTGGGAGAG': 79, 'AGCTCAGCT': 79, 'CTTACAAGG': 79, 'GTTCGATCC': 79, 'GATCCCGTC': 79, 'TTCGATCCC': 79, 'TCATCACCC': 79, 'TACAAGGAG': 79, 'TTACAAGGA': 79, 'GTCGGCGGT': 79, 'CAGCTGGGA': 79, 'AGCACCTCC': 79, 'AGGAGGGGG': 79, 'GCGGTTCGA': 79, 'GGTTCGATC': 79, 'GCTCAGCTG': 79, 'TCCCTTACA': 79, 'GGAGAGCAC': 79, 'GGGAGAGCA': 79, 'CCGTCATCA': 79, 'TCACCCACC': 79, 'GGGGGTCGG': 79, 'TCGATCCCG': 79, 'CACCCACCA': 79, 'GAGGGGGTC': 79, 'TCGGCGGTT': 79, 'GAGCACCTC': 79, 'CGGTTCGAT': 79, 'CGGCGGTTC': 79, 'GAGAGCACC': 79, 'ATCCCGTCA': 79, 'CCCTTACAA': 79, 'CTCAGCTGG': 79, 'CACCTCCCT': 79, 'CAAGGAGGG': 79, 'GTCATCACC': 79, 'CTCCCTTAC': 79, 'GGGGTCGGC': 79, 'AAGGAGGGG': 79, 'CGATCCCGT': 79, 'GCACCTCCC': 79, 'TGGGAGAGC': 79, 'TATCCGACC': 79, 'ACAAGGAGG': 79, 'AGCTGGGAG': 79, 'GGCGGTTCG': 79, 'GGTCGGCGG': 79, 'CATCACCCA': 79, 'CCTCCCTTA': 79, 'CGCATAGCG': 79, 'GGAGGGGGT': 79, 'ACCTCCCTT': 79, 'GGGTCGGCG': 79, 'CACGCCGCA': 79, 'CGTCATCAC': 79, 'TAGCTCAGC': 79, 'AGAGCACCT': 79, 'GCTGGGAGA': 79, 'CCTTACAAG': 79, 'CTGGCAGTT': 78, 'GTACTCTAT': 78, 'ACGCATAGC': 78, 'GACGCATAG': 77, 'GCCAGCAGG': 77, 'AGACGCATA': 76, 'AGTACTCTA': 76, 'CGCTTCACC': 74, 'GAGTACTCT': 74, 'GAAGAGATC': 74, 'TATTGCCCG': 74, 'TGAACGCCT': 73, 'CTATTGCCC': 73, 'CGAGTACTC': 72, 'GAACGCCTT': 72, 'GCTATTGCC': 72, 'CAGGCAGTC': 71, 'GATACGGGC': 71, 'GCGAAAGTG': 71, 'GGATACGGG': 71, 'CGGATACGG': 71, 'GATACCCCA': 71, 'AGCAGTTGA': 71, 'TGAAAGAAG': 71, 'GAGTTAAAT': 70, 'CCGAGTACT': 70, 'CGATACCCC': 70, 'AGGCAGTCG': 70, 'GCGATACCC': 69, 'GGCAGTCGG': 69, 'GCAGTCGGC': 68, 'GCCGAGTAC': 68, 'GGCGATACC': 68, 'CCGCTGTTC': 68, 'AAGAACAGC': 68, 'GGAGTTAAA': 68, 'CAGTCGGCA': 67, 'TGGCGATAC': 67, 'ATAAGCCGC': 66, 'AGTCGGCAC': 66, 'AGGAGTTAA': 66, 'CAAATCAAC': 66, 'AGCCGAGTA': 66, 'TTGGCGATA': 66, 'TTTATCGCC': 65, 'TAAGCCGCT': 65, 'CTTGGCGAT': 65, 'GAAAAAGCC': 65, 'AAGCCGCTT': 64, 'TAGCCGAGT': 64, 'CAGGAGTTA': 64, 'GAAACTGAC': 64, 'GCTTGGCGA': 64, 'CGCTTGGCG': 63, 'AACAGGTCG': 63, 'AGCCGCTTT': 63, 'CCGCTTGGC': 62, 'CCACCCCGT': 62, 'TGGCAATGG': 62, 'GCCGCTTTC': 62, 'GTAGCCGAG': 62, 'GTGAAACTG': 62, 'ACAGGTCGA': 62, 'GGTGAAACT': 61, 'TGCTGAAAA': 61, 'CAGGTCGAT': 61, 'ACCGCTTGG': 61, 'TCTCACTCC': 61, 'CCGCTTTCT': 61, 'CTGCTGAAA': 60, 'CGCTTTCTT': 60, 'AGGTGAAAC': 60, 'AGGTCGATC': 60, 'TCCACCCCG': 60, 'CGTAGCCGA': 60, 'ATACCGCTA': 60, 'TACCGCTTG': 60, 'CAGGTGAAA': 59, 'GCTTTCTTT': 59, 'CGCCAGCAG': 59, 'GCTGCTGAA': 59, 'GGTCGATCC': 59, 'TTACCGCTT': 59, 'AAAGCGCGC': 59, 'TCGTAGCCG': 58, 'CTTACCGCT': 58, 'CTTTCTTTT': 58, 'CGCACAGCG': 58, 'ACAGCGTCG': 58, 'CACAGCGTC': 58, 'GACGCACAG': 58, 'AGACGCACA': 58, 'GCACAGCGT': 58, 'GTCGATCCG': 58, 'CTCCACCCC': 58, 'GTTTGTAGG': 58, 'ACGCACAGC': 58, 'AAGACGCAC': 58, 'TATGTTCCG': 57, 'TCGATCCGC': 57, 'CGACGCTTG': 57, 'CCTTACCGC': 57, 'TTATGTTCC': 57, 'TTTCTTTTG': 57, 'TTCGTAGCC': 56, 'GCTCCACCC': 56, 'GCCTTACCG': 56, 'CGATCCGCG': 56, 'TTCTTTTGG': 56, 'TCTTTTGGG': 55, 'TGCCTTACC': 55, 'ATATTAATA': 54, 'GTGCCTTAC': 54, 'AAAGCCGCC': 54, 'TGCTCCACC': 54, 'GTTCGTAGC': 54, 'CTTTTGGGT': 54, 'GGTTAACAA': 53, 'GGTGCCTTA': 53, 'TTTTGGGTA': 53, 'GGATGCATC': 52, 'ATCGGGAAA': 52, 'CGGTGCCTT': 52, 'CATCGGGAA': 52, 'CGGATGCAT': 52, 'GGTTCGTAG': 52, 'TTTGGGTAT': 52, 'TGCATCGGG': 52, 'GATGCATCG': 52, 'GCATCGGGA': 52, 'ATGCATCGG': 52, 'GTGCTCCAC': 52, 'CCGGTGCCT': 51, 'TTGGGTATA': 51, 'TGGGTATAG': 50, 'AGTGCTCCA': 50, 'CGGTTCGTA': 50, 'GGTGCACTG': 49, 'CGCAAAGCC': 49, 'TTACGTAAA': 49, 'GCAAAGCCG': 48, 'TCGGTTCGT': 48, 'TTTACGTAA': 48, 'AAGTGCTCC': 48, 'GTGCACTGA': 48, 'TGCACTGAA': 47, 'TTTTACGTA': 47, 'AGAATCTGT': 47, 'CAAAGCCGC': 47, 'GCGGACTGA': 47, 'GAATCTGTA': 46, 'GCACTGAAC': 46, 'TACGGGGTG': 46, 'TTTTTACGT': 46, 'GAAGTGCTC': 46, 'CTCGGTTCG': 46, 'AAGCCGCCG': 45, 'CACTGAACT': 45, 'AATCTGTAG': 45, 'GTTTTTACG': 45, 'CTACGGGGT': 45, 'ATCTGTAGG': 44, 'CCTACGGGG': 44, 'CTACCGCTA': 44, 'GCTACCGCT': 44, 'AAAGCGGCA': 44, 'GCTCGGTTC': 44, 'TGAAGTGCT': 44, 'AGCCGCCGT': 44, 'GGTTTTTAC': 44, 'AACCAGCAG': 44, 'GCCTACGGG': 43, 'GGGTTTTTA': 43, 'TCTGTAGGC': 43, 'GCCGCCGTC': 43, 'ACCGTGCTG': 43, 'CGGGTTTTT': 42, 'CCGCCGTCG': 42, 'CGCTCGGTT': 42, 'GCCAGCAGC': 42, 'CAGTTCCAG': 41, 'CCAGTTCCA': 41, 'CGCCGTCGA': 41, 'GCGGGTTTT': 41, 'CCGCTCGGT': 40, 'AGCGGGTTT': 40, 'GCTGCTGGC': 39, 'AAGCGGGTT': 39, 'GAAGCGGGT': 38, 'ACCGCTCGG': 38, 'TTGCCGCCG': 37, 'CGAAGCGGG': 37, 'GTCGAAGCC': 37, 'CCGAAGCGG': 36, 'TCGAAGCCG': 36, 'GACCGCTCG': 36, 'GCCGAAGCG': 35, 'CGAAGCCGC': 35, 'CGCTGATTG': 35, 'CGACCGCTC': 34, 'GAAGCCGCT': 34, 'CGCCGAAGC': 34, 'ATCGTTTGA': 34, 'CCGCCGAAG': 33, 'AAGCCGCTA': 33, 'TTGATACCG': 33, 'TGATACCGC': 32, 'AGCCGCTAT': 32, 'CCGACCGCT': 32, 'CCCGCCGAA': 32, 'GCCGCTATT': 31, 'GATACCGCT': 31, 'GCGCTGCTC': 31, 'ACCCGCCGA': 31, 'GGACGGTGC': 31, 'TGCCGACCT': 30, 'CCGCTATTG': 30, 'TCCGACCGC': 30, 'CGCTATTGC': 29, 'GACGGTGCT': 29, 'TGGCGCTGC': 29, 'CCTGGCGCT': 29, 'TACCGCTAC': 29, 'GCCGACCTG': 29, 'CGCGTCTGC': 29, 'GCGCGTCTG': 29, 'CTGGCGCTG': 29, 'TCTTATCAT': 28, 'CTCCAAAAG': 28, 'CCGACCTGT': 28, 'GCCCCTCCA': 28, 'ATCTTTCTG': 28, 'TGCCCCTCC': 28, 'CCCCTCCAA': 28, 'CATCTTTCT': 28, 'AAAAACCCG': 28, 'TCTGCCCCT': 28, 'CCCTCCAAA': 28, 'TTCATCTTT': 28, 'AAAACCCGC': 28, 'CTGCCCCTC': 28, 'CCTCCAAAA': 28, 'CTCCGACCG': 28, 'ACCGCTACT': 28, 'TCATCTTTC': 28, 'TTCTGCCCC': 28, 'TTTCTGCCC': 28, 'CTTTCTGCC': 28, 'TCTTTCTGC': 28, 'CTTATCATG': 27, 'CCGCTACTA': 27, 'CGACCTGTA': 27, 'GCCGACCAG': 27, 'TTGAAGTTG': 27, 'TGGCTGGGG': 27, 'GACCTGTAG': 26, 'TTATCATGC': 26, 'CGCTACTAA': 26, 'GGTGATGTT': 26, 'CCTCCGACC': 26, 'TATCATGCC': 25, 'ACCTGTAGG': 25, 'GCTACTAAA': 25, 'GGCTGGGGT': 25, 'TGCAGCTGA': 25, 'ACCTCCGAC': 24, 'CTACTAAAG': 24, 'CCTGTAGGC': 24, 'GAATGCCGG': 24, 'ATCATGCCT': 24, 'CTGCAGCTG': 24, 'GCTGGGGTA': 23, 'TCATGCCTA': 23, 'TACTAAAGC': 23, 'GCTGCAGCT': 23, 'CCGCTGACG': 23, 'CCACCAGCA': 23, 'GCCGCTGAC': 22, 'AACCTCCGA': 22, 'CATGCCTAC': 22, 'AGCTGCAGC': 22, 'ACTAAAGCC': 22, 'GGAATGCCG': 22, 'TTAAATGAT': 21, 'CTGGGGTAC': 21, 'CTGCCAGCG': 21, 'ATGCCTACA': 21, 'GAACCTCCG': 20, 'TGCGCCGCT': 19, 'ATGCGCCGC': 18, 'GGTTGCGCC': 18, 'TCAGGCATT': 17, 'GATGCGCCG': 17, 'TGATAAAAA': 17, 'CCCGGACGG': 17, 'GACATCAAC': 17, 'CGGTTGCGC': 17, 'CCGGACGGT': 16, 'TGATGCGCC': 16, 'CCGGTTGCG': 16, 'CAGGCATTT': 16, 'CGGACGGTG': 15, 'CTGATGCGC': 15, 'ACATCAACG': 15, 'AGGCATTTG': 15, 'ACCCACCAA': 15, 'TTTGTGCTG': 14, 'CTGGCGCAG': 14, 'AAAGCAGAA': 14, 'CATCAACGC': 13, 'GATAAGGCA': 13, 'GTTGCCGTT': 12, 'ATAAGGCAC': 12, 'AAGCGCGCA': 12, 'AGTTGCCGT': 12, 'TTGCCGTTA': 12, 'AGCGCGCAA': 11, 'ATCAACGCC': 11, 'TAAGGCACT': 11, 'AAGGCACTT': 10, 'AAGCGGCAG': 9, 'TCAACGCCT': 9, 'AGGCACTTG': 9, 'GGCACTTGT': 8, 'GCACTTGTG': 7, 'ACAACCGAT': 7, 'AACCGATGC': 7, 'CCGACAACC': 7, 'GACAACCGA': 7, 'CGACAACCG': 7, 'ACGGCTGCC': 7, 'ACCGATGCC': 7, 'CAACGCCTG': 7, 'CAACCGATG': 7, 'AAACTGGCA': 6, 'CACTTGTGC': 6, 'CGGCTGCCG': 6, 'AGGATTCGA': 6, 'GGCTGCCGG': 5, 'ACTTGTGCC': 5, 'TAAGAGATG': 5, 'AACGCCTGA': 5, 'CAGCCACAA': 4, 'CTTGTGCCG': 4, 'GCTGCCGGA': 4, 'AAGAGATGG': 4, 'CCCACCAAT': 4, 'GAGGATTCG': 4, 'ACGATATTA': 3, 'AAATGGCGA': 3, 'GCAGCCACA': 3, 'AGAGATGGT': 3, 'CAGCAGCCG': 3, 'TTGTGCCGC': 3, 'ACGCCTGAT': 3, 'GGAGGATTC': 2, 'GAGATGGTG': 2, 'TGTGCCGCA': 2, 'AGATGGGAG': 1, 'CGAAGTTGA': 1, 'CGCCTGATG': 1, 'AGATGGTGC': 1, 'GGGAACTCT': 1, 'CCGGTTTAT': 1, 'AGTTAAATA': 1, 'GAGATGGGA': 1, 'GCATCTGCG': 1, 'AGCAGCCGC': 1, 'GTGCCGCAT': 1, 'GTCACCATT': 1})\n",
      "type(eData)                 "
     ],
     "language": "python",
     "metadata": {},
     "outputs": [
      {
       "metadata": {},
       "output_type": "pyout",
       "prompt_number": 335,
       "text": [
        "collections.Counter"
       ]
      }
     ],
     "prompt_number": 335
    },
    {
     "cell_type": "code",
     "collapsed": false,
     "input": [
      "# How many different 9-mers form (500,3)-clumps in the E. coli genome? \n",
      "\n",
      "# list unique elements\n",
      "unique9mers = list(eData)\n",
      "\n",
      "# total number of clumps\n",
      "len(unique9mers)\n",
      "\n"
     ],
     "language": "python",
     "metadata": {},
     "outputs": [
      {
       "metadata": {},
       "output_type": "pyout",
       "prompt_number": 334,
       "text": [
        "1722"
       ]
      }
     ],
     "prompt_number": 334
    },
    {
     "cell_type": "code",
     "collapsed": false,
     "input": [
      "# How many different 9-mers form (500,3)-clumps in the E. coli genome? \n",
      "for k in list(eData):\n",
      "    if eData[k] < 3:\n",
      "        del eData[k]\n",
      "\n",
      "len(list(eData))      \n",
      "\n",
      "# not correct since we already account for clumps of 3\n",
      "# this checks for more than 3 occurrences of clump"
     ],
     "language": "python",
     "metadata": {},
     "outputs": [
      {
       "metadata": {},
       "output_type": "pyout",
       "prompt_number": 342,
       "text": [
        "1707"
       ]
      }
     ],
     "prompt_number": 342
    },
    {
     "cell_type": "code",
     "collapsed": false,
     "input": [
      "eData.most_common(10)"
     ],
     "language": "python",
     "metadata": {},
     "outputs": [
      {
       "metadata": {},
       "output_type": "pyout",
       "prompt_number": 324,
       "text": [
        "[('CGGATGCGG', 2009),\n",
        " ('GGATGCGGC', 2006),\n",
        " ('GATGCGGCG', 2003),\n",
        " ('CCGGATGCG', 1809),\n",
        " ('CCGCATCCG', 1663),\n",
        " ('GCCGCATCC', 1647),\n",
        " ('GCCTGATGC', 1625),\n",
        " ('GCCTTATCC', 1607),\n",
        " ('CCTTATCCG', 1604),\n",
        " ('CATCCGGCA', 1589)]"
       ]
      }
     ],
     "prompt_number": 324
    },
    {
     "cell_type": "code",
     "collapsed": false,
     "input": [
      "eData"
     ],
     "language": "python",
     "metadata": {},
     "outputs": [
      {
       "metadata": {},
       "output_type": "pyout",
       "prompt_number": 343,
       "text": [
        "Counter({'CGGATGCGG': 2009, 'GGATGCGGC': 2006, 'GATGCGGCG': 2003, 'CCGGATGCG': 1809, 'CCGCATCCG': 1663, 'GCCGCATCC': 1647, 'GCCTGATGC': 1625, 'GCCTTATCC': 1607, 'CCTTATCCG': 1604, 'CATCCGGCA': 1589, 'CCTGATGCG': 1513, 'GCATCCGGC': 1513, 'ATGCGACGC': 1495, 'TGCGACGCT': 1495, 'GCGTCTTAT': 1495, 'GATGCGACG': 1495, 'CGCGTCTTA': 1495, 'CGTCTTATC': 1495, 'ATGCGGCGT': 1495, 'CTTATCCGG': 1491, 'GCCGGATGC': 1491, 'TTATCCGGC': 1487, 'GCATCAGGC': 1450, 'TGCCTGATG': 1380, 'GCGGGGAAC': 1357, 'GGTTTATCC': 1357, 'GTTTATCCC': 1357, 'GCGTCGCAT': 1343, 'GATAAGACG': 1343, 'CGTCGCATC': 1343, 'GCTGGCGCG': 1295, 'CGCTGGCGC': 1288, 'CGCCTTATC': 1288, 'CGCATCCGG': 1265, 'TGCCGGATG': 1250, 'GTCTTATCA': 1200, 'TGATGCGAC': 1200, 'CTGATGCGA': 1200, 'GGATAAGGC': 1185, 'CGCATCAGG': 1182, 'TCCGGCCTA': 1151, 'CCGGCCTAC': 1149, 'CGCCGCATC': 1129, 'ATAAGACGC': 1103, 'CATCAGGCA': 1096, 'CGGATAAGG': 1096, 'GATAAGGCG': 1085, 'CGCGGGGAA': 1078, 'TTATCAGGC': 1048, 'CTTATCAGG': 1048, 'ATCAGGCCT': 1048, 'TATCAGGCC': 1048, 'TCAGGCCTA': 1048, 'ATCCTGCAC': 1044, 'TCGCATCAG': 1030, 'GTCGCATCA': 1030, 'GGCCTGATA': 1029, 'GCCTGATAA': 1028, 'CCTGATAAG': 1027, 'ACGCCGCAT': 1008, 'TCTTATCAG': 1001, 'TAAGGCGTT': 993, 'ATAAGGCGT': 993, 'ATCCCCGCT': 969, 'GCGCGGGGA': 967, 'TATCCCCGC': 964, 'GGCGCGGGG': 963, 'TTATCCCCG': 958, 'TGGCGCGGG': 958, 'CGCATCCGA': 954, 'CTGGCGCGG': 953, 'GCATCCGAC': 952, 'TTTATCCCC': 951, 'CATCCGACA': 950, 'TGATAAGAC': 946, 'CTGATAAGA': 946, 'CCGCTGGCG': 936, 'CCCGCTGGC': 931, 'CCCCGCTGG': 926, 'TCCCCGCTG': 920, 'CCGGATAAG': 886, 'TATCCGGCC': 869, 'ATCCGGCCT': 865, 'CACGACCCA': 859, 'CGACCCACC': 859, 'GACCCACCA': 859, 'TGCACGACC': 859, 'CTGCACGAC': 859, 'TCCTGCACG': 859, 'ACGACCCAC': 859, 'GCACGACCC': 859, 'CCTGCACGA': 859, 'CGGTTTATC': 819, 'GCGACGCTG': 817, 'AGCGTCGCA': 805, 'CAGGCCTAC': 780, 'CGTAGGCCG': 778, 'TCGGATAAG': 769, 'GGTCGGATA': 769, 'GTCGGATAA': 769, 'GGGGAACTC': 764, 'ACGCCTTAT': 764, 'TTAGCTCAG': 742, 'TGTAGGCCT': 741, 'GTAGGCCTG': 740, 'TAGGCCTGA': 739, 'AGGCCTGAT': 738, 'ATTCGAACC': 725, 'GATTCGAAC': 723, 'TGCATCCGG': 722, 'GGTGCATCC': 722, 'ATCCGGGAG': 722, 'TGGTGCATC': 722, 'ATGGTGCAT': 722, 'GTGCATCCG': 722, 'CCGGGAGGA': 722, 'CATCCGGGA': 722, 'GCATCCGGG': 722, 'CGGGAGGAT': 722, 'TCCGGGAGG': 722, 'GGATTCGAA': 721, 'ATGCCTGAT': 687, 'GCGACGCTT': 678, 'TGCGGCGTG': 668, 'TAAGACGCG': 663, 'ATCCGACAT': 635, 'GTAGGCCGG': 597, 'TAGGCCGGA': 596, 'AGGCCGGAT': 595, 'GGCCGGATA': 594, 'GCCGGATAA': 593, 'GCGCTGGCG': 566, 'CGGATAAGA': 558, 'TCGCATCCG': 558, 'CGGGGAACT': 550, 'GGGGGAAGG': 527, 'GGGGAAGGA': 527, 'TGGTGGGGG': 527, 'GGTGGGGGA': 527, 'GGTGGTGGG': 527, 'GTGGTGGGG': 527, 'GGAAGGATT': 527, 'TGGTGGTGG': 527, 'ATGGTGGTG': 527, 'GGGAAGGAT': 527, 'TGGGGGAAG': 527, 'GTGGGGGAA': 527, 'CGGCCTACG': 526, 'CGGCGGCGG': 526, 'TGTAGGTCG': 524, 'GTAGGTCGG': 524, 'AGGCCTACG': 524, 'TAGGTCGGA': 524, 'AGGTCGGAT': 524, 'GGGAGGATT': 515, 'GAGGGGGGG': 513, 'CACTATGGC': 496, 'TGAAATGAT': 496, 'CTATGGCAC': 496, 'ATGAAATGA': 496, 'GCACTATGG': 496, 'AAATGATGA': 496, 'GAAATGATG': 496, 'ACTATGGCA': 496, 'TTAAATAAT': 493, 'ACGGTGCTA': 489, 'AAGAAAGCG': 489, 'AGAAAGCGG': 489, 'CCGTAGGCC': 489, 'GATGAAATG': 480, 'GGCACTATG': 480, 'TGGCACTAT': 480, 'ATGGCACTA': 480, 'AATGATGAA': 480, 'TGATGAAAT': 480, 'TATGGCACT': 480, 'ATGATGAAA': 480, 'ATCTATTCA': 479, 'AATGCCAGC': 474, 'TCGGCATCG': 471, 'ATCGGCATC': 471, 'ATCCGGCAA': 469, 'ATATTTTTT': 469, 'TTATCAAAA': 467, 'GGGGCAAAA': 461, 'CATCATCAT': 461, 'GGTGGGTCA': 458, 'GTCAAAAGT': 458, 'AAAAGTTGC': 458, 'TCAAAAGTT': 458, 'GGGTCAAAA': 458, 'CAAAAGTTG': 458, 'TGGGTCAAA': 458, 'CCAGCAGCA': 458, 'GTGGGTCAA': 458, 'AAGTTGCCG': 458, 'GGTCAAAAG': 458, 'AAAGTTGCC': 458, 'TCATCCGGC': 455, 'TCTCCGTTC': 455, 'TCATCCTGA': 453, 'AAGACGCGC': 449, 'TTGCCGGAT': 449, 'TAAGACGCA': 441, 'GTGATCGTG': 440, 'TGTTCATAT': 438, 'CTGTTCATA': 438, 'GCAGCCGCA': 431, 'GGAGTTAAG': 428, 'CTGCCGGAT': 423, 'ACTGCCGGA': 420, 'ACGACTGCC': 420, 'GACTGCCGG': 420, 'CGACTGCCG': 420, 'CACGACTGC': 420, 'TATCAGCAG': 419, 'ATCAGCAGC': 419, 'TCAGCAGCC': 419, 'GATGGTGGT': 417, 'GCCGGTATC': 414, 'AAGTTGAAG': 409, 'CAGCAGGCC': 407, 'GCGCAAAGC': 401, 'ATCCGCGCA': 401, 'GGAACAGCA': 401, 'GAACAGCAA': 401, 'CGCGCAAAG': 401, 'CCGCGCAAA': 401, 'AACAGCAAC': 401, 'GATCCGCGC': 401, 'GGCTAATGC': 401, 'TCCGCGCAA': 401, 'ACGCTGGCG': 397, 'GGCGCTGCT': 395, 'CTGGCGGAT': 391, 'GCGGCGTGA': 388, 'TCCGACATC': 388, 'CGGCGTGAA': 387, 'GGCGTGAAC': 386, 'CCAGCAGGC': 386, 'GCGTGAACG': 385, 'CGTGAACGC': 384, 'AAGACGCAT': 384, 'GTGAACGCC': 383, 'CAACGGTGG': 382, 'GAGCAGCCT': 381, 'GAACTGGAA': 380, 'GCCTGCGCC': 377, 'TTTCAATAT': 375, 'TCAATATTG': 375, 'CAATATTGG': 375, 'AATATTGGT': 375, 'ATATTGGTG': 375, 'TTCAATATT': 375, 'TATTGGTGA': 375, 'CTGTAGGCC': 374, 'AATGCCTGA': 374, 'GTCTTCAAT': 374, 'ATCAGGCAA': 367, 'AGGCAACGG': 367, 'CTACGGTTA': 367, 'ACGGTTATG': 367, 'GGCAACGGC': 367, 'GTTATGTTC': 367, 'CAGGCAACG': 367, 'CAACGGCTG': 367, 'CGGTTATGT': 367, 'CCTACGGTT': 367, 'GGTTATGTT': 367, 'GCAACGGCT': 367, 'TCAGGCAAC': 367, 'TACGGTTAT': 367, 'CAGCGCACC': 359, 'AGCGCACCA': 359, 'GACCTTTCG': 359, 'TGCACCTTT': 359, 'TCCGGTTAA': 356, 'CGCACCAAA': 356, 'TGCATAATC': 356, 'CAGCACGCC': 348, 'GCCGGTTGC': 347, 'GTTGCCTGA': 347, 'GTGAAGTGC': 347, 'AGCCGGTTG': 347, 'CGGTTGCCT': 347, 'GACGCTGGC': 347, 'CCCCGTAGG': 347, 'GGTTGCCTG': 347, 'TTGCCTGAT': 347, 'TGGCGCGTC': 347, 'CCGGTTGCC': 347, 'CGACGCTGG': 347, 'CTGGCGCGT': 347, 'CACCCCGTA': 347, 'CCCGTAGGT': 347, 'GCGCGTCTT': 347, 'GGCGCGTCT': 347, 'ACCCCGTAG': 347, 'GCGGCGGCG': 335, 'TCGGAAAGC': 332, 'GGCAGGAAG': 331, 'TATGGATTA': 331, 'GCAGGAAGG': 331, 'ATATGGATT': 331, 'GGCCTACGG': 329, 'GCGCTGGAA': 329, 'GAAAGCGGC': 321, 'AACGCCTTA': 319, 'CGTGATCGT': 314, 'ACTGAACTG': 313, 'AACTGTAGG': 313, 'GTCGCATCC': 313, 'GACTTATCA': 313, 'CTGAACTGT': 313, 'TCCGACAAC': 313, 'CCGATGCCT': 313, 'ACTGTAGGT': 313, 'GAACTGTAG': 313, 'TGAACTGTA': 313, 'ACTTATCAG': 313, 'GGATAAGAC': 313, 'CTGTAGGTC': 313, 'CGATGCCTG': 313, 'ATCCGACAA': 313, 'GATGCCTGA': 313, 'TCGAACCTT': 310, 'AGACGCATT': 309, 'GACGCATTA': 309, 'GTCGGATGC': 309, 'TACGCGTCG': 309, 'ACTGTAGGC': 309, 'ACGCATTAC': 309, 'TTACGCGTC': 309, 'ACGCGTCGC': 309, 'AACGGCTGT': 309, 'TGTCGGATG': 309, 'CATTACGCG': 309, 'CGCGTCGCA': 309, 'GCATTACGC': 309, 'TCGGATGCG': 309, 'CACTGTAGG': 309, 'CGCATTACG': 309, 'ATTACGCGT': 309, 'GCGCTTCGC': 308, 'GTCTGCTTC': 308, 'ATGAAATTT': 308, 'TCATTCATC': 306, 'AGTCATTCA': 306, 'GACAGTCAT': 306, 'TCGTGGACA': 306, 'CATTCATCT': 306, 'TGGACAGTC': 306, 'GTCGTGGAC': 306, 'ACAGTCATT': 306, 'GTCATTCAT': 306, 'GGACAGTCA': 306, 'GTGGACAGT': 306, 'CGTGGACAG': 306, 'CAGTCATTC': 306, 'AAAGCGGTT': 302, 'AAGCGGTTG': 302, 'AGCGGTTGA': 302, 'AGCTGGATG': 299, 'CTGGCGGCG': 297, 'CCGATAAGC': 294, 'TGACCGATA': 294, 'AACCCGCCG': 294, 'ACCGATAAG': 294, 'GATAAGCCG': 294, 'AAACTGACC': 294, 'CTGACCGAT': 294, 'AAACCCGCC': 294, 'GACCGATAA': 294, 'AACTGACCG': 294, 'CGATAAGCC': 294, 'ACTGACCGA': 294, 'CGCCGCGCC': 293, 'GCCGAGGAT': 293, 'AATTTGTAG': 287, 'ATTTGTAGG': 287, 'GAATTTGTA': 287, 'GCGACCAGC': 286, 'TGCGTATCG': 284, 'GCCGCCAGT': 281, 'GGCTGGCGT': 272, 'GCTGACGCC': 269, 'TCAGTTGGT': 268, 'TAGAGCACG': 268, 'GAGCACGAC': 268, 'GCGGGAATA': 268, 'AGCACGACC': 268, 'TCGGGGTCG': 268, 'AGTTCGAGT': 268, 'GTCTCGTTT': 268, 'GAATAGCTC': 268, 'ATAGCTCAG': 268, 'TGCCAAGGT': 268, 'AGGTCGGGG': 268, 'AGAGCACGA': 268, 'GTAGAGCAC': 268, 'TTTCCCGCT': 268, 'CGTTTCCCG': 268, 'TGGTAGAGC': 268, 'CGGGAATAG': 268, 'ACGACCTTG': 268, 'CCGCTCCAA': 268, 'TAGCTCAGT': 268, 'CGGGGTCGC': 268, 'TTCCCGCTC': 268, 'GGAATAGCT': 268, 'TTCGAGTCT': 268, 'AGTCTCGTT': 268, 'AGCTCAGTT': 268, 'GTTTCCCGC': 268, 'CCTTGCCAA': 268, 'TTGCCAAGG': 268, 'CTTGCCAAG': 268, 'GGTCGCGAG': 268, 'GGGTCGCGA': 268, 'GGTCGGGGT': 268, 'TCGAGTCTC': 268, 'GGGAATAGC': 268, 'GCTCAGTTG': 268, 'TCGCGAGTT': 268, 'CGCGAGTTC': 268, 'CTCAGTTGG': 268, 'AGTTGGTAG': 268, 'GCCAAGGTC': 268, 'GGGGTCGCG': 268, 'CGCTCCAAA': 268, 'GTTGGTAGA': 268, 'TCCCGCTCC': 268, 'CGACCTTGC': 268, 'TTGGTAGAG': 268, 'CCAAGGTCG': 268, 'GAGTCTCGT': 268, 'CACGACCTT': 268, 'GGTAGAGCA': 268, 'GTCGCGAGT': 268, 'AAGGTCGGG': 268, 'CAAGGTCGG': 268, 'CTCGTTTCC': 268, 'CCCGCTCCA': 268, 'CGAGTTCGA': 268, 'GTCGGGGTC': 268, 'GTTCGAGTC': 268, 'ACCTTGCCA': 268, 'CGAGTCTCG': 268, 'GACCTTGCC': 268, 'GAGTTCGAG': 268, 'AATAGCTCA': 268, 'TCTCGTTTC': 268, 'GCGAGTTCG': 268, 'TCGTTTCCC': 268, 'CAGTTGGTA': 268, 'GCACGACCT': 268, 'AACAGCACG': 266, 'TGAATCAGC': 266, 'GCTTCTCAT': 264, 'TTCTCATCC': 264, 'CTTCTCATC': 264, 'GGCCTACAA': 259, 'TCGTACGAG': 258, 'ATATGGCGG': 258, 'GTACTTTCG': 258, 'CGAGCTCTT': 258, 'TCTTCTTTA': 258, 'AGCTCTTCT': 258, 'TGAGGGGGG': 258, 'ACGAAAAAA': 258, 'TAAATATGG': 258, 'CGAAAAAAA': 258, 'GGTGAGGGG': 258, 'TTAAATATG': 258, 'GGGGGGGAT': 258, 'AAAAAAAAG': 258, 'CTTCTTTAA': 258, 'AGGGGGGGA': 258, 'ATGGCGGTG': 258, 'TATGGCGGT': 258, 'AAAAAGCCC': 258, 'GGTGTGTGC': 258, 'TTCTTTAAA': 258, 'TGTGCAATA': 258, 'AAAAGCCCG': 258, 'CTTTAAATA': 258, 'CCCGGTGTG': 258, 'TGGCGGTGA': 258, 'TTCGTACGA': 258, 'TCTTTAAAT': 258, 'GGCGGTGAG': 258, 'TACGAGCTC': 258, 'CGTACTTTC': 258, 'GGGGGGATT': 258, 'CGTACGAGC': 258, 'AGCCCGTAC': 258, 'AATATGGCG': 258, 'CTTTCGTAC': 258, 'GTACGAGCT': 258, 'GTGAGGGGG': 258, 'AAATATGGC': 258, 'AAAAAAGCC': 258, 'ACGAGCTCT': 258, 'GTGTGCAAT': 258, 'CGGTGTGTG': 258, 'CCGTACTTT': 258, 'GAAAAAAAA': 258, 'CCGGTGTGT': 258, 'CTCTTCTTT': 258, 'TACTTTCGT': 258, 'AAAGCCCGT': 258, 'TTTAAATAT': 258, 'TGTGTGCAA': 258, 'TTTCGTACG': 258, 'GCGGTGAGG': 258, 'CCCGTACTT': 258, 'GTGTGTGCA': 258, 'GCCCGTACT': 258, 'GAGCTCTTC': 258, 'AAAAAAAGC': 258, 'AAGCCCGTA': 258, 'CGGTGAGGG': 258, 'GCTCTTCTT': 258, 'ACTTTCGTA': 258, 'CGCTCGGCA': 257, 'AGGCCTACA': 256, 'AGGGGGGGG': 255, 'ACACTAACA': 255, 'CTGAAGCTA': 255, 'CACCTGAAG': 255, 'GGGACTTGA': 255, 'CTTGAACCC': 255, 'GTGCGAGGG': 255, 'CCTGAAGCT': 255, 'TGAACCCCC': 255, 'CTAACACCT': 255, 'GCGAGGGGG': 255, 'GTCCGTAAG': 255, 'GCTAGCGCG': 255, 'AGCGCGTCT': 255, 'GGACTTGAA': 255, 'ACTTGAACC': 255, 'CCACCTTCG': 255, 'CGAGGGGGG': 255, 'GAAGCTAGC': 255, 'CCAATTCCG': 255, 'AACACCTGA': 255, 'GGGGACTTG': 255, 'TGCGAGGGG': 255, 'CCCACGTCC': 255, 'TCCGCCACC': 255, 'GTCTACCAA': 255, 'CGCGTCTAC': 255, 'TAGCGCGTC': 255, 'CACGTCCGT': 255, 'ACCAATTCC': 255, 'CAATTCCGC': 255, 'TGAAGCTAG': 255, 'TTGAACCCC': 255, 'GGTGCGAGG': 255, 'CTAGCGCGT': 255, 'GAACCCCCA': 255, 'ACGTCCGTA': 255, 'GGGGGGGGA': 255, 'TGGTGCGAG': 255, 'AACCCCCAC': 255, 'GCCACCTTC': 255, 'AAGCTAGCG': 255, 'GGGGGGACT': 255, 'ACCTGAAGC': 255, 'ACCCCCACG': 255, 'GACTTGAAC': 255, 'CTACCAATT': 255, 'CCCCCACGT': 255, 'CCACGTCCG': 255, 'GCGTCTACC': 255, 'CGTCTACCA': 255, 'ATTCCGCCA': 255, 'CCGCCACCT': 255, 'AGCTAGCGC': 255, 'TTCCGCCAC': 255, 'ACACCTGAA': 255, 'CCCCACGTC': 255, 'GGGGGACTT': 255, 'GCGCGTCTA': 255, 'GGGGGGGAC': 255, 'CGCCACCTT': 255, 'CGTCCGTAA': 255, 'TAACACCTG': 255, 'CACCTTCGC': 255, 'ACTAACACC': 255, 'TACCAATTC': 255, 'TTGGTGCGA': 255, 'AATTCCGCC': 255, 'CACTAACAC': 255, 'TCTACCAAT': 255, 'GTGCTTCTT': 254, 'TGAACTGGC': 254, 'CGTGCTTCT': 254, 'TGCTTCTTC': 254, 'ACGCTCTTT': 247, 'GGGGAACAC': 246, 'CGGCGCGAG': 245, 'CGGCACTGG': 245, 'GACATTATT': 245, 'TGGCAACAG': 245, 'AAGATGCGC': 245, 'TGGAGTTTG': 245, 'TCCGACATT': 245, 'GCGAGCGCC': 245, 'ATTGCGGCA': 245, 'ATCGCATCC': 245, 'ATAAGATGC': 245, 'TTTGGCAAC': 245, 'GATGCGCAA': 245, 'GCGGCGCGA': 245, 'ACTGGAGTT': 245, 'TAAGATGCG': 245, 'TGCGGCACT': 245, 'GCGCCTTAT': 245, 'GGCGCGAGC': 245, 'ATGCGCAAG': 245, 'GGATAAGAT': 245, 'GCGCGAGCG': 245, 'CCGACATTA': 245, 'TATTGCGGC': 245, 'AGTTTGGCA': 245, 'TTGCGGCAC': 245, 'GAGCGCCTT': 245, 'GTTTGGCAA': 245, 'CGCTGTAAT': 245, 'CGAGCGCCT': 245, 'GCACTGGAG': 245, 'TTGGCAACA': 245, 'ACATTATTG': 245, 'CATTATTGC': 245, 'GCGGCACTG': 245, 'GGAGTTTGG': 245, 'CGACATTAT': 245, 'CGCGAGCGC': 245, 'CTGGAGTTT': 245, 'ATTATTGCG': 245, 'ATGCGGCGC': 245, 'CACTGGAGT': 245, 'TTATTGCGG': 245, 'GATAAGATG': 245, 'GAGTTTGGC': 245, 'TGCGGCGCG': 245, 'GGCACTGGA': 245, 'AGCGCCTTA': 245, 'AGATGCGCA': 245, 'GGCGCTGGC': 243, 'CGGGGAACA': 242, 'TCAGCGCCT': 240, 'GCAGAAGCA': 240, 'ATCAGGCAG': 239, 'CGAACCTCC': 239, 'TTGTAGGCC': 239, 'TTTGTAGGC': 238, 'TCAGGCAGT': 237, 'GGCCTACGA': 237, 'TCGAACCTC': 237, 'CGTTCTTTA': 233, 'CTGAAAGAA': 231, 'CGGCAACGC': 224, 'ATCCAGCGT': 221, 'ATTCTGGTG': 221, 'TATCCAGCG': 221, 'CGCTTTGTT': 218, 'GCTTTGTTG': 218, 'AAATGGCGG': 215, 'GCGTTCACG': 213, 'CCGACATCA': 213, 'TAGCGTCGC': 213, 'CGACATCAA': 213, 'GCAACCAAT': 212, 'TTAGCGTGA': 211, 'TGATTTTGT': 211, 'AGCGCAATA': 211, 'CGCCAGACA': 211, 'CCTACGCCA': 211, 'CTACGCCAG': 211, 'CCTGATTTA': 211, 'CGCAACCAA': 211, 'TTTTGTAGG': 211, 'TGATTTAGC': 211, 'GACAGCGCA': 211, 'TTTGTAGGT': 211, 'AGGCGTTTA': 211, 'AGCCTGATT': 211, 'GCCTACGCC': 211, 'ACAGCGCAA': 211, 'GCGTGATTT': 211, 'CAGCGCAAT': 211, 'GCAATAGCC': 211, 'CGCAATAGC': 211, 'GTGATTTTG': 211, 'CAATAGCCT': 211, 'GCGCAATAG': 211, 'AGCGTGATT': 211, 'ATAGCCTGA': 211, 'ATTTAGCGT': 211, 'CAGACAGCG': 211, 'AGACAGCGC': 211, 'GGCCTACGC': 211, 'CCAGACAGC': 211, 'TAGCCTGAT': 211, 'ACGCCAGAC': 211, 'CTGATTTAG': 211, 'AAGGCGTTT': 211, 'TAGCGTGAT': 211, 'TTGTAGGTC': 211, 'CGTGATTTT': 211, 'GATTTAGCG': 211, 'TACGCCAGA': 211, 'AATAGCCTG': 211, 'TTTAGCGTG': 211, 'ATTTTGTAG': 211, 'GCCAGACAG': 211, 'GCCTGATTT': 211, 'GATTTTGTA': 211, 'CCGCAACCA': 210, 'TAGGGCAGA': 209, 'CCCGCAACC': 209, 'TGATGTTGC': 209, 'CATTCTGAT': 208, 'ATCTGCGCA': 208, 'CCCCGCAAC': 208, 'CCCCCGCAA': 207, 'GCCCCCGCA': 206, 'TGCGCCTGT': 206, 'CATGCCGAC': 206, 'CTGCGCCTG': 206, 'GGCCCCCGC': 205, 'CGGCCCCCG': 204, 'CTACATGTG': 204, 'TCGAACCCC': 203, 'CCGGCCCCC': 203, 'CCTACATGT': 203, 'CCCTACATG': 202, 'TCCGGCCCC': 202, 'GCCCTACAT': 201, 'ATCCGGCCC': 201, 'GTTCGCCAC': 200, 'CGCCCTACA': 200, 'AATCCGGCC': 200, 'AAATCCGGC': 199, 'GAACCGTAG': 199, 'ACCGTAGGC': 199, 'GTGCCGAAC': 199, 'CGAACCGTA': 199, 'AACCGTAGG': 199, 'TGCCGAACC': 199, 'ATCCGGCAG': 199, 'GCCGAACCG': 199, 'TCCGGCAGT': 199, 'AAGGCGTTC': 199, 'CCGAACCGT': 199, 'TGTGCCGAA': 199, 'CCGCCCTAC': 199, 'TCCGCCCTA': 198, 'CAAATCCGG': 198, 'ATCCGCCCT': 197, 'CCACCTCTT': 197, 'TCAAATCCG': 197, 'AAAATATTT': 196, 'TGATGAAGC': 196, 'TTCAAATCC': 196, 'GCACGACTG': 196, 'TATCCGCCC': 196, 'TTATCCGCC': 195, 'GCGCTACGG': 195, 'GTTCAAATC': 195, 'CGCTACGGC': 195, 'CTTATCCGC': 194, 'GGTTCAAAT': 194, 'CGGTTCAAA': 193, 'TCGGTTCAA': 192, 'AAGCGTCGC': 192, 'CAGCTCCGG': 191, 'GCAGCTCCG': 191, 'AGCTCCGGC': 191, 'GTCGGTTCA': 191, 'CGTCGGTTC': 190, 'CAAGCGTCG': 190, 'CTGGCTGGC': 189, 'TCGTCGGTT': 189, 'TGCTGAAAC': 188, 'GTCGTCGGT': 188, 'GCTGATTGC': 188, 'GCAAGCGTC': 188, 'GGTCGTCGG': 187, 'TGCGGCGTA': 187, 'CGCAAGCGT': 186, 'AGGTCGTCG': 186, 'GCGGCGTAA': 185, 'AAGGTCGTC': 185, 'GAAGGTCGT': 184, 'GCGCAAGCG': 184, 'GTTGACGGC': 184, 'CGAAGGTCG': 183, 'CGGCGTAAA': 183, 'CCGAAGGTC': 182, 'CGCGCAAGC': 182, 'CCCGAAGGT': 181, 'GGCGTAAAC': 181, 'ACCCGAAGG': 180, 'ACGCGCAAG': 180, 'AACCCGAAG': 179, 'GCGTAAACG': 179, 'GACGCGCAA': 178, 'TAACCCGAA': 178, 'CTGATAAGC': 178, 'CGTAAACGC': 177, 'ATAACCCGA': 177, 'CATAACCCG': 176, 'TGATAAGCG': 176, 'AGACGCGCA': 176, 'ACGCTGTCG': 175, 'TCATAACCC': 175, 'CGGCAATCA': 175, 'TGTCGCGTC': 175, 'CGCTGTCGC': 175, 'TCAATGCCT': 175, 'GACGCTGTC': 175, 'CCTACAACT': 175, 'GCCTACAAC': 175, 'TTGCCGACC': 175, 'GCTGTCGCG': 175, 'ATCAATGCC': 175, 'GTAAACGCC': 175, 'CAATCAATG': 175, 'AATCAATGC': 175, 'CAATGCCTG': 175, 'CTGTCGCGT': 175, 'CGACGCTGT': 175, 'TCGCGTCTT': 175, 'GCGGATGCG': 175, 'GGCAATCAA': 175, 'TCCGGCAAT': 175, 'GTCGCGTCT': 175, 'GCAATCAAT': 175, 'CCGGCAATC': 175, 'GATAAGCGT': 174, 'CTCATAACC': 174, 'GGCGGATGC': 174, 'GCTGGCGAT': 173, 'TAAACGCCT': 173, 'TGGCGGATG': 173, 'GCTCATAAC': 173, 'ATAAGCGTA': 172, 'GGCTCATAA': 172, 'GGGCTCATA': 171, 'GCCAGCCAC': 171, 'AAACGCCTT': 171, 'TAAGCGTAG': 170, 'CGGGCTCAT': 170, 'TCGGGCTCA': 169, 'AAAAGCGGC': 169, 'GTCGGGCTC': 168, 'AAGCGTAGC': 168, 'CGTCGGGCT': 167, 'GATTGCCGA': 167, 'CAGAAGCAG': 166, 'AGCGTAGCG': 166, 'TCGTCGGGC': 166, 'CTCGTCGGG': 165, 'GCGTAGCGC': 164, 'AATCTGGCA': 164, 'GCTCGTCGG': 164, 'AGCTCGTCG': 163, 'TAGCTCGTC': 162, 'CGTAGCGCA': 162, 'GTAGCTCGT': 161, 'GGTAGCTCG': 160, 'GTAGCGCAT': 160, 'TGGTAGCTC': 159, 'TAGCGCATC': 158, 'GCAGAGAAG': 158, 'CTGGTAGCT': 158, 'GGGAATTTG': 157, 'GCGGGAATT': 157, 'CCTGGTAGC': 157, 'CGGGAATTT': 157, 'GGAATTTGT': 157, 'GTGCGGGAA': 157, 'GGTGCGGGA': 157, 'TGCGGGAAT': 157, 'CACGCTGCC': 157, 'GCCTACGGA': 157, 'AGCGCATCA': 156, 'GCCTGGTAG': 156, 'TTCCGGGTA': 155, 'GCGCCAGTT': 155, 'AGCCTGGTA': 155, 'GCGCATCAG': 154, 'CAGCCTGGT': 154, 'AAAAATGAT': 154, 'GCAGCCTGG': 153, 'TTTACCGCT': 153, 'AGCAGCCTG': 152, 'GTTGCCGGA': 152, 'CCTTCCCCG': 151, 'TCTCTCGCT': 151, 'CCCTTCGGG': 151, 'CGTTGCCTG': 151, 'TGGAGCAGC': 150, 'GGGTGGAGC': 150, 'GGGGTGGAG': 150, 'ACGCGGGGT': 150, 'GGTGGAGCA': 150, 'GTGGAGCAG': 150, 'GACGCGGGG': 150, 'GGAGCAGCC': 150, 'CGGGGTGGA': 150, 'GCGGGGTGG': 150, 'CGCGGGGTG': 150, 'CGCTGAAAG': 149, 'ATCAGGCAT': 148, 'TCCAGACGA': 147, 'TATAAAATA': 146, 'CTGCTCCCT': 143, 'TGCTCCCTT': 143, 'CAGCGTCGC': 142, 'TGAAACTGA': 141, 'ACCCACCAC': 141, 'CGTTGCTGC': 140, 'CACCAGCGC': 137, 'GAAGGATTA': 136, 'GTCGTTGCC': 135, 'AACGCTCTC': 135, 'TCGAAGCTT': 135, 'GGTCGTTGC': 135, 'AGGATTACT': 135, 'TTACTCAGC': 135, 'ATCCTTCCC': 135, 'CTTCGGGTC': 135, 'GGCAACGCT': 135, 'TGCGGATTC': 135, 'GAAGCTTCT': 135, 'TGCGGCAAC': 135, 'TTGCCTGCG': 135, 'CGCTTCGCC': 135, 'GTTGCCTGC': 135, 'GGCAGAATA': 135, 'GTCGAAGCT': 135, 'AATGGCGCT': 135, 'CGCGCTTCG': 135, 'CTCTCTCGC': 135, 'CTCATCCTT': 135, 'ACGCTCTCT': 135, 'AAATGGCGC': 135, 'TACTCAGCG': 135, 'GCTCTCTCG': 135, 'TGCGCGCTT': 135, 'TCCTTCCCC': 135, 'GCGCGCTTC': 135, 'TCGCCCTTC': 135, 'TGCCTGCGG': 135, 'CTCAGCGCT': 135, 'CTGCGGCAA': 135, 'ATTACTCAG': 135, 'CGGGTCGTT': 135, 'TTCGGGTCG': 135, 'ATTGCGGAT': 135, 'TCATCCTTC': 135, 'GCCTGCGGC': 135, 'CCTGCGGCA': 135, 'GCTGCGCGC': 135, 'GATTACTCA': 135, 'AGCGCTGCG': 135, 'CGAAGCTTC': 135, 'CAGAATATT': 135, 'CTCTCGCTG': 135, 'GCAGAATAT': 135, 'AGCTTCTCA': 135, 'TCGGGTCGT': 135, 'TCGTTGCCT': 135, 'CAACGCTCT': 135, 'GCGCTGCGC': 135, 'CTTCGCCCT': 135, 'CCTTCGGGT': 135, 'CGCTGCGCG': 135, 'GGGTCGTTG': 135, 'GCGGCAACG': 135, 'GGGCAGAAT': 135, 'ACTCAGCGC': 135, 'GCTTCGCCC': 135, 'TCAGCGCTG': 135, 'TGGGCAGAA': 135, 'CATCCTTCC': 135, 'CAGCGCTGC': 135, 'CTGCGCGCT': 135, 'GGATTACTC': 135, 'CGCCCTTCG': 135, 'TTGCGGATT': 135, 'AAGGATTAC': 135, 'AGAATATTT': 135, 'TCTCATCCT': 135, 'TTCGCCCTT': 135, 'CTTCCCCGC': 135, 'GCCCTTCGG': 135, 'AAGCTTCTC': 135, 'GCGGATTCG': 135, 'GCAACGCTC': 135, 'CGCTCTCTC': 135, 'CTGGCAGTC': 134, 'ACAAACGCA': 133, 'GGCGCTGGA': 132, 'TGATCCAGT': 132, 'TTCGAATCC': 131, 'CGACGCGGC': 131, 'ACGACGCGG': 131, 'GTTCGAATC': 131, 'GAAAGCCAG': 131, 'GGTTCGAAT': 131, 'TCAGGCATC': 130, 'CGCGTTAGC': 130, 'CAGGCATCT': 130, 'ACGCGTTAG': 130, 'GTTAGCGTC': 130, 'GACGCGTTA': 130, 'AAGACGCGT': 130, 'AGACGCGTT': 130, 'TTAGCGTCG': 130, 'GCGTTAGCG': 130, 'GGCATCTGC': 130, 'CGTTAGCGT': 130, 'AGGCATCTG': 130, 'CAGCCCGCT': 129, 'TGGCTGTCG': 129, 'CCCCCCGGT': 129, 'CCCGCTCAC': 129, 'CTCACTGCG': 129, 'GCCAGTTGT': 129, 'GCGGGCAGC': 129, 'GGGGATTGA': 129, 'ACTGGCTGT': 129, 'CTGCGTTCA': 129, 'GGGATTGAC': 129, 'TCGCCAGTT': 129, 'TTCGCTCGC': 129, 'CGGTCGGGG': 129, 'GTCTGTCCA': 129, 'TTCACGGTC': 129, 'AGTTGTCGA': 129, 'TCTGTCCAA': 129, 'CTTCGCTCG': 129, 'TGTCCAACT': 129, 'CGGTCTGTC': 129, 'CTGTCCAAC': 129, 'CGCCCTGCG': 129, 'CCGGTCGGG': 129, 'CCCCGGTCG': 129, 'GTCGGGGCT': 129, 'CAACTGGCT': 129, 'GGTCTGTCC': 129, 'TCGGGGCTT': 129, 'GCTTCGCTC': 129, 'GGCAGCCCG': 129, 'GCTCACTGC': 129, 'CTGCGGGCA': 129, 'ATTGACTCG': 129, 'CTGTCGCCA': 129, 'CGTTCACGG': 129, 'TCACGGTCT': 129, 'GCTGTCGCC': 129, 'CTCGCCCTG': 129, 'TCACTGCGT': 129, 'CCAACTGGC': 129, 'TGCGTTCAC': 129, 'GCAGCCCGC': 129, 'GCCCGCTCA': 129, 'GTCGCCAGT': 129, 'GGCTTCTCA': 129, 'TGTCGCCAG': 129, 'TGCGGGCAG': 129, 'GGGCTTCTC': 129, 'TCCCCCCGG': 129, 'ATCCCCCCG': 129, 'GGTCGGGGC': 129, 'TCCAACTGG': 129, 'GGGGCTTCT': 129, 'CTCGCTTCG': 129, 'CTCATCCCC': 129, 'ACTCGCTTC': 129, 'GACTCGCTT': 129, 'TTGACTCGC': 129, 'GTTCACGGT': 129, 'GGGGGATTG': 129, 'CGCCAGTTG': 129, 'GGGCAGCCC': 129, 'TCGCCCTGC': 129, 'CACTGCGTT': 129, 'CCAGTTGTC': 129, 'CGCTTCGCT': 129, 'GTCCAACTG': 129, 'TGACTCGCT': 129, 'CTTTTGAAA': 129, 'CGGGCAGCC': 129, 'CACGGTCTG': 129, 'GCTCGCCCT': 129, 'AACTGGCTG': 129, 'CCCCGGTGT': 129, 'CCCTGCGGG': 129, 'ACTGCGTTC': 129, 'CGGGGCTTC': 129, 'CCCCCGGTG': 129, 'TCGCTTCGC': 129, 'TCTCATCCC': 129, 'CCGCTCACT': 129, 'CCTGCGGGC': 129, 'CGCTCGCCC': 129, 'CCCGGTCGG': 129, 'GGCTGTCGC': 129, 'CGCTCACTG': 129, 'AGCCCGCTC': 129, 'GATTGACTC': 129, 'CAGTTGTCG': 129, 'TCATCCCCC': 129, 'CATCCCCCC': 129, 'CTGGCTGTC': 129, 'GCCCTGCGG': 129, 'GGATTGACT': 129, 'TCGCTCGCC': 129, 'ACGGTCTGT': 129, 'TTTTGAAAG': 128, 'CCAGCTCTT': 128, 'TTTGAAAGT': 127, 'TTGAAAGTG': 126, 'ATCAGCACC': 125, 'GATCAGCAC': 125, 'CCGCAGGCG': 125, 'TGAAAGTGA': 125, 'GAAAGTGAT': 124, 'ATTCATCTT': 124, 'AAAGTGATG': 123, 'AAGTGATGG': 122, 'GGCGCAGGC': 122, 'AGTGATGGT': 121, 'ATACAGCGA': 121, 'GTGATGGTG': 120, 'TGATGGTGG': 119, 'GCTGGCAGT': 116, 'GCGCCGCTG': 116, 'CGCCGCTGA': 116, 'TACGCCGCA': 114, 'GGTAAAGTG': 113, 'GAAAGAAGC': 113, 'ATAAAATAT': 113, 'GTTGCCAGG': 113, 'AAAGAAGCT': 113, 'TTACGCCGC': 112, 'ATGAAGCAA': 111, 'AAAAATTGA': 111, 'CGCAAGCTG': 111, 'ACGGATGCA': 111, 'GCCGCCGCC': 110, 'TACGGATGC': 110, 'GTTACGCCG': 110, 'CTACGGATG': 109, 'GCAAGCTGG': 109, 'CTGGCGGCA': 109, 'GGTTACGCC': 108, 'GCTACGGAT': 108, 'CACGACGTT': 107, 'ACGACGTTC': 107, 'TCACGACGT': 107, 'GATCGGTTC': 107, 'CAAGCTGGA': 107, 'TAAATATTG': 107, 'AGCTACGGA': 107, 'GAGCTACGG': 106, 'CGGTTACGC': 106, 'TGAGCTACG': 105, 'AAGCTGGAA': 105, 'CTGAGCTAC': 104, 'GCGGTTACG': 104, 'AGCTGGAAC': 103, 'AGGTTTTCC': 102, 'TTCGAACCT': 102, 'GCTGAGCTA': 102, 'GGCGGTTAC': 102, 'GCTGGAACA': 101, 'CCGTCGAAG': 101, 'CGTCGAAGC': 101, 'GCCGTCGAA': 101, 'AGCTGAGCT': 100, 'AGGCGGTTA': 100, 'CTGGAACAG': 99, 'GCTATAGCC': 99, 'AAGGCGGTT': 98, 'TTCACGACG': 98, 'CAGCTGAGC': 98, 'CCGTAGGTC': 97, 'TGGAACAGC': 97, 'CCAGCTGAG': 96, 'AAGCAGAAG': 96, 'TAAGGCGGT': 96, 'ATAAGGCGG': 94, 'AGCAGAAGC': 94, 'TCCAGCTGA': 94, 'ATCCAGCTG': 92, 'ACAGCAACA': 92, 'GCTGCTGCT': 92, 'GTTAAATAA': 91, 'CAGCAACAG': 91, 'AGCAACAGG': 90, 'TATCCAGCT': 90, 'GCAACAGGC': 89, 'CAACAGGCT': 88, 'CTATCCAGC': 88, 'AACAGGCTA': 87, 'CGCTGGTGG': 87, 'ACAGGCTAA': 86, 'AGGCGTTCA': 86, 'TCTATCCAG': 86, 'CAGGCTAAT': 85, 'GGCGTTCAC': 85, 'GGGTGATTA': 85, 'ACCTACGGT': 85, 'CTCTATCCA': 84, 'GCGCTTTGC': 84, 'CGGATGCGC': 84, 'TTTGCTTAT': 84, 'GGATGCGCT': 84, 'ACAAAATCG': 84, 'GCCTACAAA': 84, 'CAAAATCGC': 84, 'TGCTTATCC': 84, 'TCAGGCGTT': 84, 'GCTTTGCTT': 84, 'CTACAAAAT': 84, 'AATCGCAGC': 84, 'CGGCCTACA': 84, 'GGTGATTAG': 84, 'CGCTTTGCT': 84, 'GATGCGCTT': 84, 'ATCGCAGCG': 84, 'TTGCTTATC': 84, 'GCTTATCCG': 84, 'CATCAGGCG': 84, 'GACCTACGG': 84, 'AGGCTAATG': 84, 'AAATCGCAG': 84, 'ATCAGGCGT': 84, 'AAAATCGCA': 84, 'CTTTGCTTA': 84, 'ATGCGCTTT': 84, 'TGCGCTTTG': 84, 'TACAAAATC': 84, 'CCTACAAAA': 84, 'ATCTTCTTC': 83, 'CGACCTACG': 83, 'GTGATTAGC': 83, 'CGTTCACGC': 83, 'GTTCACGCC': 82, 'ATAGCGTCG': 82, 'CCGACCTAC': 82, 'TGATTAGCT': 82, 'ACTCTATCC': 82, 'ACACCGCTG': 81, 'TTCACGCCG': 81, 'GCCTACACC': 81, 'CTACACCGC': 81, 'TACACCGCT': 81, 'CTGTGAAGT': 81, 'TCCGACCTA': 81, 'CATAGCGTC': 81, 'TGTGAAGTG': 81, 'ACCGCTGTG': 81, 'CCGCTGTGA': 81, 'CCTACACCG': 81, 'GCCAAAGCG': 81, 'GATTAGCTC': 81, 'CGCTGTGAA': 81, 'CACCGCTGT': 81, 'GCTGTGAAG': 81, 'GGCCTACAC': 81, 'ATCCGACCT': 80, 'ATTAGCTCA': 80, 'GCTGGCTGG': 80, 'CCAAAGCGC': 80, 'TACTCTATC': 80, 'GCATAGCGT': 80, 'CGGCGCTGG': 80, 'TCACGCCGC': 80, 'CCCTTACAA': 79, 'TCAGCTGGG': 79, 'ATCACCCAC': 79, 'GGTCGGCGG': 79, 'AGGGGGTCG': 79, 'CTCAGCTGG': 79, 'TCCCGTCAT': 79, 'CACCTCCCT': 79, 'CCCGTCATC': 79, 'CTGGGAGAG': 79, 'GGGTCGGCG': 79, 'AGCTCAGCT': 79, 'CAAGGAGGG': 79, 'CTTACAAGG': 79, 'GTCATCACC': 79, 'CTCCCTTAC': 79, 'GTTCGATCC': 79, 'AAGGAGGGG': 79, 'GATCCCGTC': 79, 'TTCGATCCC': 79, 'CGATCCCGT': 79, 'TCATCACCC': 79, 'CAAAGCGCG': 79, 'TACAAGGAG': 79, 'TAGCTCAGC': 79, 'TTACAAGGA': 79, 'CACCCACCA': 79, 'GTCGGCGGT': 79, 'ACAAGGAGG': 79, 'CAGCTGGGA': 79, 'AGCACCTCC': 79, 'AGGAGGGGG': 79, 'GCGGTTCGA': 79, 'TGGGAGAGC': 79, 'TATCCGACC': 79, 'GGTTCGATC': 79, 'GGGGTCGGC': 79, 'GCTCAGCTG': 79, 'TCCCTTACA': 79, 'AGCTGGGAG': 79, 'GGAGAGCAC': 79, 'GGGAGAGCA': 79, 'GGCGGTTCG': 79, 'CCGTCATCA': 79, 'GCACCTCCC': 79, 'CATCACCCA': 79, 'TCACCCACC': 79, 'GGGGGTCGG': 79, 'CCTCCCTTA': 79, 'AGAGCACCT': 79, 'CGCATAGCG': 79, 'TCGATCCCG': 79, 'GGAGGGGGT': 79, 'ACCTCCCTT': 79, 'CGTCATCAC': 79, 'CACGCCGCA': 79, 'GAGGGGGTC': 79, 'TCGGCGGTT': 79, 'GAGCACCTC': 79, 'CGGTTCGAT': 79, 'ATCCCGTCA': 79, 'CGGCGGTTC': 79, 'GAGAGCACC': 79, 'GCTGGGAGA': 79, 'CCTTACAAG': 79, 'GTACTCTAT': 78, 'CTGGCAGTT': 78, 'ACGCATAGC': 78, 'GACGCATAG': 77, 'GCCAGCAGG': 77, 'AGACGCATA': 76, 'AGTACTCTA': 76, 'CGCTTCACC': 74, 'GAAGAGATC': 74, 'TATTGCCCG': 74, 'GAGTACTCT': 74, 'CTATTGCCC': 73, 'TGAACGCCT': 73, 'CGAGTACTC': 72, 'GCTATTGCC': 72, 'GAACGCCTT': 72, 'CAGGCAGTC': 71, 'CGGATACGG': 71, 'GGATACGGG': 71, 'GATACCCCA': 71, 'AGCAGTTGA': 71, 'GATACGGGC': 71, 'TGAAAGAAG': 71, 'GCGAAAGTG': 71, 'CGATACCCC': 70, 'AGGCAGTCG': 70, 'GAGTTAAAT': 70, 'CCGAGTACT': 70, 'GCGATACCC': 69, 'GGCAGTCGG': 69, 'GCAGTCGGC': 68, 'CCGCTGTTC': 68, 'GCCGAGTAC': 68, 'AAGAACAGC': 68, 'GGCGATACC': 68, 'GGAGTTAAA': 68, 'CAGTCGGCA': 67, 'TGGCGATAC': 67, 'ATAAGCCGC': 66, 'AGTCGGCAC': 66, 'TTGGCGATA': 66, 'AGGAGTTAA': 66, 'CAAATCAAC': 66, 'AGCCGAGTA': 66, 'CTTGGCGAT': 65, 'GAAAAAGCC': 65, 'TTTATCGCC': 65, 'TAAGCCGCT': 65, 'GAAACTGAC': 64, 'AAGCCGCTT': 64, 'TAGCCGAGT': 64, 'CAGGAGTTA': 64, 'GCTTGGCGA': 64, 'AACAGGTCG': 63, 'CGCTTGGCG': 63, 'AGCCGCTTT': 63, 'GTAGCCGAG': 62, 'CCGCTTGGC': 62, 'CCACCCCGT': 62, 'GTGAAACTG': 62, 'TGGCAATGG': 62, 'ACAGGTCGA': 62, 'GCCGCTTTC': 62, 'ACCGCTTGG': 61, 'GGTGAAACT': 61, 'TGCTGAAAA': 61, 'CAGGTCGAT': 61, 'TCTCACTCC': 61, 'CCGCTTTCT': 61, 'CTGCTGAAA': 60, 'TACCGCTTG': 60, 'CGCTTTCTT': 60, 'AGGTGAAAC': 60, 'AGGTCGATC': 60, 'ATACCGCTA': 60, 'TCCACCCCG': 60, 'CGTAGCCGA': 60, 'CGCCAGCAG': 59, 'CAGGTGAAA': 59, 'TTACCGCTT': 59, 'AAAGCGCGC': 59, 'GCTGCTGAA': 59, 'GGTCGATCC': 59, 'GCTTTCTTT': 59, 'CGCACAGCG': 58, 'TCGTAGCCG': 58, 'GCACAGCGT': 58, 'GTCGATCCG': 58, 'CTCCACCCC': 58, 'CTTACCGCT': 58, 'CTTTCTTTT': 58, 'ACAGCGTCG': 58, 'GTTTGTAGG': 58, 'ACGCACAGC': 58, 'AAGACGCAC': 58, 'CACAGCGTC': 58, 'GACGCACAG': 58, 'AGACGCACA': 58, 'TTATGTTCC': 57, 'TCGATCCGC': 57, 'TTTCTTTTG': 57, 'CGACGCTTG': 57, 'CCTTACCGC': 57, 'TATGTTCCG': 57, 'TTCGTAGCC': 56, 'TTCTTTTGG': 56, 'GCTCCACCC': 56, 'GCCTTACCG': 56, 'CGATCCGCG': 56, 'TGCCTTACC': 55, 'TCTTTTGGG': 55, 'ATATTAATA': 54, 'TGCTCCACC': 54, 'GTGCCTTAC': 54, 'CTTTTGGGT': 54, 'GTTCGTAGC': 54, 'AAAGCCGCC': 54, 'GGTTAACAA': 53, 'GGTGCCTTA': 53, 'TTTTGGGTA': 53, 'GGATGCATC': 52, 'CATCGGGAA': 52, 'CGGATGCAT': 52, 'GGTTCGTAG': 52, 'ATGCATCGG': 52, 'TGCATCGGG': 52, 'TTTGGGTAT': 52, 'GATGCATCG': 52, 'GCATCGGGA': 52, 'ATCGGGAAA': 52, 'CGGTGCCTT': 52, 'GTGCTCCAC': 52, 'TTGGGTATA': 51, 'CCGGTGCCT': 51, 'TGGGTATAG': 50, 'CGGTTCGTA': 50, 'AGTGCTCCA': 50, 'GGTGCACTG': 49, 'CGCAAAGCC': 49, 'TTACGTAAA': 49, 'TTTACGTAA': 48, 'AAGTGCTCC': 48, 'GCAAAGCCG': 48, 'GTGCACTGA': 48, 'TCGGTTCGT': 48, 'AGAATCTGT': 47, 'GCGGACTGA': 47, 'TGCACTGAA': 47, 'CAAAGCCGC': 47, 'TTTTACGTA': 47, 'GAATCTGTA': 46, 'TACGGGGTG': 46, 'TTTTTACGT': 46, 'GAAGTGCTC': 46, 'GCACTGAAC': 46, 'CTCGGTTCG': 46, 'AAGCCGCCG': 45, 'AATCTGTAG': 45, 'GTTTTTACG': 45, 'CTACGGGGT': 45, 'CACTGAACT': 45, 'GGTTTTTAC': 44, 'ATCTGTAGG': 44, 'AGCCGCCGT': 44, 'CCTACGGGG': 44, 'CTACCGCTA': 44, 'GCTACCGCT': 44, 'AAAGCGGCA': 44, 'GCTCGGTTC': 44, 'AACCAGCAG': 44, 'TGAAGTGCT': 44, 'GGGTTTTTA': 43, 'TCTGTAGGC': 43, 'ACCGTGCTG': 43, 'GCCTACGGG': 43, 'GCCGCCGTC': 43, 'CCGCCGTCG': 42, 'GCCAGCAGC': 42, 'CGGGTTTTT': 42, 'CGCTCGGTT': 42, 'CAGTTCCAG': 41, 'CCAGTTCCA': 41, 'GCGGGTTTT': 41, 'CGCCGTCGA': 41, 'CCGCTCGGT': 40, 'AGCGGGTTT': 40, 'GCTGCTGGC': 39, 'AAGCGGGTT': 39, 'ACCGCTCGG': 38, 'GAAGCGGGT': 38, 'CGAAGCGGG': 37, 'GTCGAAGCC': 37, 'TTGCCGCCG': 37, 'GACCGCTCG': 36, 'CCGAAGCGG': 36, 'TCGAAGCCG': 36, 'CGAAGCCGC': 35, 'CGCTGATTG': 35, 'GCCGAAGCG': 35, 'CGCCGAAGC': 34, 'GAAGCCGCT': 34, 'CGACCGCTC': 34, 'ATCGTTTGA': 34, 'CCGCCGAAG': 33, 'AAGCCGCTA': 33, 'TTGATACCG': 33, 'TGATACCGC': 32, 'CCGACCGCT': 32, 'AGCCGCTAT': 32, 'CCCGCCGAA': 32, 'GCCGCTATT': 31, 'GCGCTGCTC': 31, 'ACCCGCCGA': 31, 'GGACGGTGC': 31, 'GATACCGCT': 31, 'TCCGACCGC': 30, 'TGCCGACCT': 30, 'CCGCTATTG': 30, 'TGGCGCTGC': 29, 'CCTGGCGCT': 29, 'TACCGCTAC': 29, 'GCCGACCTG': 29, 'CGCGTCTGC': 29, 'CGCTATTGC': 29, 'GCGCGTCTG': 29, 'GACGGTGCT': 29, 'CTGGCGCTG': 29, 'TCTTATCAT': 28, 'CTCCAAAAG': 28, 'CTGCCCCTC': 28, 'CCGACCTGT': 28, 'CTCCGACCG': 28, 'ACCGCTACT': 28, 'GCCCCTCCA': 28, 'TGCCCCTCC': 28, 'ATCTTTCTG': 28, 'TCATCTTTC': 28, 'TTCTGCCCC': 28, 'CCCCTCCAA': 28, 'CATCTTTCT': 28, 'TTTCTGCCC': 28, 'AAAAACCCG': 28, 'TCTGCCCCT': 28, 'CCCTCCAAA': 28, 'TTCATCTTT': 28, 'AAAACCCGC': 28, 'CTTTCTGCC': 28, 'CCTCCAAAA': 28, 'TCTTTCTGC': 28, 'CTTATCATG': 27, 'CGACCTGTA': 27, 'TTGAAGTTG': 27, 'CCGCTACTA': 27, 'GCCGACCAG': 27, 'TGGCTGGGG': 27, 'GACCTGTAG': 26, 'TTATCATGC': 26, 'GGTGATGTT': 26, 'CCTCCGACC': 26, 'CGCTACTAA': 26, 'GGCTGGGGT': 25, 'ACCTGTAGG': 25, 'GCTACTAAA': 25, 'TGCAGCTGA': 25, 'TATCATGCC': 25, 'ACCTCCGAC': 24, 'ATCATGCCT': 24, 'CTACTAAAG': 24, 'CTGCAGCTG': 24, 'CCTGTAGGC': 24, 'GAATGCCGG': 24, 'GCTGGGGTA': 23, 'TCATGCCTA': 23, 'TACTAAAGC': 23, 'GCTGCAGCT': 23, 'CCGCTGACG': 23, 'CCACCAGCA': 23, 'CATGCCTAC': 22, 'AGCTGCAGC': 22, 'ACTAAAGCC': 22, 'GCCGCTGAC': 22, 'GGAATGCCG': 22, 'AACCTCCGA': 22, 'TTAAATGAT': 21, 'CTGGGGTAC': 21, 'ATGCCTACA': 21, 'CTGCCAGCG': 21, 'GAACCTCCG': 20, 'TGCGCCGCT': 19, 'ATGCGCCGC': 18, 'GGTTGCGCC': 18, 'CCCGGACGG': 17, 'TCAGGCATT': 17, 'GATGCGCCG': 17, 'GACATCAAC': 17, 'TGATAAAAA': 17, 'CGGTTGCGC': 17, 'CCGGACGGT': 16, 'CCGGTTGCG': 16, 'CAGGCATTT': 16, 'TGATGCGCC': 16, 'AGGCATTTG': 15, 'ACCCACCAA': 15, 'CGGACGGTG': 15, 'CTGATGCGC': 15, 'ACATCAACG': 15, 'TTTGTGCTG': 14, 'CTGGCGCAG': 14, 'AAAGCAGAA': 14, 'CATCAACGC': 13, 'GATAAGGCA': 13, 'GTTGCCGTT': 12, 'ATAAGGCAC': 12, 'AAGCGCGCA': 12, 'AGTTGCCGT': 12, 'TTGCCGTTA': 12, 'AGCGCGCAA': 11, 'TAAGGCACT': 11, 'ATCAACGCC': 11, 'AAGGCACTT': 10, 'AAGCGGCAG': 9, 'TCAACGCCT': 9, 'AGGCACTTG': 9, 'GGCACTTGT': 8, 'GCACTTGTG': 7, 'GACAACCGA': 7, 'ACGGCTGCC': 7, 'ACAACCGAT': 7, 'ACCGATGCC': 7, 'CGACAACCG': 7, 'AACCGATGC': 7, 'CCGACAACC': 7, 'CAACCGATG': 7, 'CAACGCCTG': 7, 'CGGCTGCCG': 6, 'CACTTGTGC': 6, 'AGGATTCGA': 6, 'AAACTGGCA': 6, 'TAAGAGATG': 5, 'GGCTGCCGG': 5, 'ACTTGTGCC': 5, 'AACGCCTGA': 5, 'GCTGCCGGA': 4, 'CCCACCAAT': 4, 'CAGCCACAA': 4, 'AAGAGATGG': 4, 'CTTGTGCCG': 4, 'GAGGATTCG': 4, 'ACGATATTA': 3, 'AGAGATGGT': 3, 'AAATGGCGA': 3, 'CAGCAGCCG': 3, 'ACGCCTGAT': 3, 'GCAGCCACA': 3, 'TTGTGCCGC': 3})"
       ]
      }
     ],
     "prompt_number": 343
    },
    {
     "cell_type": "code",
     "collapsed": false,
     "input": [
      "eData[1]"
     ],
     "language": "python",
     "metadata": {},
     "outputs": [
      {
       "metadata": {},
       "output_type": "pyout",
       "prompt_number": 341,
       "text": [
        "0"
       ]
      }
     ],
     "prompt_number": 341
    },
    {
     "cell_type": "code",
     "collapsed": false,
     "input": [],
     "language": "python",
     "metadata": {},
     "outputs": []
    }
   ],
   "metadata": {}
  }
 ]
}